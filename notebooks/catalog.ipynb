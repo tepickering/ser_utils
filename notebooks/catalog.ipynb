{
 "cells": [
  {
   "cell_type": "code",
   "execution_count": 1,
   "metadata": {},
   "outputs": [],
   "source": [
    "from pathlib import Path\n",
    "\n",
    "from astropy.io import ascii\n",
    "from astropy.coordinates import SkyCoord, ICRS\n",
    "import astropy.units as u"
   ]
  },
  {
   "cell_type": "code",
   "execution_count": 2,
   "metadata": {},
   "outputs": [],
   "source": [
    "star_list = Path(\"/home/tim/MMT/timdimm_tng/src/timdimm_tng/star.lst\")"
   ]
  },
  {
   "cell_type": "code",
   "execution_count": 3,
   "metadata": {},
   "outputs": [
    {
     "data": {
      "text/html": [
       "<div><i>Table length=132</i>\n",
       "<table id=\"table140476389427392\" class=\"table-striped table-bordered table-condensed\">\n",
       "<thead><tr><th>HR</th><th>Name</th><th>RA2000</th><th>Dec2000</th><th>Vmag</th><th>B-V</th><th>SED</th><th>SpType</th><th>Duplicity</th></tr></thead>\n",
       "<thead><tr><th>int64</th><th>str7</th><th>str8</th><th>str10</th><th>float64</th><th>float64</th><th>str3</th><th>str13</th><th>str9</th></tr></thead>\n",
       "<tr><td>936</td><td>Algol</td><td>3  8 10</td><td>+ 40 57 20</td><td>2.12</td><td>-0.05</td><td>A05</td><td>B8V</td><td>AD 82&quot; dm</td></tr>\n",
       "<tr><td>21</td><td>Caph</td><td>0  9 11</td><td>+ 59  8 59</td><td>2.27</td><td>0.34</td><td>F05</td><td>F2III-IV</td><td>31&quot; dm=11</td></tr>\n",
       "<tr><td>39</td><td>Algenib</td><td>0 13 14</td><td>+ 15 11  1</td><td>2.83</td><td>-0.23</td><td>B05</td><td>B2IV</td><td>AB 163&quot; d</td></tr>\n",
       "<tr><td>98</td><td>Bet Hyi</td><td>0 25 45</td><td>- 77 15 15</td><td>2.8</td><td>0.62</td><td>G05</td><td>G2IV</td><td>--</td></tr>\n",
       "<tr><td>99</td><td>Ankaa</td><td>0 26 17</td><td>- 42 18 22</td><td>2.39</td><td>1.09</td><td>K03</td><td>K0III</td><td>0.1&quot; dm=0</td></tr>\n",
       "<tr><td>168</td><td>Schedar</td><td>0 40 31</td><td>+ 56 32 14</td><td>2.23</td><td>1.17</td><td>K03</td><td>K0IIIa</td><td>AD 64&quot; dm</td></tr>\n",
       "<tr><td>188</td><td>Diphda</td><td>0 43 35</td><td>- 17 59 12</td><td>2.04</td><td>1.02</td><td>K03</td><td>G9.5IIICH-1</td><td>--</td></tr>\n",
       "<tr><td>403</td><td>Ruchbah</td><td>1 25 49</td><td>+ 60 14  7</td><td>2.68</td><td>0.13</td><td>A55</td><td>A5III-IV</td><td>132&quot; dm=8</td></tr>\n",
       "<tr><td>472</td><td>Acherna</td><td>1 37 43</td><td>- 57 14 12</td><td>0.46</td><td>-0.16</td><td>B55</td><td>B3Vpe</td><td>--</td></tr>\n",
       "<tr><td>553</td><td>Sherata</td><td>1 54 38</td><td>+ 20 48 29</td><td>2.64</td><td>0.13</td><td>A55</td><td>A5V</td><td>--</td></tr>\n",
       "<tr><td>...</td><td>...</td><td>...</td><td>...</td><td>...</td><td>...</td><td>...</td><td>...</td><td>...</td></tr>\n",
       "<tr><td>8162</td><td>Alderam</td><td>21 18 35</td><td>+ 62 35  8</td><td>2.44</td><td>0.22</td><td>A55</td><td>A7V</td><td>AB 207&quot; d</td></tr>\n",
       "<tr><td>8232</td><td>Sadalsu</td><td>21 31 34</td><td>-  5 34 16</td><td>2.91</td><td>0.83</td><td>G03</td><td>G0Ib</td><td>AB 36&quot; dm</td></tr>\n",
       "<tr><td>8308</td><td>Enif</td><td>21 44 11</td><td>+  9 52 30</td><td>2.39</td><td>1.53</td><td>K03</td><td>K2Ib</td><td>AC 143&quot; d</td></tr>\n",
       "<tr><td>8322</td><td>Deneb A</td><td>21 47  2</td><td>- 16  7 38</td><td>2.87</td><td>0.29</td><td>A05</td><td>Am</td><td>0.0&quot; dm=2</td></tr>\n",
       "<tr><td>8353</td><td>Gam Gru</td><td>21 53 56</td><td>- 37 21 54</td><td>3.01</td><td>-0.12</td><td>A05</td><td>B8III</td><td>--</td></tr>\n",
       "<tr><td>8414</td><td>Sadalme</td><td>22  5 47</td><td>-  0 19 11</td><td>2.96</td><td>0.98</td><td>G03</td><td>G2Ib</td><td>113&quot; dm=9</td></tr>\n",
       "<tr><td>8425</td><td>AlNair</td><td>22  8 14</td><td>- 46 57 40</td><td>1.74</td><td>-0.13</td><td>B55</td><td>B7IV</td><td>28&quot; dm=10</td></tr>\n",
       "<tr><td>8502</td><td>Alp Tuc</td><td>22 18 30</td><td>- 60 15 35</td><td>2.86</td><td>1.39</td><td>K53</td><td>K3III</td><td>0.1&quot; dm=0</td></tr>\n",
       "<tr><td>8728</td><td>Fomalha</td><td>22 57 39</td><td>- 29 37 20</td><td>1.16</td><td>0.09</td><td>A55</td><td>A3V</td><td>--</td></tr>\n",
       "<tr><td>8781</td><td>Markab</td><td>23  4 46</td><td>+ 15 12 19</td><td>2.49</td><td>-0.04</td><td>A05</td><td>B9V</td><td>--</td></tr>\n",
       "</table></div>"
      ],
      "text/plain": [
       "<Table length=132>\n",
       "  HR    Name   RA2000   Dec2000     Vmag    B-V   SED     SpType   Duplicity\n",
       "int64   str7    str8     str10    float64 float64 str3    str13       str9  \n",
       "----- ------- -------- ---------- ------- ------- ---- ----------- ---------\n",
       "  936   Algol  3  8 10 + 40 57 20    2.12   -0.05  A05         B8V AD 82\" dm\n",
       "   21    Caph  0  9 11 + 59  8 59    2.27    0.34  F05    F2III-IV 31\" dm=11\n",
       "   39 Algenib  0 13 14 + 15 11  1    2.83   -0.23  B05        B2IV AB 163\" d\n",
       "   98 Bet Hyi  0 25 45 - 77 15 15     2.8    0.62  G05        G2IV        --\n",
       "   99   Ankaa  0 26 17 - 42 18 22    2.39    1.09  K03       K0III 0.1\" dm=0\n",
       "  168 Schedar  0 40 31 + 56 32 14    2.23    1.17  K03      K0IIIa AD 64\" dm\n",
       "  188  Diphda  0 43 35 - 17 59 12    2.04    1.02  K03 G9.5IIICH-1        --\n",
       "  403 Ruchbah  1 25 49 + 60 14  7    2.68    0.13  A55    A5III-IV 132\" dm=8\n",
       "  472 Acherna  1 37 43 - 57 14 12    0.46   -0.16  B55       B3Vpe        --\n",
       "  553 Sherata  1 54 38 + 20 48 29    2.64    0.13  A55         A5V        --\n",
       "  ...     ...      ...        ...     ...     ...  ...         ...       ...\n",
       " 8162 Alderam 21 18 35 + 62 35  8    2.44    0.22  A55         A7V AB 207\" d\n",
       " 8232 Sadalsu 21 31 34 -  5 34 16    2.91    0.83  G03        G0Ib AB 36\" dm\n",
       " 8308    Enif 21 44 11 +  9 52 30    2.39    1.53  K03        K2Ib AC 143\" d\n",
       " 8322 Deneb A 21 47  2 - 16  7 38    2.87    0.29  A05          Am 0.0\" dm=2\n",
       " 8353 Gam Gru 21 53 56 - 37 21 54    3.01   -0.12  A05       B8III        --\n",
       " 8414 Sadalme 22  5 47 -  0 19 11    2.96    0.98  G03        G2Ib 113\" dm=9\n",
       " 8425  AlNair 22  8 14 - 46 57 40    1.74   -0.13  B55        B7IV 28\" dm=10\n",
       " 8502 Alp Tuc 22 18 30 - 60 15 35    2.86    1.39  K53       K3III 0.1\" dm=0\n",
       " 8728 Fomalha 22 57 39 - 29 37 20    1.16    0.09  A55         A3V        --\n",
       " 8781  Markab 23  4 46 + 15 12 19    2.49   -0.04  A05         B9V        --"
      ]
     },
     "execution_count": 3,
     "metadata": {},
     "output_type": "execute_result"
    }
   ],
   "source": [
    "t = ascii.read(star_list, format='fixed_width')\n",
    "t"
   ]
  },
  {
   "cell_type": "code",
   "execution_count": 4,
   "metadata": {},
   "outputs": [],
   "source": [
    "t['Coordinates'] = SkyCoord(t['RA2000'], t['Dec2000'], frame=ICRS, unit=(u.hourangle, u.deg))"
   ]
  },
  {
   "cell_type": "code",
   "execution_count": 15,
   "metadata": {},
   "outputs": [
    {
     "data": {
      "text/html": [
       "<div><i>Table length=132</i>\n",
       "<table id=\"table140393412461728\" class=\"table-striped table-bordered table-condensed\">\n",
       "<thead><tr><th>HR</th><th>Name</th><th>RA2000</th><th>Dec2000</th><th>Vmag</th><th>B-V</th><th>SED</th><th>SpType</th><th>Duplicity</th><th>Coordinates</th></tr></thead>\n",
       "<thead><tr><th></th><th></th><th></th><th></th><th></th><th></th><th></th><th></th><th></th><th>deg,deg</th></tr></thead>\n",
       "<thead><tr><th>int64</th><th>str7</th><th>str8</th><th>str10</th><th>float64</th><th>float64</th><th>str3</th><th>str13</th><th>str9</th><th>SkyCoord</th></tr></thead>\n",
       "<tr><td>936</td><td>Algol</td><td>3  8 10</td><td>+ 40 57 20</td><td>2.12</td><td>-0.05</td><td>A05</td><td>B8V</td><td>AD 82&quot; dm</td><td>47.04166666666666,40.955555555555556</td></tr>\n",
       "<tr><td>21</td><td>Caph</td><td>0  9 11</td><td>+ 59  8 59</td><td>2.27</td><td>0.34</td><td>F05</td><td>F2III-IV</td><td>31&quot; dm=11</td><td>2.295833333333333,59.14972222222222</td></tr>\n",
       "<tr><td>39</td><td>Algenib</td><td>0 13 14</td><td>+ 15 11  1</td><td>2.83</td><td>-0.23</td><td>B05</td><td>B2IV</td><td>AB 163&quot; d</td><td>3.308333333333333,15.18361111111111</td></tr>\n",
       "<tr><td>98</td><td>Bet Hyi</td><td>0 25 45</td><td>- 77 15 15</td><td>2.8</td><td>0.62</td><td>G05</td><td>G2IV</td><td>--</td><td>6.4375,-77.25416666666666</td></tr>\n",
       "<tr><td>99</td><td>Ankaa</td><td>0 26 17</td><td>- 42 18 22</td><td>2.39</td><td>1.09</td><td>K03</td><td>K0III</td><td>0.1&quot; dm=0</td><td>6.570833333333333,-42.30611111111111</td></tr>\n",
       "<tr><td>168</td><td>Schedar</td><td>0 40 31</td><td>+ 56 32 14</td><td>2.23</td><td>1.17</td><td>K03</td><td>K0IIIa</td><td>AD 64&quot; dm</td><td>10.129166666666665,56.53722222222222</td></tr>\n",
       "<tr><td>188</td><td>Diphda</td><td>0 43 35</td><td>- 17 59 12</td><td>2.04</td><td>1.02</td><td>K03</td><td>G9.5IIICH-1</td><td>--</td><td>10.895833333333332,-17.986666666666668</td></tr>\n",
       "<tr><td>403</td><td>Ruchbah</td><td>1 25 49</td><td>+ 60 14  7</td><td>2.68</td><td>0.13</td><td>A55</td><td>A5III-IV</td><td>132&quot; dm=8</td><td>21.454166666666662,60.23527777777778</td></tr>\n",
       "<tr><td>472</td><td>Acherna</td><td>1 37 43</td><td>- 57 14 12</td><td>0.46</td><td>-0.16</td><td>B55</td><td>B3Vpe</td><td>--</td><td>24.429166666666667,-57.236666666666665</td></tr>\n",
       "<tr><td>...</td><td>...</td><td>...</td><td>...</td><td>...</td><td>...</td><td>...</td><td>...</td><td>...</td><td>...</td></tr>\n",
       "<tr><td>8162</td><td>Alderam</td><td>21 18 35</td><td>+ 62 35  8</td><td>2.44</td><td>0.22</td><td>A55</td><td>A7V</td><td>AB 207&quot; d</td><td>319.6458333333333,62.58555555555556</td></tr>\n",
       "<tr><td>8232</td><td>Sadalsu</td><td>21 31 34</td><td>-  5 34 16</td><td>2.91</td><td>0.83</td><td>G03</td><td>G0Ib</td><td>AB 36&quot; dm</td><td>322.8916666666666,-5.571111111111111</td></tr>\n",
       "<tr><td>8308</td><td>Enif</td><td>21 44 11</td><td>+  9 52 30</td><td>2.39</td><td>1.53</td><td>K03</td><td>K2Ib</td><td>AC 143&quot; d</td><td>326.0458333333333,9.875</td></tr>\n",
       "<tr><td>8322</td><td>Deneb A</td><td>21 47  2</td><td>- 16  7 38</td><td>2.87</td><td>0.29</td><td>A05</td><td>Am</td><td>0.0&quot; dm=2</td><td>326.75833333333327,-16.127222222222223</td></tr>\n",
       "<tr><td>8353</td><td>Gam Gru</td><td>21 53 56</td><td>- 37 21 54</td><td>3.01</td><td>-0.12</td><td>A05</td><td>B8III</td><td>--</td><td>328.4833333333333,-37.365</td></tr>\n",
       "<tr><td>8414</td><td>Sadalme</td><td>22  5 47</td><td>-  0 19 11</td><td>2.96</td><td>0.98</td><td>G03</td><td>G2Ib</td><td>113&quot; dm=9</td><td>331.44583333333327,-0.3197222222222222</td></tr>\n",
       "<tr><td>8425</td><td>AlNair</td><td>22  8 14</td><td>- 46 57 40</td><td>1.74</td><td>-0.13</td><td>B55</td><td>B7IV</td><td>28&quot; dm=10</td><td>332.0583333333333,-46.961111111111116</td></tr>\n",
       "<tr><td>8502</td><td>Alp Tuc</td><td>22 18 30</td><td>- 60 15 35</td><td>2.86</td><td>1.39</td><td>K53</td><td>K3III</td><td>0.1&quot; dm=0</td><td>334.62499999999994,-60.25972222222222</td></tr>\n",
       "<tr><td>8728</td><td>Fomalha</td><td>22 57 39</td><td>- 29 37 20</td><td>1.16</td><td>0.09</td><td>A55</td><td>A3V</td><td>--</td><td>344.41249999999997,-29.622222222222224</td></tr>\n",
       "<tr><td>8781</td><td>Markab</td><td>23  4 46</td><td>+ 15 12 19</td><td>2.49</td><td>-0.04</td><td>A05</td><td>B9V</td><td>--</td><td>346.1916666666666,15.205277777777777</td></tr>\n",
       "</table></div>"
      ],
      "text/plain": [
       "<Table length=132>\n",
       "  HR    Name   RA2000  ... Duplicity              Coordinates              \n",
       "                       ...                          deg,deg                \n",
       "int64   str7    str8   ...    str9                  SkyCoord               \n",
       "----- ------- -------- ... --------- --------------------------------------\n",
       "  936   Algol  3  8 10 ... AD 82\" dm   47.04166666666666,40.955555555555556\n",
       "   21    Caph  0  9 11 ... 31\" dm=11    2.295833333333333,59.14972222222222\n",
       "   39 Algenib  0 13 14 ... AB 163\" d    3.308333333333333,15.18361111111111\n",
       "   98 Bet Hyi  0 25 45 ...        --              6.4375,-77.25416666666666\n",
       "   99   Ankaa  0 26 17 ... 0.1\" dm=0   6.570833333333333,-42.30611111111111\n",
       "  168 Schedar  0 40 31 ... AD 64\" dm   10.129166666666665,56.53722222222222\n",
       "  188  Diphda  0 43 35 ...        -- 10.895833333333332,-17.986666666666668\n",
       "  403 Ruchbah  1 25 49 ... 132\" dm=8   21.454166666666662,60.23527777777778\n",
       "  472 Acherna  1 37 43 ...        -- 24.429166666666667,-57.236666666666665\n",
       "  ...     ...      ... ...       ...                                    ...\n",
       " 8162 Alderam 21 18 35 ... AB 207\" d    319.6458333333333,62.58555555555556\n",
       " 8232 Sadalsu 21 31 34 ... AB 36\" dm   322.8916666666666,-5.571111111111111\n",
       " 8308    Enif 21 44 11 ... AC 143\" d                326.0458333333333,9.875\n",
       " 8322 Deneb A 21 47  2 ... 0.0\" dm=2 326.75833333333327,-16.127222222222223\n",
       " 8353 Gam Gru 21 53 56 ...        --              328.4833333333333,-37.365\n",
       " 8414 Sadalme 22  5 47 ... 113\" dm=9 331.44583333333327,-0.3197222222222222\n",
       " 8425  AlNair 22  8 14 ... 28\" dm=10  332.0583333333333,-46.961111111111116\n",
       " 8502 Alp Tuc 22 18 30 ... 0.1\" dm=0  334.62499999999994,-60.25972222222222\n",
       " 8728 Fomalha 22 57 39 ...        -- 344.41249999999997,-29.622222222222224\n",
       " 8781  Markab 23  4 46 ...        --   346.1916666666666,15.205277777777777"
      ]
     },
     "execution_count": 15,
     "metadata": {},
     "output_type": "execute_result"
    }
   ],
   "source": [
    "t"
   ]
  },
  {
   "cell_type": "code",
   "execution_count": 16,
   "metadata": {},
   "outputs": [],
   "source": [
    "t.write(\"star_list.ecsv\")"
   ]
  },
  {
   "cell_type": "code",
   "execution_count": 5,
   "metadata": {},
   "outputs": [],
   "source": [
    "from timdimm_tng.scheduler import make_hdimm_schedule"
   ]
  },
  {
   "cell_type": "code",
   "execution_count": 6,
   "metadata": {},
   "outputs": [
    {
     "data": {
      "text/plain": [
       "{'SchedulerList': {'@version': '1.5', 'Profile': 'timdimm_sim', 'Job': [{'Name': 'Vega', 'Priority': '7', 'Coordinates': {'J2000RA': '18.615555555555556', 'J2000DE': '38.78361111111111'}, 'PositionAngle': None, 'Sequence': '/home/tim/MMT/timdimm_tng/src/timdimm_tng/templates/hdimm_sequence.esq', 'StartupCondition': {'Condition': 'ASAP'}, 'Constraints': {'Constraint': [{'@value': '30', '#text': 'MinimumAltitude'}, {'@value': '20', '#text': 'MoonSeparation'}, 'EnforceWeather', 'EnforceTwilight']}, 'CompletionCondition': {'Condition': 'Loop'}, 'Steps': {'Step': ['Track', 'Align', 'Guide']}}, {'Name': 'Arcturu', 'Priority': '7', 'Coordinates': {'J2000RA': '14.261111111111111', 'J2000DE': '19.1825'}, 'PositionAngle': None, 'Sequence': '/home/tim/MMT/timdimm_tng/src/timdimm_tng/templates/hdimm_sequence.esq', 'StartupCondition': {'Condition': 'ASAP'}, 'Constraints': {'Constraint': [{'@value': '30', '#text': 'MinimumAltitude'}, {'@value': '20', '#text': 'MoonSeparation'}, 'EnforceWeather', 'EnforceTwilight']}, 'CompletionCondition': {'Condition': 'Loop'}, 'Steps': {'Step': ['Track', 'Align', 'Guide']}}, {'Name': 'Capella', 'Priority': '7', 'Coordinates': {'J2000RA': '5.2780555555555555', 'J2000DE': '45.99805555555556'}, 'PositionAngle': None, 'Sequence': '/home/tim/MMT/timdimm_tng/src/timdimm_tng/templates/hdimm_sequence.esq', 'StartupCondition': {'Condition': 'ASAP'}, 'Constraints': {'Constraint': [{'@value': '30', '#text': 'MinimumAltitude'}, {'@value': '20', '#text': 'MoonSeparation'}, 'EnforceWeather', 'EnforceTwilight']}, 'CompletionCondition': {'Condition': 'Loop'}, 'Steps': {'Step': ['Track', 'Align', 'Guide']}}, {'Name': 'Procyon', 'Priority': '8', 'Coordinates': {'J2000RA': '7.655000000000001', 'J2000DE': '5.2250000000000005'}, 'PositionAngle': None, 'Sequence': '/home/tim/MMT/timdimm_tng/src/timdimm_tng/templates/hdimm_sequence.esq', 'StartupCondition': {'Condition': 'ASAP'}, 'Constraints': {'Constraint': [{'@value': '30', '#text': 'MinimumAltitude'}, {'@value': '20', '#text': 'MoonSeparation'}, 'EnforceWeather', 'EnforceTwilight']}, 'CompletionCondition': {'Condition': 'Loop'}, 'Steps': {'Step': ['Track', 'Align', 'Guide']}}, {'Name': 'Altair', 'Priority': '10', 'Coordinates': {'J2000RA': '19.846388888888892', 'J2000DE': '8.868333333333334'}, 'PositionAngle': None, 'Sequence': '/home/tim/MMT/timdimm_tng/src/timdimm_tng/templates/hdimm_sequence.esq', 'StartupCondition': {'Condition': 'ASAP'}, 'Constraints': {'Constraint': [{'@value': '30', '#text': 'MinimumAltitude'}, {'@value': '20', '#text': 'MoonSeparation'}, 'EnforceWeather', 'EnforceTwilight']}, 'CompletionCondition': {'Condition': 'Loop'}, 'Steps': {'Step': ['Track', 'Align', 'Guide']}}, {'Name': 'Aldebar', 'Priority': '10', 'Coordinates': {'J2000RA': '4.5986111111111105', 'J2000DE': '16.509166666666665'}, 'PositionAngle': None, 'Sequence': '/home/tim/MMT/timdimm_tng/src/timdimm_tng/templates/hdimm_sequence.esq', 'StartupCondition': {'Condition': 'ASAP'}, 'Constraints': {'Constraint': [{'@value': '30', '#text': 'MinimumAltitude'}, {'@value': '20', '#text': 'MoonSeparation'}, 'EnforceWeather', 'EnforceTwilight']}, 'CompletionCondition': {'Condition': 'Loop'}, 'Steps': {'Step': ['Track', 'Align', 'Guide']}}, {'Name': 'Pollux', 'Priority': '11', 'Coordinates': {'J2000RA': '7.755277777777779', 'J2000DE': '28.02611111111111'}, 'PositionAngle': None, 'Sequence': '/home/tim/MMT/timdimm_tng/src/timdimm_tng/templates/hdimm_sequence.esq', 'StartupCondition': {'Condition': 'ASAP'}, 'Constraints': {'Constraint': [{'@value': '30', '#text': 'MinimumAltitude'}, {'@value': '20', '#text': 'MoonSeparation'}, 'EnforceWeather', 'EnforceTwilight']}, 'CompletionCondition': {'Condition': 'Loop'}, 'Steps': {'Step': ['Track', 'Align', 'Guide']}}, {'Name': 'Deneb', 'Priority': '12', 'Coordinates': {'J2000RA': '20.690555555555555', 'J2000DE': '45.280277777777776'}, 'PositionAngle': None, 'Sequence': '/home/tim/MMT/timdimm_tng/src/timdimm_tng/templates/hdimm_sequence.esq', 'StartupCondition': {'Condition': 'ASAP'}, 'Constraints': {'Constraint': [{'@value': '30', '#text': 'MinimumAltitude'}, {'@value': '20', '#text': 'MoonSeparation'}, 'EnforceWeather', 'EnforceTwilight']}, 'CompletionCondition': {'Condition': 'Loop'}, 'Steps': {'Step': ['Track', 'Align', 'Guide']}}, {'Name': 'Regulus', 'Priority': '12', 'Coordinates': {'J2000RA': '10.139444444444445', 'J2000DE': '11.967222222222222'}, 'PositionAngle': None, 'Sequence': '/home/tim/MMT/timdimm_tng/src/timdimm_tng/templates/hdimm_sequence.esq', 'StartupCondition': {'Condition': 'ASAP'}, 'Constraints': {'Constraint': [{'@value': '30', '#text': 'MinimumAltitude'}, {'@value': '20', '#text': 'MoonSeparation'}, 'EnforceWeather', 'EnforceTwilight']}, 'CompletionCondition': {'Condition': 'Loop'}, 'Steps': {'Step': ['Track', 'Align', 'Guide']}}, {'Name': 'Bellatr', 'Priority': '13', 'Coordinates': {'J2000RA': '5.4188888888888895', 'J2000DE': '6.349722222222222'}, 'PositionAngle': None, 'Sequence': '/home/tim/MMT/timdimm_tng/src/timdimm_tng/templates/hdimm_sequence.esq', 'StartupCondition': {'Condition': 'ASAP'}, 'Constraints': {'Constraint': [{'@value': '30', '#text': 'MinimumAltitude'}, {'@value': '20', '#text': 'MoonSeparation'}, 'EnforceWeather', 'EnforceTwilight']}, 'CompletionCondition': {'Condition': 'Loop'}, 'Steps': {'Step': ['Track', 'Align', 'Guide']}}, {'Name': 'Alnilam', 'Priority': '13', 'Coordinates': {'J2000RA': '5.60361111111111', 'J2000DE': '-1.2019444444444445'}, 'PositionAngle': None, 'Sequence': '/home/tim/MMT/timdimm_tng/src/timdimm_tng/templates/hdimm_sequence.esq', 'StartupCondition': {'Condition': 'ASAP'}, 'Constraints': {'Constraint': [{'@value': '30', '#text': 'MinimumAltitude'}, {'@value': '20', '#text': 'MoonSeparation'}, 'EnforceWeather', 'EnforceTwilight']}, 'CompletionCondition': {'Condition': 'Loop'}, 'Steps': {'Step': ['Track', 'Align', 'Guide']}}, {'Name': 'Alioth', 'Priority': '14', 'Coordinates': {'J2000RA': '12.900555555555558', 'J2000DE': '55.959722222222226'}, 'PositionAngle': None, 'Sequence': '/home/tim/MMT/timdimm_tng/src/timdimm_tng/templates/hdimm_sequence.esq', 'StartupCondition': {'Condition': 'ASAP'}, 'Constraints': {'Constraint': [{'@value': '30', '#text': 'MinimumAltitude'}, {'@value': '20', '#text': 'MoonSeparation'}, 'EnforceWeather', 'EnforceTwilight']}, 'CompletionCondition': {'Condition': 'Loop'}, 'Steps': {'Step': ['Track', 'Align', 'Guide']}}, {'Name': 'Mirfak', 'Priority': '14', 'Coordinates': {'J2000RA': '3.405277777777778', 'J2000DE': '49.861111111111114'}, 'PositionAngle': None, 'Sequence': '/home/tim/MMT/timdimm_tng/src/timdimm_tng/templates/hdimm_sequence.esq', 'StartupCondition': {'Condition': 'ASAP'}, 'Constraints': {'Constraint': [{'@value': '30', '#text': 'MinimumAltitude'}, {'@value': '20', '#text': 'MoonSeparation'}, 'EnforceWeather', 'EnforceTwilight']}, 'CompletionCondition': {'Condition': 'Loop'}, 'Steps': {'Step': ['Track', 'Align', 'Guide']}}, {'Name': 'Alkaid', 'Priority': '14', 'Coordinates': {'J2000RA': '13.792222222222222', 'J2000DE': '49.31333333333333'}, 'PositionAngle': None, 'Sequence': '/home/tim/MMT/timdimm_tng/src/timdimm_tng/templates/hdimm_sequence.esq', 'StartupCondition': {'Condition': 'ASAP'}, 'Constraints': {'Constraint': [{'@value': '30', '#text': 'MinimumAltitude'}, {'@value': '20', '#text': 'MoonSeparation'}, 'EnforceWeather', 'EnforceTwilight']}, 'CompletionCondition': {'Condition': 'Loop'}, 'Steps': {'Step': ['Track', 'Align', 'Guide']}}, {'Name': 'Menkali', 'Priority': '14', 'Coordinates': {'J2000RA': '5.992222222222222', 'J2000DE': '44.9475'}, 'PositionAngle': None, 'Sequence': '/home/tim/MMT/timdimm_tng/src/timdimm_tng/templates/hdimm_sequence.esq', 'StartupCondition': {'Condition': 'ASAP'}, 'Constraints': {'Constraint': [{'@value': '30', '#text': 'MinimumAltitude'}, {'@value': '20', '#text': 'MoonSeparation'}, 'EnforceWeather', 'EnforceTwilight']}, 'CompletionCondition': {'Condition': 'Loop'}, 'Steps': {'Step': ['Track', 'Align', 'Guide']}}, {'Name': 'Alhena', 'Priority': '14', 'Coordinates': {'J2000RA': '6.628611111111112', 'J2000DE': '16.399166666666666'}, 'PositionAngle': None, 'Sequence': '/home/tim/MMT/timdimm_tng/src/timdimm_tng/templates/hdimm_sequence.esq', 'StartupCondition': {'Condition': 'ASAP'}, 'Constraints': {'Constraint': [{'@value': '30', '#text': 'MinimumAltitude'}, {'@value': '20', '#text': 'MoonSeparation'}, 'EnforceWeather', 'EnforceTwilight']}, 'CompletionCondition': {'Condition': 'Loop'}, 'Steps': {'Step': ['Track', 'Align', 'Guide']}}, {'Name': 'Alphard', 'Priority': '14', 'Coordinates': {'J2000RA': '9.459722222222222', 'J2000DE': '-8.658611111111112'}, 'PositionAngle': None, 'Sequence': '/home/tim/MMT/timdimm_tng/src/timdimm_tng/templates/hdimm_sequence.esq', 'StartupCondition': {'Condition': 'ASAP'}, 'Constraints': {'Constraint': [{'@value': '30', '#text': 'MinimumAltitude'}, {'@value': '20', '#text': 'MoonSeparation'}, 'EnforceWeather', 'EnforceTwilight']}, 'CompletionCondition': {'Condition': 'Loop'}, 'Steps': {'Step': ['Track', 'Align', 'Guide']}}], 'SchedulerAlgorithm': {'@value': '1'}, 'ErrorHandlingStrategy': {'@value': '1', 'delay': '0'}, 'StartupProcedure': {'Procedure': [{'@value': '/home/astronaut/timdimm_tng/scripts/ekos_hdimm/startup.py', '#text': 'StartupScript'}, 'UnparkDome', 'UnparkMount']}, 'ShutdownProcedure': {'Procedure': ['ParkMount', 'ParkDome', {'@value': '/home/astronaut/timdimm_tng/scripts/ekos_hdimm/shutdown.py', '#text': 'ShutdownScript'}]}}}"
      ]
     },
     "execution_count": 6,
     "metadata": {},
     "output_type": "execute_result"
    }
   ],
   "source": [
    "make_hdimm_schedule()"
   ]
  },
  {
   "cell_type": "code",
   "execution_count": null,
   "metadata": {},
   "outputs": [],
   "source": []
  }
 ],
 "metadata": {
  "kernelspec": {
   "display_name": "timdimm",
   "language": "python",
   "name": "python3"
  },
  "language_info": {
   "codemirror_mode": {
    "name": "ipython",
    "version": 3
   },
   "file_extension": ".py",
   "mimetype": "text/x-python",
   "name": "python",
   "nbconvert_exporter": "python",
   "pygments_lexer": "ipython3",
   "version": "3.12.3"
  }
 },
 "nbformat": 4,
 "nbformat_minor": 2
}
