{
 "cells": [
  {
   "cell_type": "code",
   "execution_count": null,
   "metadata": {},
   "outputs": [],
   "source": [
    "from pathlib import Path\n",
    "\n",
    "import numpy as np\n",
    "\n",
    "import matplotlib.pyplot as plt\n",
    "import matplotlib.dates as mdates\n",
    "\n",
    "from astropy.time import Time\n",
    "import astropy.units as u\n",
    "from astropy.visualization import time_support\n",
    "from astropy.modeling import models, fitting\n",
    "\n",
    "from skimage.transform import warp_polar, warp, PiecewiseAffineTransform\n",
    "from skimage import filters\n",
    "from skimage import feature\n",
    "from skimage import measure\n",
    "\n",
    "import photutils\n",
    "\n",
    "from fass.ser import load_ser_file\n",
    "from fass.analyze_cube import find_apertures, moments, seeing, analyze_dimm_cube, unwrap_fass_cube, process_fass_image, rectify_fass_cube\n",
    "\n",
    "_ = time_support(simplify=True)"
   ]
  },
  {
   "cell_type": "code",
   "execution_count": null,
   "metadata": {},
   "outputs": [],
   "source": [
    "%load_ext autoreload\n",
    "%autoreload 2\n",
    "#%matplotlib widget"
   ]
  },
  {
   "cell_type": "code",
   "execution_count": null,
   "metadata": {},
   "outputs": [],
   "source": [
    "def fass_optical_parameters(\n",
    "    pupil_size_pixels, \n",
    "    f_number=10.0, \n",
    "    aperture_diameter=200*u.mm, \n",
    "    plate_scale=0.93*u.arcsec/u.pixel,\n",
    "    pixel_scale=9*u.um/u.pixel,\n",
    "    central_obstruction=86*u.mm\n",
    "):\n",
    "    \"\"\"\n",
    "    FASS optical parameters.\n",
    "    \n",
    "    Parameters\n",
    "    ----------\n",
    "    pupil_size_pixels : float\n",
    "        Pupil diameter in pixels.\n",
    "    f_number : float (default: 10.0)\n",
    "        Focal ratio.\n",
    "    aperture_diameter : u.Quantity (default: 200*u.mm)\n",
    "        Diameter of the telescope aperture.\n",
    "    plate_scale : u.Quantity (default: 0.93*u.arcsec/u.pixel)\n",
    "        Plate scale of the camera.\n",
    "    central_obstruction : u.Quantity (default: 86*u.mm)\n",
    "        Diameter of the central obstruction, if any.\n",
    "    Returns\n",
    "    -------\n",
    "    dict\n",
    "        Optical parameters.\n",
    "    \"\"\"\n",
    "    # focal length in mm\n",
    "    focal_length = aperture_diameter * f_number\n",
    "    # pupil radius in pixel units\n",
    "    pupil_radius = (pupil_size_pixels/2) * u.pixel\n",
    "    # angular radius of the pupil\n",
    "    pupil_angle = pupil_radius * plate_scale\n",
    "    # pupil inner angle (radius of inner boundary of illuminated pupil)\n",
    "    pupil_inner_angle = pupil_angle * (central_obstruction/aperture_diameter).value\n",
    "    # pupil radius converted to mm\n",
    "    pupil_size_mm = (pupil_radius * pixel_scale).to(u.mm)\n",
    "    # angle subtended by the aperture at the focal plane\n",
    "    optical_angle = np.arctan2(\n",
    "        (aperture_diameter/2).to(u.mm).value,\n",
    "        (aperture_diameter*f_number).to(u.mm).value\n",
    "    ) * u.rad\n",
    "    # focus position of detector from the focal plane\n",
    "    focus_shift = pupil_size_mm / np.tan(optical_angle)\n",
    "    # conjugate focus distance\n",
    "    # thin lens eq 1/s1 + 1/s2 = 1/f where s2 = f - foc_shift\n",
    "    conjugate_focus = 1 / (1/focal_length - 1/(focal_length-focus_shift))\n",
    "\n",
    "    return {\n",
    "        'pupil_size_mm': pupil_size_mm,\n",
    "        'pupil_angle': pupil_angle,\n",
    "        'pupil_inner_angle': pupil_inner_angle,\n",
    "        'optical_angle': optical_angle,\n",
    "        'focus_shift': focus_shift,\n",
    "        'conjugate_focus': conjugate_focus,\n",
    "        'central_obstruction': central_obstruction\n",
    "    }"
   ]
  },
  {
   "cell_type": "code",
   "execution_count": null,
   "metadata": {},
   "outputs": [],
   "source": [
    "fass_optical_parameters(120)"
   ]
  },
  {
   "cell_type": "code",
   "execution_count": null,
   "metadata": {},
   "outputs": [],
   "source": [
    "testfile = Path.home() / \"MMT/FASS/data/indi_2022-08-29/indi_record_2022-08-29@05-54-59.ser\"\n",
    "testfile = Path.home() / \"MMT/FASS/data/indi_2022-11-07/indi_record_2022-11-07@03-43-50.ser\"\n",
    "testfile = Path.home() / \"MMT/FASS/data/indi_2022-11-07/indi_record_2022-11-07@03-44-02.ser\"\n",
    "d = load_ser_file(testfile)"
   ]
  },
  {
   "cell_type": "code",
   "execution_count": null,
   "metadata": {},
   "outputs": [],
   "source": [
    "fig = plt.figure()\n",
    "im, mean, median, stddev, x, y, width = process_fass_image(d['data'][2500, :, :])\n",
    "plt.imshow(im)\n",
    "plt.show()\n",
    "print(mean, median, stddev, x, y, width)"
   ]
  },
  {
   "cell_type": "code",
   "execution_count": null,
   "metadata": {},
   "outputs": [],
   "source": [
    "fig = plt.Figure()\n",
    "plt.plot(im.sum(axis=0))\n",
    "plt.show()"
   ]
  },
  {
   "cell_type": "code",
   "execution_count": null,
   "metadata": {},
   "outputs": [],
   "source": [
    "d['frame_times'][0:3]"
   ]
  },
  {
   "cell_type": "code",
   "execution_count": null,
   "metadata": {},
   "outputs": [],
   "source": [
    "i1 = 410\n",
    "i2 = 411\n",
    "image1 = d['data'][i1, :, :]\n",
    "image2 = d['data'][i2, :, :]\n",
    "warped1 = warp_polar(image1, center=(109,109), radius=100, output_shape=(int(2 * np.pi * 200),200), scaling='linear', preserve_range=True)\n",
    "warped2 = warp_polar(image2, center=(109,109), radius=100, output_shape=(int(2 * np.pi * 200),200), scaling='linear', preserve_range=True)\n",
    "diff = warped1 - warped2"
   ]
  },
  {
   "cell_type": "code",
   "execution_count": null,
   "metadata": {},
   "outputs": [],
   "source": [
    "fig = plt.figure()\n",
    "plt.imshow(warped1)\n",
    "plt.show()"
   ]
  },
  {
   "cell_type": "code",
   "execution_count": null,
   "metadata": {},
   "outputs": [],
   "source": [
    "coadd = d['data'][0:1000, :, :].sum(axis=0)\n",
    "warped_coadd = warp_polar(coadd, (109,109), radius=100, output_shape=(200,200), scaling='linear', preserve_range=True)"
   ]
  },
  {
   "cell_type": "code",
   "execution_count": null,
   "metadata": {},
   "outputs": [],
   "source": [
    "fig = plt.figure()\n",
    "plt.imshow(coadd)\n",
    "plt.show()"
   ]
  },
  {
   "cell_type": "code",
   "execution_count": null,
   "metadata": {},
   "outputs": [],
   "source": [
    "del uc"
   ]
  },
  {
   "cell_type": "code",
   "execution_count": null,
   "metadata": {},
   "outputs": [],
   "source": [
    "uc = unwrap_fass_cube(d['data'], nproc=8)"
   ]
  },
  {
   "cell_type": "code",
   "execution_count": null,
   "metadata": {},
   "outputs": [],
   "source": [
    "uc.size / 1024**3"
   ]
  },
  {
   "cell_type": "code",
   "execution_count": null,
   "metadata": {},
   "outputs": [],
   "source": [
    "fig = plt.figure(figsize=(50, 50))\n",
    "stacked = uc.mean(axis=0)\n",
    "stacked = filters.gaussian(stacked, sigma=4)\n",
    "plt.imshow(stacked, cmap='gray')\n",
    "contours = measure.find_contours(stacked, 0.3 * stacked.max())\n",
    "print(len(contours))\n",
    "for contour in contours:\n",
    "    plt.plot(contour[:, 1], contour[:, 0], linewidth=2)\n",
    "plt.show()"
   ]
  },
  {
   "cell_type": "code",
   "execution_count": null,
   "metadata": {},
   "outputs": [],
   "source": [
    "pup_inner = np.mean(contours[0][:, 1]) # * np.ones(stacked.shape[0])\n",
    "pup_outer = np.mean(contours[1][:, 1]) # * np.ones(stacked.shape[0])\n"
   ]
  },
  {
   "cell_type": "code",
   "execution_count": null,
   "metadata": {},
   "outputs": [],
   "source": [
    "fitter = fitting.LinearLSQFitter()\n",
    "contour_model = models.Legendre1D(degree=5)\n",
    "contour_inner = fitter(contour_model, contours[0][:, 0], contours[0][:, 1])\n",
    "contour_outer = fitter(contour_model, contours[1][:, 0], contours[1][:, 1])"
   ]
  },
  {
   "cell_type": "code",
   "execution_count": null,
   "metadata": {},
   "outputs": [],
   "source": [
    "fig = plt.figure(figsize=(50, 50))\n",
    "stacked = uc.mean(axis=0)\n",
    "stacked = filters.gaussian(stacked, sigma=4)\n",
    "y = np.arange(stacked.shape[0])\n",
    "plt.imshow(stacked, cmap='gray')\n",
    "contours = measure.find_contours(stacked, 0.3 * stacked.max())\n",
    "plt.plot(contour_inner(y), y, linewidth=2)\n",
    "plt.plot(contour_outer(y), y, linewidth=2)\n",
    "plt.show()"
   ]
  },
  {
   "cell_type": "code",
   "execution_count": null,
   "metadata": {},
   "outputs": [],
   "source": [
    "src_inner = np.array([pup_inner * np.ones(stacked.shape[0]), y]).T\n",
    "src_outer = np.array([pup_outer * np.ones(stacked.shape[0]), y]).T\n",
    "src = np.vstack([src_inner, src_outer])\n",
    "src"
   ]
  },
  {
   "cell_type": "code",
   "execution_count": null,
   "metadata": {},
   "outputs": [],
   "source": [
    "dst_inner = np.array([contour_inner(y), y]).T\n",
    "dst_outer = np.array([contour_outer(y), y]).T\n",
    "dst = np.vstack([dst_inner, dst_outer])\n",
    "dst"
   ]
  },
  {
   "cell_type": "code",
   "execution_count": null,
   "metadata": {},
   "outputs": [],
   "source": [
    "tform = PiecewiseAffineTransform()\n",
    "tform.estimate(src, dst)"
   ]
  },
  {
   "cell_type": "code",
   "execution_count": null,
   "metadata": {},
   "outputs": [],
   "source": [
    "rectified, flat_image = rectify_fass_cube(uc)"
   ]
  },
  {
   "cell_type": "code",
   "execution_count": null,
   "metadata": {},
   "outputs": [],
   "source": [
    "rstacked = rectified.mean(axis=0)"
   ]
  },
  {
   "cell_type": "code",
   "execution_count": null,
   "metadata": {},
   "outputs": [],
   "source": [
    "fig = plt.figure(figsize=(50, 50))\n",
    "plt.imshow(rstacked, cmap='gray')\n",
    "plt.show()"
   ]
  },
  {
   "cell_type": "code",
   "execution_count": null,
   "metadata": {},
   "outputs": [],
   "source": [
    "flat_image[flat_image == 0] = np.nan\n",
    "flat_image /= np.nanmean(flat_image)\n",
    "flatcube = rectified / flat_image"
   ]
  },
  {
   "cell_type": "code",
   "execution_count": null,
   "metadata": {},
   "outputs": [],
   "source": [
    "fig = plt.figure(figsize=(50, 50))\n",
    "plt.imshow(flatcube[20, :, :] - flatcube[0, :, :], cmap='gray')\n",
    "plt.show()"
   ]
  },
  {
   "cell_type": "code",
   "execution_count": null,
   "metadata": {},
   "outputs": [],
   "source": [
    "flatcube.__sizeof__() / 1024**3"
   ]
  },
  {
   "cell_type": "code",
   "execution_count": null,
   "metadata": {},
   "outputs": [],
   "source": []
  }
 ],
 "metadata": {
  "kernelspec": {
   "display_name": "Python 3.10.6 ('fass')",
   "language": "python",
   "name": "python3"
  },
  "language_info": {
   "codemirror_mode": {
    "name": "ipython",
    "version": 3
   },
   "file_extension": ".py",
   "mimetype": "text/x-python",
   "name": "python",
   "nbconvert_exporter": "python",
   "pygments_lexer": "ipython3",
   "version": "3.11.3"
  },
  "orig_nbformat": 4,
  "vscode": {
   "interpreter": {
    "hash": "d71768327f1aeb02d4aa09739b39802117669142cd41e0dd7f02efbf5532edb5"
   }
  }
 },
 "nbformat": 4,
 "nbformat_minor": 2
}
