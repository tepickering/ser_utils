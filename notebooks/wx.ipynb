{
 "cells": [
  {
   "cell_type": "code",
   "execution_count": 21,
   "metadata": {},
   "outputs": [],
   "source": [
    "import ssl\n",
    "import json\n",
    "from urllib.request import urlopen\n",
    "\n",
    "from astropy import units as u"
   ]
  },
  {
   "cell_type": "code",
   "execution_count": 24,
   "metadata": {},
   "outputs": [],
   "source": [
    "ctx = ssl.create_default_context()\n",
    "ctx.check_hostname = False\n",
    "ctx.verify_mode = ssl.CERT_NONE\n",
    "\n",
    "page = urlopen('https://weather.monet.suth.saao.ac.za/api/current/', context=ctx)\n",
    "data = json.loads(page.read().decode())"
   ]
  },
  {
   "cell_type": "code",
   "execution_count": 25,
   "metadata": {},
   "outputs": [
    {
     "data": {
      "text/plain": [
       "{'time': '2023-12-29T22:10:24Z',\n",
       " 'good': False,\n",
       " 'sensors': {'windspeed': {'good': True, 'value': 9.620000000000001},\n",
       "  'humid': {'good': False, 'value': 92.7},\n",
       "  'dewpoint': {'good': None, 'value': None},\n",
       "  'skytemp': {'good': False, 'value': -16.5},\n",
       "  'sunalt': {'good': True, 'value': -34.006737118531994},\n",
       "  'temp': {'good': None, 'value': 14.425},\n",
       "  'press': {'good': None, 'value': 824.2},\n",
       "  'winddir': {'good': None, 'value': 137.0},\n",
       "  'rain': {'good': False, 'value': 0.0}}}"
      ]
     },
     "execution_count": 25,
     "metadata": {},
     "output_type": "execute_result"
    }
   ],
   "source": [
    "data"
   ]
  },
  {
   "cell_type": "code",
   "execution_count": null,
   "metadata": {},
   "outputs": [],
   "source": []
  }
 ],
 "metadata": {
  "kernelspec": {
   "display_name": "timdimm",
   "language": "python",
   "name": "python3"
  },
  "language_info": {
   "codemirror_mode": {
    "name": "ipython",
    "version": 3
   },
   "file_extension": ".py",
   "mimetype": "text/x-python",
   "name": "python",
   "nbconvert_exporter": "python",
   "pygments_lexer": "ipython3",
   "version": "3.11.4"
  }
 },
 "nbformat": 4,
 "nbformat_minor": 2
}
