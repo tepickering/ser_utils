{
 "cells": [
  {
   "cell_type": "code",
   "execution_count": 49,
   "metadata": {},
   "outputs": [],
   "source": [
    "import dbus\n",
    "\n",
    "import astropy.units as u"
   ]
  },
  {
   "cell_type": "code",
   "execution_count": 50,
   "metadata": {},
   "outputs": [
    {
     "name": "stdout",
     "output_type": "stream",
     "text": [
      "The autoreload extension is already loaded. To reload it, use:\n",
      "  %reload_ext autoreload\n"
     ]
    }
   ],
   "source": [
    "%load_ext autoreload\n",
    "%autoreload 2"
   ]
  },
  {
   "cell_type": "code",
   "execution_count": 51,
   "metadata": {},
   "outputs": [],
   "source": [
    "bus = dbus.SessionBus()"
   ]
  },
  {
   "cell_type": "code",
   "execution_count": 80,
   "metadata": {},
   "outputs": [],
   "source": [
    "robj = bus.get_object(\"org.kde.kstars\", \"/KStars/INDI/Dome/1\")\n",
    "#print(robj.Introspect())\n",
    "#iface = dbus.Interface(robj, 'org.kde.kstars.INDI.Weather')\n",
    "#prop_iface = dbus.Interface(robj, dbus_interface='org.freedesktop.DBus.Properties')\n",
    "#properties = prop_iface.GetAll(\"org.kde.kstars.INDI.Weather\")\n",
    "#az, el = float(properties['horizontalCoords'][0]) * u.deg, float(properties['horizontalCoords'][1]) * u.deg\n",
    "#az, el"
   ]
  },
  {
   "cell_type": "code",
   "execution_count": 81,
   "metadata": {},
   "outputs": [
    {
     "name": "stdout",
     "output_type": "stream",
     "text": [
      "<!DOCTYPE node PUBLIC \"-//freedesktop//DTD D-BUS Object Introspection 1.0//EN\"\n",
      "\"http://www.freedesktop.org/standards/dbus/1.0/introspect.dtd\">\n",
      "<node>\n",
      "  <interface name=\"org.kde.kstars.INDI.Dome\">\n",
      "    <property access=\"read\" type=\"s\" name=\"name\"/>\n",
      "    <property access=\"read\" type=\"b\" name=\"connected\"/>\n",
      "    <property access=\"read\" type=\"b\" name=\"canPark\"/>\n",
      "    <property access=\"read\" type=\"b\" name=\"canAbsMove\"/>\n",
      "    <property access=\"read\" type=\"b\" name=\"canRelMove\"/>\n",
      "    <property access=\"read\" type=\"b\" name=\"canAbort\"/>\n",
      "    <property access=\"readwrite\" type=\"d\" name=\"position\"/>\n",
      "    <property access=\"read\" type=\"b\" name=\"isMoving\"/>\n",
      "    <property access=\"read\" type=\"i\" name=\"status\">\n",
      "      <annotation value=\"ISD::Dome::Status\" name=\"org.qtproject.QtDBus.QtTypeName\"/>\n",
      "    </property>\n",
      "    <property access=\"read\" type=\"i\" name=\"shutterStatus\">\n",
      "      <annotation value=\"ISD::Dome::ShutterStatus\" name=\"org.qtproject.QtDBus.QtTypeName\"/>\n",
      "    </property>\n",
      "    <property access=\"read\" type=\"i\" name=\"parkStatus\">\n",
      "      <annotation value=\"ISD::ParkStatus\" name=\"org.qtproject.QtDBus.QtTypeName\"/>\n",
      "    </property>\n",
      "    <method name=\"Connect\">\n",
      "      <annotation value=\"true\" name=\"org.freedesktop.DBus.Method.NoReply\"/>\n",
      "    </method>\n",
      "    <method name=\"Disconnect\">\n",
      "      <annotation value=\"true\" name=\"org.freedesktop.DBus.Method.NoReply\"/>\n",
      "    </method>\n",
      "    <method name=\"isParked\">\n",
      "      <arg direction=\"out\" type=\"b\"/>\n",
      "    </method>\n",
      "    <method name=\"park\">\n",
      "      <arg direction=\"out\" type=\"b\"/>\n",
      "    </method>\n",
      "    <method name=\"unpark\">\n",
      "      <arg direction=\"out\" type=\"b\"/>\n",
      "    </method>\n",
      "    <method name=\"abort\">\n",
      "      <arg direction=\"out\" type=\"b\"/>\n",
      "    </method>\n",
      "    <method name=\"moveCW\">\n",
      "      <arg direction=\"out\" type=\"b\"/>\n",
      "    </method>\n",
      "    <method name=\"moveCCW\">\n",
      "      <arg direction=\"out\" type=\"b\"/>\n",
      "    </method>\n",
      "    <method name=\"controlShutter\">\n",
      "      <arg direction=\"in\" type=\"b\" name=\"open\"/>\n",
      "      <arg direction=\"out\" type=\"b\"/>\n",
      "    </method>\n",
      "    <method name=\"hasShutter\">\n",
      "      <arg direction=\"out\" type=\"b\"/>\n",
      "    </method>\n",
      "    <signal name=\"Connected\"/>\n",
      "    <signal name=\"Disconnected\"/>\n",
      "    <signal name=\"ready\"/>\n",
      "    <signal name=\"newStatus\">\n",
      "      <arg direction=\"out\" type=\"(i)\" name=\"status\"/>\n",
      "      <annotation value=\"ISD::Dome::Status\" name=\"org.qtproject.QtDBus.QtTypeName.In0\"/>\n",
      "      <annotation value=\"ISD::Dome::Status\" name=\"org.qtproject.QtDBus.QtTypeName.Out0\"/>\n",
      "    </signal>\n",
      "    <signal name=\"newParkStatus\">\n",
      "      <arg direction=\"out\" type=\"(i)\" name=\"status\"/>\n",
      "      <annotation value=\"ISD::ParkStatus\" name=\"org.qtproject.QtDBus.QtTypeName.In0\"/>\n",
      "      <annotation value=\"ISD::ParkStatus\" name=\"org.qtproject.QtDBus.QtTypeName.Out0\"/>\n",
      "    </signal>\n",
      "    <signal name=\"newShutterStatus\">\n",
      "      <arg direction=\"out\" type=\"(i)\" name=\"status\"/>\n",
      "      <annotation value=\"ISD::Dome::ShutterStatus\" name=\"org.qtproject.QtDBus.QtTypeName.In0\"/>\n",
      "      <annotation value=\"ISD::Dome::ShutterStatus\" name=\"org.qtproject.QtDBus.QtTypeName.Out0\"/>\n",
      "    </signal>\n",
      "    <signal name=\"positionChanged\">\n",
      "      <arg direction=\"out\" type=\"d\" name=\"degrees\"/>\n",
      "    </signal>\n",
      "  </interface>\n",
      "  <interface name=\"org.freedesktop.DBus.Properties\">\n",
      "    <method name=\"Get\">\n",
      "      <arg name=\"interface_name\" type=\"s\" direction=\"in\"/>\n",
      "      <arg name=\"property_name\" type=\"s\" direction=\"in\"/>\n",
      "      <arg name=\"value\" type=\"v\" direction=\"out\"/>\n",
      "    </method>\n",
      "    <method name=\"Set\">\n",
      "      <arg name=\"interface_name\" type=\"s\" direction=\"in\"/>\n",
      "      <arg name=\"property_name\" type=\"s\" direction=\"in\"/>\n",
      "      <arg name=\"value\" type=\"v\" direction=\"in\"/>\n",
      "    </method>\n",
      "    <method name=\"GetAll\">\n",
      "      <arg name=\"interface_name\" type=\"s\" direction=\"in\"/>\n",
      "      <arg name=\"values\" type=\"a{sv}\" direction=\"out\"/>\n",
      "      <annotation name=\"org.qtproject.QtDBus.QtTypeName.Out0\" value=\"QVariantMap\"/>\n",
      "    </method>\n",
      "    <signal name=\"PropertiesChanged\">\n",
      "      <arg name=\"interface_name\" type=\"s\" direction=\"out\"/>\n",
      "      <arg name=\"changed_properties\" type=\"a{sv}\" direction=\"out\"/>\n",
      "      <annotation name=\"org.qtproject.QtDBus.QtTypeName.Out1\" value=\"QVariantMap\"/>\n",
      "      <arg name=\"invalidated_properties\" type=\"as\" direction=\"out\"/>\n",
      "    </signal>\n",
      "  </interface>\n",
      "  <interface name=\"org.freedesktop.DBus.Introspectable\">\n",
      "    <method name=\"Introspect\">\n",
      "      <arg name=\"xml_data\" type=\"s\" direction=\"out\"/>\n",
      "    </method>\n",
      "  </interface>\n",
      "  <interface name=\"org.freedesktop.DBus.Peer\">\n",
      "    <method name=\"Ping\"/>\n",
      "    <method name=\"GetMachineId\">\n",
      "      <arg name=\"machine_uuid\" type=\"s\" direction=\"out\"/>\n",
      "    </method>\n",
      "  </interface>\n",
      "</node>\n",
      "\n"
     ]
    }
   ],
   "source": [
    "print(robj.Introspect())"
   ]
  },
  {
   "cell_type": "code",
   "execution_count": 53,
   "metadata": {},
   "outputs": [
    {
     "data": {
      "text/plain": [
       "[]"
      ]
     },
     "execution_count": 53,
     "metadata": {},
     "output_type": "execute_result"
    }
   ],
   "source": [
    "list(properties.keys())"
   ]
  },
  {
   "cell_type": "code",
   "execution_count": 54,
   "metadata": {},
   "outputs": [
    {
     "ename": "KeyError",
     "evalue": "'status'",
     "output_type": "error",
     "traceback": [
      "\u001b[0;31m---------------------------------------------------------------------------\u001b[0m",
      "\u001b[0;31mKeyError\u001b[0m                                  Traceback (most recent call last)",
      "\u001b[0;32m/tmp/ipykernel_1118485/3273138816.py\u001b[0m in \u001b[0;36m<module>\u001b[0;34m\u001b[0m\n\u001b[0;32m----> 1\u001b[0;31m \u001b[0mproperties\u001b[0m\u001b[0;34m[\u001b[0m\u001b[0;34m'status'\u001b[0m\u001b[0;34m]\u001b[0m\u001b[0;34m\u001b[0m\u001b[0;34m\u001b[0m\u001b[0m\n\u001b[0m",
      "\u001b[0;31mKeyError\u001b[0m: 'status'"
     ]
    }
   ],
   "source": [
    "properties['status']"
   ]
  },
  {
   "cell_type": "code",
   "execution_count": null,
   "metadata": {},
   "outputs": [
    {
     "name": "stdout",
     "output_type": "stream",
     "text": [
      "143.9°\n"
     ]
    }
   ],
   "source": [
    "print(f\"{float(properties['horizontalCoords'][0]):.1f}°\")"
   ]
  },
  {
   "cell_type": "code",
   "execution_count": null,
   "metadata": {},
   "outputs": [
    {
     "data": {
      "text/plain": [
       "dbus.Array([dbus.Double(1.6434069008550636), dbus.Double(-57.111856128864474)], signature=dbus.Signature('d'), variant_level=1)"
      ]
     },
     "execution_count": 88,
     "metadata": {},
     "output_type": "execute_result"
    }
   ],
   "source": [
    "properties['equatorialCoords']"
   ]
  },
  {
   "cell_type": "code",
   "execution_count": null,
   "metadata": {},
   "outputs": [
    {
     "data": {
      "text/plain": [
       "dbus.Boolean(True)"
      ]
     },
     "execution_count": 35,
     "metadata": {},
     "output_type": "execute_result"
    }
   ],
   "source": [
    "iface.loadScheduler(\"/home/tim/MMT/timdimm_tng/timdimm_sim_test_schedule.esl\")"
   ]
  },
  {
   "cell_type": "code",
   "execution_count": null,
   "metadata": {},
   "outputs": [],
   "source": []
  }
 ],
 "metadata": {
  "kernelspec": {
   "display_name": "Python 3",
   "language": "python",
   "name": "python3"
  },
  "language_info": {
   "codemirror_mode": {
    "name": "ipython",
    "version": 3
   },
   "file_extension": ".py",
   "mimetype": "text/x-python",
   "name": "python",
   "nbconvert_exporter": "python",
   "pygments_lexer": "ipython3",
   "version": "3.10.12"
  },
  "orig_nbformat": 4
 },
 "nbformat": 4,
 "nbformat_minor": 2
}
