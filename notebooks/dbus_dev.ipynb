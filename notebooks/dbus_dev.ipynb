{
 "cells": [
  {
   "cell_type": "code",
   "execution_count": 1,
   "metadata": {},
   "outputs": [],
   "source": [
    "import dbus\n",
    "\n",
    "import astropy.units as u"
   ]
  },
  {
   "cell_type": "code",
   "execution_count": 2,
   "metadata": {},
   "outputs": [],
   "source": [
    "%load_ext autoreload\n",
    "%autoreload 2"
   ]
  },
  {
   "cell_type": "code",
   "execution_count": 3,
   "metadata": {},
   "outputs": [],
   "source": [
    "bus = dbus.SessionBus()"
   ]
  },
  {
   "cell_type": "code",
   "execution_count": 35,
   "metadata": {},
   "outputs": [],
   "source": [
    "robj = bus.get_object(\"org.kde.kstars\", \"/KStars/Ekos/Mount\")\n",
    "#print(robj.Introspect())\n",
    "iface = dbus.Interface(robj, 'org.kde.kstars.Ekos.Mount')\n",
    "prop_iface = dbus.Interface(robj, dbus_interface='org.freedesktop.DBus.Properties')"
   ]
  },
  {
   "cell_type": "code",
   "execution_count": 62,
   "metadata": {},
   "outputs": [
    {
     "data": {
      "text/plain": [
       "(89.33256162448235, 1.1481304173362827)"
      ]
     },
     "execution_count": 62,
     "metadata": {},
     "output_type": "execute_result"
    }
   ],
   "source": [
    "properties = prop_iface.GetAll(\"org.kde.kstars.Ekos.Mount\")\n",
    "az, el = float(properties['horizontalCoords'][0]), float(properties['horizontalCoords'][1])\n",
    "az, el"
   ]
  },
  {
   "cell_type": "code",
   "execution_count": 37,
   "metadata": {},
   "outputs": [
    {
     "data": {
      "text/plain": [
       "[dbus.String('altitudeLimits'),\n",
       " dbus.String('altitudeLimitsEnabled'),\n",
       " dbus.String('canPark'),\n",
       " dbus.String('equatorialCoords'),\n",
       " dbus.String('horizontalCoords'),\n",
       " dbus.String('hourAngle'),\n",
       " dbus.String('hourAngleLimit'),\n",
       " dbus.String('hourAngleLimitEnabled'),\n",
       " dbus.String('logText'),\n",
       " dbus.String('opticalTrain'),\n",
       " dbus.String('parkStatus'),\n",
       " dbus.String('pierSide'),\n",
       " dbus.String('slewRate'),\n",
       " dbus.String('slewStatus'),\n",
       " dbus.String('status')]"
      ]
     },
     "execution_count": 37,
     "metadata": {},
     "output_type": "execute_result"
    }
   ],
   "source": [
    "list(properties.keys())"
   ]
  },
  {
   "cell_type": "code",
   "execution_count": 73,
   "metadata": {},
   "outputs": [
    {
     "data": {
      "text/plain": [
       "dbus.Int32(0, variant_level=1)"
      ]
     },
     "execution_count": 73,
     "metadata": {},
     "output_type": "execute_result"
    }
   ],
   "source": [
    "properties['status']"
   ]
  },
  {
   "cell_type": "code",
   "execution_count": null,
   "metadata": {},
   "outputs": [],
   "source": []
  }
 ],
 "metadata": {
  "kernelspec": {
   "display_name": "Python 3",
   "language": "python",
   "name": "python3"
  },
  "language_info": {
   "codemirror_mode": {
    "name": "ipython",
    "version": 3
   },
   "file_extension": ".py",
   "mimetype": "text/x-python",
   "name": "python",
   "nbconvert_exporter": "python",
   "pygments_lexer": "ipython3",
   "version": "3.10.12"
  },
  "orig_nbformat": 4
 },
 "nbformat": 4,
 "nbformat_minor": 2
}
