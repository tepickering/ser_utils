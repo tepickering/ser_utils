{
 "cells": [
  {
   "cell_type": "code",
   "execution_count": 1,
   "metadata": {},
   "outputs": [],
   "source": [
    "import dbus\n",
    "\n",
    "import astropy.units as u"
   ]
  },
  {
   "cell_type": "code",
   "execution_count": 2,
   "metadata": {},
   "outputs": [],
   "source": [
    "%load_ext autoreload\n",
    "%autoreload 2"
   ]
  },
  {
   "cell_type": "code",
   "execution_count": 3,
   "metadata": {},
   "outputs": [],
   "source": [
    "bus = dbus.SessionBus()"
   ]
  },
  {
   "cell_type": "code",
   "execution_count": 4,
   "metadata": {},
   "outputs": [],
   "source": [
    "robj = bus.get_object(\"org.kde.kstars\", \"/KStars/Ekos/Mount\")\n",
    "#print(robj.Introspect())\n",
    "iface = dbus.Interface(robj, 'org.kde.kstars.Ekos.Mount')\n",
    "prop_iface = dbus.Interface(robj, dbus_interface='org.freedesktop.DBus.Properties')"
   ]
  },
  {
   "cell_type": "code",
   "execution_count": 5,
   "metadata": {},
   "outputs": [],
   "source": [
    "properties = prop_iface.GetAll(\"org.kde.kstars.Ekos.Mount\")\n",
    "#az, el = float(properties['horizontalCoords'][0]) * u.deg, float(properties['horizontalCoords'][1]) * u.deg\n",
    "#az, el"
   ]
  },
  {
   "cell_type": "code",
   "execution_count": 6,
   "metadata": {},
   "outputs": [
    {
     "data": {
      "text/plain": [
       "[dbus.String('altitudeLimits'),\n",
       " dbus.String('altitudeLimitsEnabled'),\n",
       " dbus.String('canPark'),\n",
       " dbus.String('equatorialCoords'),\n",
       " dbus.String('horizontalCoords'),\n",
       " dbus.String('hourAngle'),\n",
       " dbus.String('hourAngleLimit'),\n",
       " dbus.String('hourAngleLimitEnabled'),\n",
       " dbus.String('logText'),\n",
       " dbus.String('opticalTrain'),\n",
       " dbus.String('parkStatus'),\n",
       " dbus.String('pierSide'),\n",
       " dbus.String('slewRate'),\n",
       " dbus.String('slewStatus'),\n",
       " dbus.String('status')]"
      ]
     },
     "execution_count": 6,
     "metadata": {},
     "output_type": "execute_result"
    }
   ],
   "source": [
    "list(properties.keys())"
   ]
  },
  {
   "cell_type": "code",
   "execution_count": 7,
   "metadata": {},
   "outputs": [
    {
     "data": {
      "text/plain": [
       "dbus.Int32(0, variant_level=1)"
      ]
     },
     "execution_count": 7,
     "metadata": {},
     "output_type": "execute_result"
    }
   ],
   "source": [
    "properties['status']"
   ]
  },
  {
   "cell_type": "code",
   "execution_count": 86,
   "metadata": {},
   "outputs": [
    {
     "name": "stdout",
     "output_type": "stream",
     "text": [
      "143.9°\n"
     ]
    }
   ],
   "source": [
    "print(f\"{float(properties['horizontalCoords'][0]):.1f}°\")"
   ]
  },
  {
   "cell_type": "code",
   "execution_count": 88,
   "metadata": {},
   "outputs": [
    {
     "data": {
      "text/plain": [
       "dbus.Array([dbus.Double(1.6434069008550636), dbus.Double(-57.111856128864474)], signature=dbus.Signature('d'), variant_level=1)"
      ]
     },
     "execution_count": 88,
     "metadata": {},
     "output_type": "execute_result"
    }
   ],
   "source": [
    "properties['equatorialCoords']"
   ]
  },
  {
   "cell_type": "code",
   "execution_count": 35,
   "metadata": {},
   "outputs": [
    {
     "data": {
      "text/plain": [
       "dbus.Boolean(True)"
      ]
     },
     "execution_count": 35,
     "metadata": {},
     "output_type": "execute_result"
    }
   ],
   "source": [
    "iface.loadScheduler(\"/home/tim/MMT/timdimm_tng/timdimm_sim_test_schedule.esl\")"
   ]
  },
  {
   "cell_type": "code",
   "execution_count": 7,
   "metadata": {},
   "outputs": [
    {
     "name": "stdout",
     "output_type": "stream",
     "text": [
      "<!DOCTYPE node PUBLIC \"-//freedesktop//DTD D-BUS Object Introspection 1.0//EN\"\n",
      "\"http://www.freedesktop.org/standards/dbus/1.0/introspect.dtd\">\n",
      "<node>\n",
      "  <interface name=\"org.kde.kstars.Ekos.Mount\">\n",
      "    <property access=\"readwrite\" type=\"s\" name=\"opticalTrain\"/>\n",
      "    <property access=\"read\" type=\"as\" name=\"logText\"/>\n",
      "    <property access=\"read\" type=\"b\" name=\"canPark\"/>\n",
      "    <property access=\"read\" type=\"i\" name=\"slewStatus\"/>\n",
      "    <property access=\"readwrite\" type=\"ad\" name=\"altitudeLimits\">\n",
      "      <annotation value=\"QList&lt;double&gt;\" name=\"org.qtproject.QtDBus.QtTypeName\"/>\n",
      "    </property>\n",
      "    <property access=\"readwrite\" type=\"b\" name=\"altitudeLimitsEnabled\"/>\n",
      "    <property access=\"readwrite\" type=\"d\" name=\"hourAngleLimit\"/>\n",
      "    <property access=\"readwrite\" type=\"b\" name=\"hourAngleLimitEnabled\"/>\n",
      "    <property access=\"read\" type=\"ad\" name=\"equatorialCoords\">\n",
      "      <annotation value=\"QList&lt;double&gt;\" name=\"org.qtproject.QtDBus.QtTypeName\"/>\n",
      "    </property>\n",
      "    <property access=\"read\" type=\"ad\" name=\"horizontalCoords\">\n",
      "      <annotation value=\"QList&lt;double&gt;\" name=\"org.qtproject.QtDBus.QtTypeName\"/>\n",
      "    </property>\n",
      "    <property access=\"readwrite\" type=\"i\" name=\"slewRate\"/>\n",
      "    <property access=\"read\" type=\"d\" name=\"hourAngle\"/>\n",
      "    <property access=\"read\" type=\"i\" name=\"status\">\n",
      "      <annotation value=\"ISD::Mount::Status\" name=\"org.qtproject.QtDBus.QtTypeName\"/>\n",
      "    </property>\n",
      "    <property access=\"read\" type=\"i\" name=\"parkStatus\">\n",
      "      <annotation value=\"ISD::ParkStatus\" name=\"org.qtproject.QtDBus.QtTypeName\"/>\n",
      "    </property>\n",
      "    <property access=\"read\" type=\"i\" name=\"pierSide\">\n",
      "      <annotation value=\"ISD::Mount::PierSide\" name=\"org.qtproject.QtDBus.QtTypeName\"/>\n",
      "    </property>\n",
      "    <method name=\"slew\">\n",
      "      <arg direction=\"out\" type=\"b\"/>\n",
      "      <arg direction=\"in\" type=\"d\" name=\"RA\"/>\n",
      "      <arg direction=\"in\" type=\"d\" name=\"DEC\"/>\n",
      "    </method>\n",
      "    <method name=\"gotoTarget\">\n",
      "      <arg direction=\"out\" type=\"b\"/>\n",
      "      <arg direction=\"in\" type=\"s\" name=\"target\"/>\n",
      "    </method>\n",
      "    <method name=\"syncTarget\">\n",
      "      <arg direction=\"out\" type=\"b\"/>\n",
      "      <arg direction=\"in\" type=\"s\" name=\"target\"/>\n",
      "    </method>\n",
      "    <method name=\"abort\">\n",
      "      <arg direction=\"out\" type=\"b\"/>\n",
      "    </method>\n",
      "    <method name=\"park\">\n",
      "      <arg direction=\"out\" type=\"b\"/>\n",
      "    </method>\n",
      "    <method name=\"unpark\">\n",
      "      <arg direction=\"out\" type=\"b\"/>\n",
      "    </method>\n",
      "    <method name=\"resetModel\">\n",
      "      <arg direction=\"out\" type=\"b\"/>\n",
      "    </method>\n",
      "    <method name=\"setMeridianFlipValues\">\n",
      "      <arg direction=\"in\" type=\"b\" name=\"activate\"/>\n",
      "      <arg direction=\"in\" type=\"d\" name=\"hours\"/>\n",
      "      <annotation value=\"true\" name=\"org.freedesktop.DBus.Method.NoReply\"/>\n",
      "    </method>\n",
      "    <signal name=\"newStatus\">\n",
      "      <arg direction=\"out\" type=\"(i)\" name=\"status\"/>\n",
      "      <annotation value=\"ISD::Mount::Status\" name=\"org.qtproject.QtDBus.QtTypeName.In0\"/>\n",
      "      <annotation value=\"ISD::Mount::Status\" name=\"org.qtproject.QtDBus.QtTypeName.Out0\"/>\n",
      "    </signal>\n",
      "    <signal name=\"newParkStatus\">\n",
      "      <arg direction=\"out\" type=\"(i)\" name=\"status\"/>\n",
      "      <annotation value=\"ISD::ParkStatus\" name=\"org.qtproject.QtDBus.QtTypeName.In0\"/>\n",
      "      <annotation value=\"ISD::ParkStatus\" name=\"org.qtproject.QtDBus.QtTypeName.Out0\"/>\n",
      "    </signal>\n",
      "    <signal name=\"pierSideChanged\">\n",
      "      <arg direction=\"out\" type=\"(i)\" name=\"side\"/>\n",
      "      <annotation value=\"ISD::Mount::PierSide\" name=\"org.qtproject.QtDBus.QtTypeName.In0\"/>\n",
      "      <annotation value=\"ISD::Mount::PierSide\" name=\"org.qtproject.QtDBus.QtTypeName.Out0\"/>\n",
      "    </signal>\n",
      "    <signal name=\"newMeridianFlipSetup\">\n",
      "    </signal>\n",
      "    <signal name=\"ready\"/>\n",
      "  </interface>\n",
      "  <interface name=\"org.freedesktop.DBus.Properties\">\n",
      "    <method name=\"Get\">\n",
      "      <arg name=\"interface_name\" type=\"s\" direction=\"in\"/>\n",
      "      <arg name=\"property_name\" type=\"s\" direction=\"in\"/>\n",
      "      <arg name=\"value\" type=\"v\" direction=\"out\"/>\n",
      "    </method>\n",
      "    <method name=\"Set\">\n",
      "      <arg name=\"interface_name\" type=\"s\" direction=\"in\"/>\n",
      "      <arg name=\"property_name\" type=\"s\" direction=\"in\"/>\n",
      "      <arg name=\"value\" type=\"v\" direction=\"in\"/>\n",
      "    </method>\n",
      "    <method name=\"GetAll\">\n",
      "      <arg name=\"interface_name\" type=\"s\" direction=\"in\"/>\n",
      "      <arg name=\"values\" type=\"a{sv}\" direction=\"out\"/>\n",
      "      <annotation name=\"org.qtproject.QtDBus.QtTypeName.Out0\" value=\"QVariantMap\"/>\n",
      "    </method>\n",
      "    <signal name=\"PropertiesChanged\">\n",
      "      <arg name=\"interface_name\" type=\"s\" direction=\"out\"/>\n",
      "      <arg name=\"changed_properties\" type=\"a{sv}\" direction=\"out\"/>\n",
      "      <annotation name=\"org.qtproject.QtDBus.QtTypeName.Out1\" value=\"QVariantMap\"/>\n",
      "      <arg name=\"invalidated_properties\" type=\"as\" direction=\"out\"/>\n",
      "    </signal>\n",
      "  </interface>\n",
      "  <interface name=\"org.freedesktop.DBus.Introspectable\">\n",
      "    <method name=\"Introspect\">\n",
      "      <arg name=\"xml_data\" type=\"s\" direction=\"out\"/>\n",
      "    </method>\n",
      "  </interface>\n",
      "  <interface name=\"org.freedesktop.DBus.Peer\">\n",
      "    <method name=\"Ping\"/>\n",
      "    <method name=\"GetMachineId\">\n",
      "      <arg name=\"machine_uuid\" type=\"s\" direction=\"out\"/>\n",
      "    </method>\n",
      "  </interface>\n",
      "</node>\n",
      "\n"
     ]
    }
   ],
   "source": [
    "print(robj.Introspect())"
   ]
  },
  {
   "cell_type": "code",
   "execution_count": null,
   "metadata": {},
   "outputs": [],
   "source": []
  }
 ],
 "metadata": {
  "kernelspec": {
   "display_name": "Python 3",
   "language": "python",
   "name": "python3"
  },
  "language_info": {
   "codemirror_mode": {
    "name": "ipython",
    "version": 3
   },
   "file_extension": ".py",
   "mimetype": "text/x-python",
   "name": "python",
   "nbconvert_exporter": "python",
   "pygments_lexer": "ipython3",
   "version": "3.10.12"
  },
  "orig_nbformat": 4
 },
 "nbformat": 4,
 "nbformat_minor": 2
}
