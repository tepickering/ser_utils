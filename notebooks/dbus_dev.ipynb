{
 "cells": [
  {
   "cell_type": "code",
   "execution_count": 1,
   "metadata": {},
   "outputs": [],
   "source": [
    "import dbus\n",
    "\n",
    "import astropy.units as u\n",
    "\n",
    "from sdbus import sd_bus_open_user\n",
    "from timdimm_tng.dbus.scheduler import EkosSchedulerInterface, SCHEDULER_PATH, SCHEDULER_SERVICE"
   ]
  },
  {
   "cell_type": "code",
   "execution_count": 2,
   "metadata": {},
   "outputs": [],
   "source": [
    "%load_ext autoreload\n",
    "%autoreload 2"
   ]
  },
  {
   "cell_type": "code",
   "execution_count": 3,
   "metadata": {},
   "outputs": [],
   "source": [
    "bus = sd_bus_open_user()\n",
    "s = EkosSchedulerInterface(SCHEDULER_SERVICE, SCHEDULER_PATH, bus=bus)"
   ]
  },
  {
   "cell_type": "code",
   "execution_count": 4,
   "metadata": {},
   "outputs": [
    {
     "data": {
      "text/plain": [
       "True"
      ]
     },
     "execution_count": 4,
     "metadata": {},
     "output_type": "execute_result"
    }
   ],
   "source": [
    "s.load_scheduler(file_u_r_l=\"/home/tim/MMT/timdimm_tng/timdimm_sim_test_schedule.esl\")"
   ]
  },
  {
   "cell_type": "code",
   "execution_count": 10,
   "metadata": {},
   "outputs": [],
   "source": [
    "s.start()"
   ]
  },
  {
   "cell_type": "code",
   "execution_count": 8,
   "metadata": {},
   "outputs": [
    {
     "ename": "AssertionError",
     "evalue": "Used sync __get__ method in async environment. This is probably an error as it will block other asyncio methods for considerable time.",
     "output_type": "error",
     "traceback": [
      "\u001b[0;31m---------------------------------------------------------------------------\u001b[0m",
      "\u001b[0;31mAssertionError\u001b[0m                            Traceback (most recent call last)",
      "Cell \u001b[0;32mIn[8], line 1\u001b[0m\n\u001b[0;32m----> 1\u001b[0m s\u001b[39m.\u001b[39mlog_text\n",
      "File \u001b[0;32m~/conda/envs/timdimm/lib/python3.11/site-packages/sdbus/dbus_proxy_sync_property.py:74\u001b[0m, in \u001b[0;36mDbusPropertySync.__get__\u001b[0;34m(self, obj, obj_class)\u001b[0m\n\u001b[1;32m     70\u001b[0m \u001b[39mdef\u001b[39;00m \u001b[39m__get__\u001b[39m(\u001b[39mself\u001b[39m,\n\u001b[1;32m     71\u001b[0m             obj: DbusInterfaceBase,\n\u001b[1;32m     72\u001b[0m             obj_class: Optional[Type[DbusInterfaceBase]] \u001b[39m=\u001b[39m \u001b[39mNone\u001b[39;00m,\n\u001b[1;32m     73\u001b[0m             ) \u001b[39m-\u001b[39m\u001b[39m>\u001b[39m T:\n\u001b[0;32m---> 74\u001b[0m     \u001b[39massert\u001b[39;00m _check_sync_in_async_env(), (\n\u001b[1;32m     75\u001b[0m         \u001b[39m\"\u001b[39m\u001b[39mUsed sync __get__ method in async environment. \u001b[39m\u001b[39m\"\u001b[39m\n\u001b[1;32m     76\u001b[0m         \u001b[39m\"\u001b[39m\u001b[39mThis is probably an error as it will block \u001b[39m\u001b[39m\"\u001b[39m\n\u001b[1;32m     77\u001b[0m         \u001b[39m\"\u001b[39m\u001b[39mother asyncio methods for considerable time.\u001b[39m\u001b[39m\"\u001b[39m\n\u001b[1;32m     78\u001b[0m     )\n\u001b[1;32m     79\u001b[0m     \u001b[39massert\u001b[39;00m \u001b[39mself\u001b[39m\u001b[39m.\u001b[39minterface_name \u001b[39mis\u001b[39;00m \u001b[39mnot\u001b[39;00m \u001b[39mNone\u001b[39;00m\n\u001b[1;32m     81\u001b[0m     new_call_message \u001b[39m=\u001b[39m obj\u001b[39m.\u001b[39m_attached_bus\u001b[39m.\u001b[39m \\\n\u001b[1;32m     82\u001b[0m         new_property_get_message(\n\u001b[1;32m     83\u001b[0m             obj\u001b[39m.\u001b[39m_remote_service_name,\n\u001b[0;32m   (...)\u001b[0m\n\u001b[1;32m     86\u001b[0m             \u001b[39mself\u001b[39m\u001b[39m.\u001b[39mproperty_name,\n\u001b[1;32m     87\u001b[0m         )\n",
      "\u001b[0;31mAssertionError\u001b[0m: Used sync __get__ method in async environment. This is probably an error as it will block other asyncio methods for considerable time."
     ]
    }
   ],
   "source": [
    "s.log_text"
   ]
  },
  {
   "cell_type": "code",
   "execution_count": 3,
   "metadata": {},
   "outputs": [],
   "source": [
    "bus = dbus.SessionBus()"
   ]
  },
  {
   "cell_type": "code",
   "execution_count": 4,
   "metadata": {},
   "outputs": [],
   "source": [
    "robj = bus.get_object(\"org.kde.kstars\", \"/KStars/Ekos/Scheduler\")\n",
    "#print(robj.Introspect())\n",
    "iface = dbus.Interface(robj, 'org.kde.kstars.Ekos.Scheduler')\n",
    "prop_iface = dbus.Interface(robj, dbus_interface='org.freedesktop.DBus.Properties')"
   ]
  },
  {
   "cell_type": "code",
   "execution_count": 5,
   "metadata": {},
   "outputs": [],
   "source": [
    "properties = prop_iface.GetAll(\"org.kde.kstars.Ekos.Scheduler\")\n",
    "#az, el = float(properties['horizontalCoords'][0]) * u.deg, float(properties['horizontalCoords'][1]) * u.deg\n",
    "#az, el"
   ]
  },
  {
   "cell_type": "code",
   "execution_count": 6,
   "metadata": {},
   "outputs": [
    {
     "data": {
      "text/plain": [
       "[dbus.String('logText'), dbus.String('profile'), dbus.String('status')]"
      ]
     },
     "execution_count": 6,
     "metadata": {},
     "output_type": "execute_result"
    }
   ],
   "source": [
    "list(properties.keys())"
   ]
  },
  {
   "cell_type": "code",
   "execution_count": 7,
   "metadata": {},
   "outputs": [
    {
     "data": {
      "text/plain": [
       "dbus.Int32(0, variant_level=1)"
      ]
     },
     "execution_count": 7,
     "metadata": {},
     "output_type": "execute_result"
    }
   ],
   "source": [
    "properties['status']"
   ]
  },
  {
   "cell_type": "code",
   "execution_count": 86,
   "metadata": {},
   "outputs": [
    {
     "name": "stdout",
     "output_type": "stream",
     "text": [
      "143.9°\n"
     ]
    }
   ],
   "source": [
    "print(f\"{float(properties['horizontalCoords'][0]):.1f}°\")"
   ]
  },
  {
   "cell_type": "code",
   "execution_count": 88,
   "metadata": {},
   "outputs": [
    {
     "data": {
      "text/plain": [
       "dbus.Array([dbus.Double(1.6434069008550636), dbus.Double(-57.111856128864474)], signature=dbus.Signature('d'), variant_level=1)"
      ]
     },
     "execution_count": 88,
     "metadata": {},
     "output_type": "execute_result"
    }
   ],
   "source": [
    "properties['equatorialCoords']"
   ]
  },
  {
   "cell_type": "code",
   "execution_count": 35,
   "metadata": {},
   "outputs": [
    {
     "data": {
      "text/plain": [
       "dbus.Boolean(True)"
      ]
     },
     "execution_count": 35,
     "metadata": {},
     "output_type": "execute_result"
    }
   ],
   "source": [
    "iface.loadScheduler(\"/home/tim/MMT/timdimm_tng/timdimm_sim_test_schedule.esl\")"
   ]
  },
  {
   "cell_type": "code",
   "execution_count": 9,
   "metadata": {},
   "outputs": [
    {
     "name": "stdout",
     "output_type": "stream",
     "text": [
      "<!DOCTYPE node PUBLIC \"-//freedesktop//DTD D-BUS Object Introspection 1.0//EN\"\n",
      "\"http://www.freedesktop.org/standards/dbus/1.0/introspect.dtd\">\n",
      "<node>\n",
      "  <interface name=\"org.kde.kstars.Ekos.Scheduler\">\n",
      "    <property access=\"readwrite\" type=\"s\" name=\"profile\"/>\n",
      "    <property access=\"read\" type=\"as\" name=\"logText\"/>\n",
      "    <property access=\"read\" type=\"i\" name=\"status\">\n",
      "      <annotation value=\"Ekos::SchedulerState\" name=\"org.qtproject.QtDBus.QtTypeName\"/>\n",
      "    </property>\n",
      "    <method name=\"start\">\n",
      "      <annotation value=\"true\" name=\"org.freedesktop.DBus.Method.NoReply\"/>\n",
      "    </method>\n",
      "    <method name=\"stop\">\n",
      "      <annotation value=\"true\" name=\"org.freedesktop.DBus.Method.NoReply\"/>\n",
      "    </method>\n",
      "    <method name=\"removeAllJobs\">\n",
      "      <annotation value=\"true\" name=\"org.freedesktop.DBus.Method.NoReply\"/>\n",
      "    </method>\n",
      "    <method name=\"loadScheduler\">\n",
      "      <arg direction=\"in\" type=\"s\" name=\"fileURL\"/>\n",
      "      <arg direction=\"out\" type=\"b\"/>\n",
      "      <annotation value=\"QUrl\" name=\"org.qtproject.QtDBus.QtTypeName.In0\"/>\n",
      "    </method>\n",
      "    <method name=\"setSequence\">\n",
      "      <annotation value=\"true\" name=\"org.freedesktop.DBus.Method.NoReply\"/>\n",
      "      <arg direction=\"in\" type=\"s\" name=\"sequenceFileURL\"/>\n",
      "      <annotation value=\"QUrl\" name=\"org.qtproject.QtDBus.QtTypeName.In0\"/>\n",
      "    </method>\n",
      "    <method name=\"resetAllJobs\">\n",
      "      <annotation value=\"true\" name=\"org.freedesktop.DBus.Method.NoReply\"/>\n",
      "    </method>\n",
      "    <signal name=\"newStatus\">\n",
      "      <arg direction=\"out\" type=\"(i)\" name=\"status\"/>\n",
      "      <annotation value=\"Ekos::SchedulerState\" name=\"org.qtproject.QtDBus.QtTypeName.In0\"/>\n",
      "      <annotation value=\"Ekos::SchedulerState\" name=\"org.qtproject.QtDBus.QtTypeName.Out0\"/>\n",
      "    </signal>\n",
      "    <signal name=\"newLog\">\n",
      "      <arg direction=\"out\" type=\"s\" name=\"text\"/>\n",
      "    </signal>\n",
      "  </interface>\n",
      "  <interface name=\"org.freedesktop.DBus.Properties\">\n",
      "    <method name=\"Get\">\n",
      "      <arg name=\"interface_name\" type=\"s\" direction=\"in\"/>\n",
      "      <arg name=\"property_name\" type=\"s\" direction=\"in\"/>\n",
      "      <arg name=\"value\" type=\"v\" direction=\"out\"/>\n",
      "    </method>\n",
      "    <method name=\"Set\">\n",
      "      <arg name=\"interface_name\" type=\"s\" direction=\"in\"/>\n",
      "      <arg name=\"property_name\" type=\"s\" direction=\"in\"/>\n",
      "      <arg name=\"value\" type=\"v\" direction=\"in\"/>\n",
      "    </method>\n",
      "    <method name=\"GetAll\">\n",
      "      <arg name=\"interface_name\" type=\"s\" direction=\"in\"/>\n",
      "      <arg name=\"values\" type=\"a{sv}\" direction=\"out\"/>\n",
      "      <annotation name=\"org.qtproject.QtDBus.QtTypeName.Out0\" value=\"QVariantMap\"/>\n",
      "    </method>\n",
      "    <signal name=\"PropertiesChanged\">\n",
      "      <arg name=\"interface_name\" type=\"s\" direction=\"out\"/>\n",
      "      <arg name=\"changed_properties\" type=\"a{sv}\" direction=\"out\"/>\n",
      "      <annotation name=\"org.qtproject.QtDBus.QtTypeName.Out1\" value=\"QVariantMap\"/>\n",
      "      <arg name=\"invalidated_properties\" type=\"as\" direction=\"out\"/>\n",
      "    </signal>\n",
      "  </interface>\n",
      "  <interface name=\"org.freedesktop.DBus.Introspectable\">\n",
      "    <method name=\"Introspect\">\n",
      "      <arg name=\"xml_data\" type=\"s\" direction=\"out\"/>\n",
      "    </method>\n",
      "  </interface>\n",
      "  <interface name=\"org.freedesktop.DBus.Peer\">\n",
      "    <method name=\"Ping\"/>\n",
      "    <method name=\"GetMachineId\">\n",
      "      <arg name=\"machine_uuid\" type=\"s\" direction=\"out\"/>\n",
      "    </method>\n",
      "  </interface>\n",
      "</node>\n",
      "\n"
     ]
    }
   ],
   "source": [
    "print(robj.Introspect())"
   ]
  },
  {
   "cell_type": "code",
   "execution_count": null,
   "metadata": {},
   "outputs": [],
   "source": []
  }
 ],
 "metadata": {
  "kernelspec": {
   "display_name": "Python 3",
   "language": "python",
   "name": "python3"
  },
  "language_info": {
   "codemirror_mode": {
    "name": "ipython",
    "version": 3
   },
   "file_extension": ".py",
   "mimetype": "text/x-python",
   "name": "python",
   "nbconvert_exporter": "python",
   "pygments_lexer": "ipython3",
   "version": "3.11.4"
  },
  "orig_nbformat": 4
 },
 "nbformat": 4,
 "nbformat_minor": 2
}
