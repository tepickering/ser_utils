{
 "cells": [
  {
   "cell_type": "code",
   "execution_count": 1,
   "metadata": {},
   "outputs": [],
   "source": [
    "import dbus\n",
    "\n",
    "import astropy.units as u"
   ]
  },
  {
   "cell_type": "code",
   "execution_count": 2,
   "metadata": {},
   "outputs": [],
   "source": [
    "%load_ext autoreload\n",
    "%autoreload 2"
   ]
  },
  {
   "cell_type": "code",
   "execution_count": 3,
   "metadata": {},
   "outputs": [],
   "source": [
    "bus = dbus.SessionBus()"
   ]
  },
  {
   "cell_type": "code",
   "execution_count": 13,
   "metadata": {},
   "outputs": [],
   "source": [
    "robj = bus.get_object(\"org.kde.kstars\", \"/KStars/Ekos/Mount\")\n",
    "#print(robj.Introspect())"
   ]
  },
  {
   "cell_type": "code",
   "execution_count": 26,
   "metadata": {},
   "outputs": [],
   "source": [
    "iface = dbus.Interface(robj, 'org.kde.kstars.Ekos.Mount')"
   ]
  },
  {
   "cell_type": "code",
   "execution_count": 35,
   "metadata": {},
   "outputs": [
    {
     "name": "stdout",
     "output_type": "stream",
     "text": [
      "<!DOCTYPE node PUBLIC \"-//freedesktop//DTD D-BUS Object Introspection 1.0//EN\"\n",
      "\"http://www.freedesktop.org/standards/dbus/1.0/introspect.dtd\">\n",
      "<node>\n",
      "  <interface name=\"org.kde.kstars.Ekos.Mount\">\n",
      "    <property access=\"readwrite\" type=\"s\" name=\"opticalTrain\"/>\n",
      "    <property access=\"read\" type=\"as\" name=\"logText\"/>\n",
      "    <property access=\"read\" type=\"b\" name=\"canPark\"/>\n",
      "    <property access=\"read\" type=\"i\" name=\"slewStatus\"/>\n",
      "    <property access=\"readwrite\" type=\"ad\" name=\"altitudeLimits\">\n",
      "      <annotation value=\"QList&lt;double&gt;\" name=\"org.qtproject.QtDBus.QtTypeName\"/>\n",
      "    </property>\n",
      "    <property access=\"readwrite\" type=\"b\" name=\"altitudeLimitsEnabled\"/>\n",
      "    <property access=\"readwrite\" type=\"d\" name=\"hourAngleLimit\"/>\n",
      "    <property access=\"readwrite\" type=\"b\" name=\"hourAngleLimitEnabled\"/>\n",
      "    <property access=\"read\" type=\"ad\" name=\"equatorialCoords\">\n",
      "      <annotation value=\"QList&lt;double&gt;\" name=\"org.qtproject.QtDBus.QtTypeName\"/>\n",
      "    </property>\n",
      "    <property access=\"read\" type=\"ad\" name=\"horizontalCoords\">\n",
      "      <annotation value=\"QList&lt;double&gt;\" name=\"org.qtproject.QtDBus.QtTypeName\"/>\n",
      "    </property>\n",
      "    <property access=\"readwrite\" type=\"i\" name=\"slewRate\"/>\n",
      "    <property access=\"read\" type=\"d\" name=\"hourAngle\"/>\n",
      "    <property access=\"read\" type=\"i\" name=\"status\">\n",
      "      <annotation value=\"ISD::Mount::Status\" name=\"org.qtproject.QtDBus.QtTypeName\"/>\n",
      "    </property>\n",
      "    <property access=\"read\" type=\"i\" name=\"parkStatus\">\n",
      "      <annotation value=\"ISD::ParkStatus\" name=\"org.qtproject.QtDBus.QtTypeName\"/>\n",
      "    </property>\n",
      "    <property access=\"read\" type=\"i\" name=\"pierSide\">\n",
      "      <annotation value=\"ISD::Mount::PierSide\" name=\"org.qtproject.QtDBus.QtTypeName\"/>\n",
      "    </property>\n",
      "    <method name=\"slew\">\n",
      "      <arg direction=\"out\" type=\"b\"/>\n",
      "      <arg direction=\"in\" type=\"d\" name=\"RA\"/>\n",
      "      <arg direction=\"in\" type=\"d\" name=\"DEC\"/>\n",
      "    </method>\n",
      "    <method name=\"gotoTarget\">\n",
      "      <arg direction=\"out\" type=\"b\"/>\n",
      "      <arg direction=\"in\" type=\"s\" name=\"target\"/>\n",
      "    </method>\n",
      "    <method name=\"syncTarget\">\n",
      "      <arg direction=\"out\" type=\"b\"/>\n",
      "      <arg direction=\"in\" type=\"s\" name=\"target\"/>\n",
      "    </method>\n",
      "    <method name=\"abort\">\n",
      "      <arg direction=\"out\" type=\"b\"/>\n",
      "    </method>\n",
      "    <method name=\"park\">\n",
      "      <arg direction=\"out\" type=\"b\"/>\n",
      "    </method>\n",
      "    <method name=\"unpark\">\n",
      "      <arg direction=\"out\" type=\"b\"/>\n",
      "    </method>\n",
      "    <method name=\"resetModel\">\n",
      "      <arg direction=\"out\" type=\"b\"/>\n",
      "    </method>\n",
      "    <method name=\"setMeridianFlipValues\">\n",
      "      <arg direction=\"in\" type=\"b\" name=\"activate\"/>\n",
      "      <arg direction=\"in\" type=\"d\" name=\"hours\"/>\n",
      "      <annotation value=\"true\" name=\"org.freedesktop.DBus.Method.NoReply\"/>\n",
      "    </method>\n",
      "    <signal name=\"newStatus\">\n",
      "      <arg direction=\"out\" type=\"(i)\" name=\"status\"/>\n",
      "      <annotation value=\"ISD::Mount::Status\" name=\"org.qtproject.QtDBus.QtTypeName.In0\"/>\n",
      "      <annotation value=\"ISD::Mount::Status\" name=\"org.qtproject.QtDBus.QtTypeName.Out0\"/>\n",
      "    </signal>\n",
      "    <signal name=\"newParkStatus\">\n",
      "      <arg direction=\"out\" type=\"(i)\" name=\"status\"/>\n",
      "      <annotation value=\"ISD::ParkStatus\" name=\"org.qtproject.QtDBus.QtTypeName.In0\"/>\n",
      "      <annotation value=\"ISD::ParkStatus\" name=\"org.qtproject.QtDBus.QtTypeName.Out0\"/>\n",
      "    </signal>\n",
      "    <signal name=\"pierSideChanged\">\n",
      "      <arg direction=\"out\" type=\"(i)\" name=\"side\"/>\n",
      "      <annotation value=\"ISD::Mount::PierSide\" name=\"org.qtproject.QtDBus.QtTypeName.In0\"/>\n",
      "      <annotation value=\"ISD::Mount::PierSide\" name=\"org.qtproject.QtDBus.QtTypeName.Out0\"/>\n",
      "    </signal>\n",
      "    <signal name=\"newMeridianFlipSetup\">\n",
      "    </signal>\n",
      "    <signal name=\"ready\"/>\n",
      "  </interface>\n",
      "  <interface name=\"org.freedesktop.DBus.Properties\">\n",
      "    <method name=\"Get\">\n",
      "      <arg name=\"interface_name\" type=\"s\" direction=\"in\"/>\n",
      "      <arg name=\"property_name\" type=\"s\" direction=\"in\"/>\n",
      "      <arg name=\"value\" type=\"v\" direction=\"out\"/>\n",
      "    </method>\n",
      "    <method name=\"Set\">\n",
      "      <arg name=\"interface_name\" type=\"s\" direction=\"in\"/>\n",
      "      <arg name=\"property_name\" type=\"s\" direction=\"in\"/>\n",
      "      <arg name=\"value\" type=\"v\" direction=\"in\"/>\n",
      "    </method>\n",
      "    <method name=\"GetAll\">\n",
      "      <arg name=\"interface_name\" type=\"s\" direction=\"in\"/>\n",
      "      <arg name=\"values\" type=\"a{sv}\" direction=\"out\"/>\n",
      "      <annotation name=\"org.qtproject.QtDBus.QtTypeName.Out0\" value=\"QVariantMap\"/>\n",
      "    </method>\n",
      "    <signal name=\"PropertiesChanged\">\n",
      "      <arg name=\"interface_name\" type=\"s\" direction=\"out\"/>\n",
      "      <arg name=\"changed_properties\" type=\"a{sv}\" direction=\"out\"/>\n",
      "      <annotation name=\"org.qtproject.QtDBus.QtTypeName.Out1\" value=\"QVariantMap\"/>\n",
      "      <arg name=\"invalidated_properties\" type=\"as\" direction=\"out\"/>\n",
      "    </signal>\n",
      "  </interface>\n",
      "  <interface name=\"org.freedesktop.DBus.Introspectable\">\n",
      "    <method name=\"Introspect\">\n",
      "      <arg name=\"xml_data\" type=\"s\" direction=\"out\"/>\n",
      "    </method>\n",
      "  </interface>\n",
      "  <interface name=\"org.freedesktop.DBus.Peer\">\n",
      "    <method name=\"Ping\"/>\n",
      "    <method name=\"GetMachineId\">\n",
      "      <arg name=\"machine_uuid\" type=\"s\" direction=\"out\"/>\n",
      "    </method>\n",
      "  </interface>\n",
      "</node>\n",
      "\n"
     ]
    }
   ],
   "source": [
    "print(robj.Introspect())"
   ]
  },
  {
   "cell_type": "code",
   "execution_count": 40,
   "metadata": {},
   "outputs": [
    {
     "data": {
      "text/plain": [
       "['__call__',\n",
       " '__class__',\n",
       " '__delattr__',\n",
       " '__dict__',\n",
       " '__dir__',\n",
       " '__doc__',\n",
       " '__eq__',\n",
       " '__format__',\n",
       " '__ge__',\n",
       " '__getattribute__',\n",
       " '__gt__',\n",
       " '__hash__',\n",
       " '__init__',\n",
       " '__init_subclass__',\n",
       " '__le__',\n",
       " '__lt__',\n",
       " '__module__',\n",
       " '__ne__',\n",
       " '__new__',\n",
       " '__reduce__',\n",
       " '__reduce_ex__',\n",
       " '__repr__',\n",
       " '__setattr__',\n",
       " '__sizeof__',\n",
       " '__str__',\n",
       " '__subclasshook__',\n",
       " '__weakref__',\n",
       " '_connection',\n",
       " '_dbus_interface',\n",
       " '_method_name',\n",
       " '_named_service',\n",
       " '_object_path',\n",
       " '_proxy',\n",
       " 'call_async']"
      ]
     },
     "execution_count": 40,
     "metadata": {},
     "output_type": "execute_result"
    }
   ],
   "source": [
    "dir(robj.properties)"
   ]
  },
  {
   "cell_type": "code",
   "execution_count": 38,
   "metadata": {},
   "outputs": [
    {
     "data": {
      "text/plain": [
       "<bound method _ProxyMethod.call_async of <dbus.proxies._ProxyMethod object at 0x7f129c049ba0>>"
      ]
     },
     "execution_count": 38,
     "metadata": {},
     "output_type": "execute_result"
    }
   ],
   "source": [
    "robj.horizontalCoords.call_async"
   ]
  },
  {
   "cell_type": "code",
   "execution_count": 46,
   "metadata": {},
   "outputs": [
    {
     "data": {
      "text/plain": [
       "<dbus.proxies._ProxyMethod at 0x7f129c1b9900>"
      ]
     },
     "execution_count": 46,
     "metadata": {},
     "output_type": "execute_result"
    }
   ],
   "source": [
    "iface.horizontalCoords\n"
   ]
  },
  {
   "cell_type": "code",
   "execution_count": null,
   "metadata": {},
   "outputs": [],
   "source": []
  }
 ],
 "metadata": {
  "kernelspec": {
   "display_name": "Python 3",
   "language": "python",
   "name": "python3"
  },
  "language_info": {
   "codemirror_mode": {
    "name": "ipython",
    "version": 3
   },
   "file_extension": ".py",
   "mimetype": "text/x-python",
   "name": "python",
   "nbconvert_exporter": "python",
   "pygments_lexer": "ipython3",
   "version": "3.10.12"
  },
  "orig_nbformat": 4
 },
 "nbformat": 4,
 "nbformat_minor": 2
}
