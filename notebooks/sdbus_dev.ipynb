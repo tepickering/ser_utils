{
 "cells": [
  {
   "cell_type": "code",
   "execution_count": 7,
   "metadata": {},
   "outputs": [],
   "source": [
    "import astropy.units as u\n",
    "\n",
    "import xmltodict\n",
    "\n",
    "from sdbus import sd_bus_open_user\n",
    "from timdimm_tng.dbus.scheduler import Scheduler\n",
    "from timdimm_tng.dbus.indi import INDI\n",
    "from timdimm_tng.dbus.mount import Mount\n",
    "from timdimm_tng.dbus.dome import get_dome, Dome\n",
    "from timdimm_tng.dbus.ekos import Ekos\n",
    "from timdimm_tng.dbus.capture import Capture"
   ]
  },
  {
   "cell_type": "code",
   "execution_count": 2,
   "metadata": {},
   "outputs": [],
   "source": [
    "bus = sd_bus_open_user()\n",
    "s = Scheduler(bus=bus)\n",
    "indi = INDI(bus=bus)\n",
    "mount = Mount(bus=bus)\n",
    "dome = get_dome(bus=bus)\n",
    "ekos = Ekos(bus=bus)\n",
    "capture = Capture(bus=bus)"
   ]
  },
  {
   "cell_type": "code",
   "execution_count": 6,
   "metadata": {},
   "outputs": [],
   "source": [
    "ekos.start()"
   ]
  },
  {
   "cell_type": "code",
   "execution_count": 7,
   "metadata": {},
   "outputs": [],
   "source": [
    "ekos.connect_devices()"
   ]
  },
  {
   "cell_type": "code",
   "execution_count": 5,
   "metadata": {},
   "outputs": [
    {
     "data": {
      "text/plain": [
       "True"
      ]
     },
     "execution_count": 5,
     "metadata": {},
     "output_type": "execute_result"
    }
   ],
   "source": [
    "s.load_scheduler(\"/home/tim/MMT/timdimm_tng/timdimm_sim_test_schedule.esl\")"
   ]
  },
  {
   "cell_type": "code",
   "execution_count": 23,
   "metadata": {},
   "outputs": [],
   "source": [
    "s.start()"
   ]
  },
  {
   "cell_type": "code",
   "execution_count": 29,
   "metadata": {},
   "outputs": [],
   "source": [
    "s.stop()"
   ]
  },
  {
   "cell_type": "code",
   "execution_count": 30,
   "metadata": {},
   "outputs": [],
   "source": [
    "s.reset_all_jobs()"
   ]
  },
  {
   "cell_type": "code",
   "execution_count": 4,
   "metadata": {},
   "outputs": [
    {
     "data": {
      "text/plain": [
       "True"
      ]
     },
     "execution_count": 4,
     "metadata": {},
     "output_type": "execute_result"
    }
   ],
   "source": [
    "dome.is_parked()"
   ]
  },
  {
   "cell_type": "code",
   "execution_count": 7,
   "metadata": {},
   "outputs": [
    {
     "data": {
      "text/plain": [
       "True"
      ]
     },
     "execution_count": 7,
     "metadata": {},
     "output_type": "execute_result"
    }
   ],
   "source": [
    "dome.park()"
   ]
  },
  {
   "cell_type": "code",
   "execution_count": 7,
   "metadata": {},
   "outputs": [
    {
     "ename": "AssertionError",
     "evalue": "Used sync __get__ method in async environment. This is probably an error as it will block other asyncio methods for considerable time.",
     "output_type": "error",
     "traceback": [
      "\u001b[0;31m---------------------------------------------------------------------------\u001b[0m",
      "\u001b[0;31mAssertionError\u001b[0m                            Traceback (most recent call last)",
      "Cell \u001b[0;32mIn[7], line 1\u001b[0m\n\u001b[0;32m----> 1\u001b[0m mount\u001b[39m.\u001b[39mhorizontal_coords\n",
      "File \u001b[0;32m~/conda/envs/timdimm/lib/python3.11/site-packages/sdbus/dbus_proxy_sync_property.py:74\u001b[0m, in \u001b[0;36mDbusPropertySync.__get__\u001b[0;34m(self, obj, obj_class)\u001b[0m\n\u001b[1;32m     70\u001b[0m \u001b[39mdef\u001b[39;00m \u001b[39m__get__\u001b[39m(\u001b[39mself\u001b[39m,\n\u001b[1;32m     71\u001b[0m             obj: DbusInterfaceBase,\n\u001b[1;32m     72\u001b[0m             obj_class: Optional[Type[DbusInterfaceBase]] \u001b[39m=\u001b[39m \u001b[39mNone\u001b[39;00m,\n\u001b[1;32m     73\u001b[0m             ) \u001b[39m-\u001b[39m\u001b[39m>\u001b[39m T:\n\u001b[0;32m---> 74\u001b[0m     \u001b[39massert\u001b[39;00m _check_sync_in_async_env(), (\n\u001b[1;32m     75\u001b[0m         \u001b[39m\"\u001b[39m\u001b[39mUsed sync __get__ method in async environment. \u001b[39m\u001b[39m\"\u001b[39m\n\u001b[1;32m     76\u001b[0m         \u001b[39m\"\u001b[39m\u001b[39mThis is probably an error as it will block \u001b[39m\u001b[39m\"\u001b[39m\n\u001b[1;32m     77\u001b[0m         \u001b[39m\"\u001b[39m\u001b[39mother asyncio methods for considerable time.\u001b[39m\u001b[39m\"\u001b[39m\n\u001b[1;32m     78\u001b[0m     )\n\u001b[1;32m     79\u001b[0m     \u001b[39massert\u001b[39;00m \u001b[39mself\u001b[39m\u001b[39m.\u001b[39minterface_name \u001b[39mis\u001b[39;00m \u001b[39mnot\u001b[39;00m \u001b[39mNone\u001b[39;00m\n\u001b[1;32m     81\u001b[0m     new_call_message \u001b[39m=\u001b[39m obj\u001b[39m.\u001b[39m_attached_bus\u001b[39m.\u001b[39m \\\n\u001b[1;32m     82\u001b[0m         new_property_get_message(\n\u001b[1;32m     83\u001b[0m             obj\u001b[39m.\u001b[39m_remote_service_name,\n\u001b[0;32m   (...)\u001b[0m\n\u001b[1;32m     86\u001b[0m             \u001b[39mself\u001b[39m\u001b[39m.\u001b[39mproperty_name,\n\u001b[1;32m     87\u001b[0m         )\n",
      "\u001b[0;31mAssertionError\u001b[0m: Used sync __get__ method in async environment. This is probably an error as it will block other asyncio methods for considerable time."
     ]
    }
   ],
   "source": [
    "mount.horizontal_coords"
   ]
  },
  {
   "cell_type": "code",
   "execution_count": 5,
   "metadata": {},
   "outputs": [],
   "source": [
    "test_d = Dome(object_path=\"/KStars/INDI/Dome\", bus=bus)"
   ]
  },
  {
   "cell_type": "code",
   "execution_count": 15,
   "metadata": {},
   "outputs": [
    {
     "data": {
      "text/plain": [
       "'1'"
      ]
     },
     "execution_count": 15,
     "metadata": {},
     "output_type": "execute_result"
    }
   ],
   "source": [
    "xmltodict.parse(test_d.dbus_introspect())['node']['node']['@name']"
   ]
  },
  {
   "cell_type": "code",
   "execution_count": null,
   "metadata": {},
   "outputs": [],
   "source": []
  }
 ],
 "metadata": {
  "kernelspec": {
   "display_name": "Python 3",
   "language": "python",
   "name": "python3"
  },
  "language_info": {
   "codemirror_mode": {
    "name": "ipython",
    "version": 3
   },
   "file_extension": ".py",
   "mimetype": "text/x-python",
   "name": "python",
   "nbconvert_exporter": "python",
   "pygments_lexer": "ipython3",
   "version": "3.11.4"
  },
  "orig_nbformat": 4
 },
 "nbformat": 4,
 "nbformat_minor": 2
}
