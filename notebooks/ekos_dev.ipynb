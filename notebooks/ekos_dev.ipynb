{
 "cells": [
  {
   "cell_type": "code",
   "execution_count": 6,
   "metadata": {},
   "outputs": [],
   "source": [
    "from struct import unpack\n",
    "from pathlib import Path\n",
    "from enum import Enum\n",
    "\n",
    "import json\n",
    "import xmltodict\n",
    "import numpy as np\n",
    "\n",
    "import matplotlib.pyplot as plt\n",
    "\n",
    "from astropy.time import Time\n",
    "import astropy.units as u\n",
    "\n",
    "from timdimm_tng.sequence import Sequence"
   ]
  },
  {
   "cell_type": "code",
   "execution_count": 2,
   "metadata": {},
   "outputs": [],
   "source": [
    "%load_ext autoreload\n",
    "%autoreload 2\n",
    "%matplotlib widget"
   ]
  },
  {
   "cell_type": "code",
   "execution_count": 4,
   "metadata": {},
   "outputs": [
    {
     "data": {
      "text/plain": [
       "{'SequenceQueue': {'@version': '2.5',\n",
       "  'Observer': 'timdimm timdimm',\n",
       "  'GuideDeviation': {'@enabled': 'false', '#text': '2'},\n",
       "  'GuideStartDeviation': {'@enabled': 'false', '#text': '2'},\n",
       "  'Autofocus': {'@enabled': 'false', '#text': '0'},\n",
       "  'RefocusOnTemperatureDelta': {'@enabled': 'false', '#text': '1'},\n",
       "  'RefocusEveryN': {'@enabled': 'false', '#text': '60'},\n",
       "  'RefocusOnMeridianFlip': {'@enabled': 'false'},\n",
       "  'Job': {'Exposure': '1',\n",
       "   'Format': 'Mono',\n",
       "   'Encoding': 'FITS',\n",
       "   'Binning': {'X': '1', 'Y': '1'},\n",
       "   'Frame': {'X': '0', 'Y': '0', 'W': '1280', 'H': '1024'},\n",
       "   'Temperature': {'@force': 'false', '#text': '0'},\n",
       "   'Filter': 'Red',\n",
       "   'Type': 'Light',\n",
       "   'Prefix': {'FilterEnabled': '0',\n",
       "    'ExpEnabled': '0',\n",
       "    'TimeStampEnabled': '0'},\n",
       "   'Count': '1',\n",
       "   'Delay': '0',\n",
       "   'PreCaptureScript': '/usr/bin/true',\n",
       "   'PostCaptureScript': '/usr/bin/true',\n",
       "   'PreJobScript': '/usr/bin/true',\n",
       "   'PostJobScript': '/usr/bin/true',\n",
       "   'FITSDirectory': '/Users/tim/Pictures',\n",
       "   'PlaceholderFormat': '/%t/%T/%F/%t_%T_%F',\n",
       "   'PlaceholderSuffix': '3',\n",
       "   'UploadMode': '0',\n",
       "   'Properties': None,\n",
       "   'Calibration': {'FlatSource': {'Type': 'Manual'},\n",
       "    'FlatDuration': {'@dark': 'false', 'Type': 'Manual'},\n",
       "    'PreMountPark': 'False',\n",
       "    'PreDomePark': 'False'}}}}"
      ]
     },
     "execution_count": 4,
     "metadata": {},
     "output_type": "execute_result"
    }
   ],
   "source": [
    "with open(\"/Users/tim/timdimm.esq\", 'rb') as fp:\n",
    "    d = xmltodict.parse(fp)\n",
    "d"
   ]
  },
  {
   "cell_type": "code",
   "execution_count": 7,
   "metadata": {},
   "outputs": [],
   "source": [
    "with open(\"timdimm_sequence_template.json\", 'w') as fp:\n",
    "    json.dump(d, fp, indent=4)"
   ]
  },
  {
   "cell_type": "code",
   "execution_count": 17,
   "metadata": {},
   "outputs": [],
   "source": [
    "with open(\"../src/timdimm_tng/templates/timdimm_sequence_template.json\", 'r') as fp:\n",
    "    rev_d = json.load(fp)"
   ]
  },
  {
   "cell_type": "code",
   "execution_count": 18,
   "metadata": {},
   "outputs": [],
   "source": [
    "with open(\"/Users/tim/timdimm_test.esq\", 'w') as fp:\n",
    "    fp.write(xmltodict.unparse(rev_d, pretty=True))"
   ]
  },
  {
   "cell_type": "code",
   "execution_count": null,
   "metadata": {},
   "outputs": [],
   "source": []
  }
 ],
 "metadata": {
  "kernelspec": {
   "display_name": "Python 3.10.4 ('fass')",
   "language": "python",
   "name": "python3"
  },
  "language_info": {
   "codemirror_mode": {
    "name": "ipython",
    "version": 3
   },
   "file_extension": ".py",
   "mimetype": "text/x-python",
   "name": "python",
   "nbconvert_exporter": "python",
   "pygments_lexer": "ipython3",
   "version": "3.11.4"
  },
  "orig_nbformat": 4,
  "vscode": {
   "interpreter": {
    "hash": "3314dab707ed1995ea8d60810174e799d30cde832f43ae63582cd42fb47fcea7"
   }
  }
 },
 "nbformat": 4,
 "nbformat_minor": 2
}
