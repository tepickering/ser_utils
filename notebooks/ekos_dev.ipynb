{
 "cells": [
  {
   "cell_type": "code",
   "execution_count": 1,
   "metadata": {},
   "outputs": [],
   "source": [
    "from struct import unpack\n",
    "from pathlib import Path\n",
    "from enum import Enum\n",
    "\n",
    "import json\n",
    "import xmltodict\n",
    "import numpy as np\n",
    "\n",
    "import matplotlib.pyplot as plt\n",
    "\n",
    "from astropy.time import Time\n",
    "import astropy.units as u\n",
    "from astropy.table import Table\n",
    "\n",
    "from timdimm_tng.scheduler import Sequence, Observation, Schedule"
   ]
  },
  {
   "cell_type": "code",
   "execution_count": 2,
   "metadata": {},
   "outputs": [],
   "source": [
    "%load_ext autoreload\n",
    "%autoreload 2\n",
    "%matplotlib widget"
   ]
  },
  {
   "cell_type": "code",
   "execution_count": 8,
   "metadata": {},
   "outputs": [
    {
     "data": {
      "text/plain": [
       "{'SequenceQueue': {'@version': '2.5', 'Observer': 'timDIMM', 'GuideDeviation': {'@enabled': 'false', '#text': '2'}, 'GuideStartDeviation': {'@enabled': 'false', '#text': '2'}, 'Autofocus': {'@enabled': 'false', '#text': '0'}, 'RefocusOnTemperatureDelta': {'@enabled': 'false', '#text': '1'}, 'RefocusEveryN': {'@enabled': 'false', '#text': '60'}, 'RefocusOnMeridianFlip': {'@enabled': 'false'}, 'Job': {'Exposure': '0.001', 'Format': 'Mono', 'Encoding': 'FITS', 'Binning': {'X': '1', 'Y': '1'}, 'Frame': {'X': '0', 'Y': '0', 'W': '1608', 'H': '1104'}, 'Temperature': {'@force': 'false', '#text': '0'}, 'Filter': None, 'Type': 'Light', 'Prefix': {'FilterEnabled': '0', 'ExpEnabled': '0', 'TimeStampEnabled': '0'}, 'Count': '1', 'Delay': '0', 'PreCaptureScript': 'timdimm_precapture', 'PostCaptureScript': 'timdimm_postcapture', 'PreJobScript': 'timdimm_prejob', 'PostJobScript': 'timdimm_postjob', 'FITSDirectory': './', 'PlaceholderFormat': '/%t/%T/%F/%t_%T_%F', 'PlaceholderSuffix': '3', 'UploadMode': '0', 'Properties': None, 'Calibration': {'FlatSource': {'Type': 'Manual'}, 'FlatDuration': {'@dark': 'false', 'Type': 'Manual'}, 'PreMountPark': 'False', 'PreDomePark': 'False'}}}}"
      ]
     },
     "execution_count": 8,
     "metadata": {},
     "output_type": "execute_result"
    }
   ],
   "source": [
    "s = Sequence(template=\"/Users/tim/timdimm_test.esq\")\n",
    "s"
   ]
  },
  {
   "cell_type": "code",
   "execution_count": 4,
   "metadata": {},
   "outputs": [
    {
     "data": {
      "text/plain": [
       "{'SchedulerList': {'@version': '1.5', 'Profile': 'timdimm_sim', 'Job': [], 'SchedulerAlgorithm': {'@value': '1'}, 'ErrorHandlingStrategy': {'@value': '1', 'delay': '0'}, 'StartupProcedure': {'Procedure': [{'@value': '/home/tim/MMT/timdimm_tng/scripts/ekos/startup.py', '#text': 'StartupScript'}, 'UnparkDome', 'UnparkMount']}, 'ShutdownProcedure': {'Procedure': ['ParkMount', 'ParkDome', {'@value': '/home/tim/MMT/timdimm_tng/scripts/ekos/shutdown.py', '#text': 'ShutdownScript'}]}}}"
      ]
     },
     "execution_count": 4,
     "metadata": {},
     "output_type": "execute_result"
    }
   ],
   "source": [
    "sched"
   ]
  },
  {
   "cell_type": "code",
   "execution_count": 8,
   "metadata": {},
   "outputs": [
    {
     "data": {
      "text/html": [
       "<div><i>Table length=75</i>\n",
       "<table id=\"table140607764852176\" class=\"table-striped table-bordered table-condensed\">\n",
       "<thead><tr><th>HR</th><th>Name</th><th>RA2000</th><th>Dec2000</th><th>Vmag</th><th>B-V</th><th>SED</th><th>SpType</th><th>Duplicity</th><th>Coordinates</th></tr></thead>\n",
       "<thead><tr><th></th><th></th><th></th><th></th><th></th><th></th><th></th><th></th><th></th><th>deg,deg</th></tr></thead>\n",
       "<thead><tr><th>int64</th><th>str14</th><th>str8</th><th>str9</th><th>float64</th><th>float64</th><th>str3</th><th>str12</th><th>str15</th><th>SkyCoord</th></tr></thead>\n",
       "<tr><td>98</td><td>Bet Hyi</td><td>0:25:45</td><td>-77:15:15</td><td>2.8</td><td>0.62</td><td>G05</td><td>G2IV</td><td>--</td><td>6.437793155,-77.25424612</td></tr>\n",
       "<tr><td>99</td><td>Ankaa</td><td>0:26:17</td><td>-42:18:22</td><td>2.39</td><td>1.09</td><td>K03</td><td>K0III</td><td>0.1&quot; dm=0.0</td><td>6.571047515,-42.305987194</td></tr>\n",
       "<tr><td>188</td><td>Diphda</td><td>0:43:35</td><td>-17:59:12</td><td>2.04</td><td>1.02</td><td>K03</td><td>G9.5IIICH-1</td><td>--</td><td>10.897378736,-17.986606316</td></tr>\n",
       "<tr><td>472</td><td>Achernar</td><td>1:37:43</td><td>-57:14:12</td><td>0.46</td><td>-0.16</td><td>B55</td><td>B3Vpe</td><td>--</td><td>24.428522833,-57.236752806</td></tr>\n",
       "<tr><td>591</td><td>Alp Hyi</td><td>1:58:46</td><td>-61:34:11</td><td>2.86</td><td>0.28</td><td>F05</td><td>F0V</td><td>--</td><td>29.69224409758834,-61.56982215319751</td></tr>\n",
       "<tr><td>1790</td><td>Bellatrix</td><td>5:25:08</td><td>+06:20:59</td><td>1.64</td><td>-0.22</td><td>B05</td><td>B2III</td><td>179&quot; dm=10.5</td><td>81.282763557,6.349703264</td></tr>\n",
       "<tr><td>1865</td><td>Arneb</td><td>5:32:44</td><td>-17:49:20</td><td>2.58</td><td>0.21</td><td>F05</td><td>F0Ib</td><td>AB 36&quot; dm=8.5</td><td>83.18256716167,-17.82228927222</td></tr>\n",
       "<tr><td>1903</td><td>Alnilam</td><td>5:36:13</td><td>-01:12:07</td><td>1.7</td><td>-0.19</td><td>B05</td><td>B0Ia</td><td>180&quot; dm=8.7</td><td>84.053388941,-1.201919136</td></tr>\n",
       "<tr><td>1956</td><td>Phact</td><td>5:39:39</td><td>-34:04:27</td><td>2.64</td><td>-0.12</td><td>B55</td><td>B7IVe</td><td>14&quot; dm=9.7</td><td>84.9122543,-34.07410972</td></tr>\n",
       "<tr><td>...</td><td>...</td><td>...</td><td>...</td><td>...</td><td>...</td><td>...</td><td>...</td><td>...</td><td>...</td></tr>\n",
       "<tr><td>6879</td><td>Kaus Australis</td><td>18:24:10</td><td>-34:23:05</td><td>1.85</td><td>-0.03</td><td>A05</td><td>B9.5III</td><td>36&quot; dm=12.3</td><td>276.04299335,-34.38461649</td></tr>\n",
       "<tr><td>6913</td><td>Kaus Borealis</td><td>18:27:58</td><td>-25:25:18</td><td>2.81</td><td>1.04</td><td>K03</td><td>K1+IIIb</td><td>--</td><td>276.99266966,-25.4216985</td></tr>\n",
       "<tr><td>7121</td><td>Nunki</td><td>18:55:16</td><td>-26:17:48</td><td>2.02</td><td>-0.22</td><td>B05</td><td>B2.5V</td><td>309&quot; dm=7.4</td><td>283.816360406,-26.296724115</td></tr>\n",
       "<tr><td>7264</td><td>Pi Sgr</td><td>19:09:46</td><td>-21:01:25</td><td>2.89</td><td>0.35</td><td>F05</td><td>F2II</td><td>AB 0.1&quot; dm=0.0</td><td>287.440970525,-21.02361398194</td></tr>\n",
       "<tr><td>7790</td><td>Peacock</td><td>20:25:39</td><td>-56:44:06</td><td>1.94</td><td>-0.2</td><td>B05</td><td>B2IV</td><td>AB 245&quot; dm=7.1</td><td>306.41190437,-56.73508973</td></tr>\n",
       "<tr><td>8322</td><td>Deneb Algedi</td><td>21:47:02</td><td>-16:07:38</td><td>2.87</td><td>0.29</td><td>A05</td><td>Am</td><td>0.0&quot; dm=2.0</td><td>326.76018433,-16.12728709</td></tr>\n",
       "<tr><td>8353</td><td>Gam Gru</td><td>21:53:56</td><td>-37:21:54</td><td>3.01</td><td>-0.12</td><td>A05</td><td>B8III</td><td>--</td><td>328.48215125261004,-37.36487221701779</td></tr>\n",
       "<tr><td>8425</td><td>Alnair</td><td>22:08:14</td><td>-46:57:40</td><td>1.74</td><td>-0.13</td><td>B55</td><td>B7IV</td><td>28&quot; dm=10.1</td><td>332.0582697,-46.96097438</td></tr>\n",
       "<tr><td>8502</td><td>Alp Tuc</td><td>22:18:30</td><td>-60:15:35</td><td>2.86</td><td>1.39</td><td>K53</td><td>K3III</td><td>0.1&quot; dm=0.0</td><td>334.62546848872375,-60.25962954474834</td></tr>\n",
       "<tr><td>8728</td><td>Fomalhaut</td><td>22:57:39</td><td>-29:37:20</td><td>1.16</td><td>0.09</td><td>A55</td><td>A3V</td><td>--</td><td>344.412692721,-29.622237033</td></tr>\n",
       "</table></div>"
      ],
      "text/plain": [
       "<Table length=75>\n",
       "  HR       Name      ...   Duplicity                 Coordinates             \n",
       "                     ...                               deg,deg               \n",
       "int64     str14      ...     str15                     SkyCoord              \n",
       "----- -------------- ... -------------- -------------------------------------\n",
       "   98        Bet Hyi ...             --              6.437793155,-77.25424612\n",
       "   99          Ankaa ...    0.1\" dm=0.0             6.571047515,-42.305987194\n",
       "  188         Diphda ...             --            10.897378736,-17.986606316\n",
       "  472       Achernar ...             --            24.428522833,-57.236752806\n",
       "  591        Alp Hyi ...             --  29.69224409758834,-61.56982215319751\n",
       " 1790      Bellatrix ...   179\" dm=10.5              81.282763557,6.349703264\n",
       " 1865          Arneb ...  AB 36\" dm=8.5        83.18256716167,-17.82228927222\n",
       " 1903        Alnilam ...    180\" dm=8.7             84.053388941,-1.201919136\n",
       " 1956          Phact ...     14\" dm=9.7               84.9122543,-34.07410972\n",
       "  ...            ... ...            ...                                   ...\n",
       " 6879 Kaus Australis ...    36\" dm=12.3             276.04299335,-34.38461649\n",
       " 6913  Kaus Borealis ...             --              276.99266966,-25.4216985\n",
       " 7121          Nunki ...    309\" dm=7.4           283.816360406,-26.296724115\n",
       " 7264         Pi Sgr ... AB 0.1\" dm=0.0         287.440970525,-21.02361398194\n",
       " 7790        Peacock ... AB 245\" dm=7.1             306.41190437,-56.73508973\n",
       " 8322   Deneb Algedi ...    0.0\" dm=2.0             326.76018433,-16.12728709\n",
       " 8353        Gam Gru ...             -- 328.48215125261004,-37.36487221701779\n",
       " 8425         Alnair ...    28\" dm=10.1              332.0582697,-46.96097438\n",
       " 8502        Alp Tuc ...    0.1\" dm=0.0 334.62546848872375,-60.25962954474834\n",
       " 8728      Fomalhaut ...             --           344.412692721,-29.622237033"
      ]
     },
     "execution_count": 8,
     "metadata": {},
     "output_type": "execute_result"
    }
   ],
   "source": [
    "stars = Table.read(\"/home/tim/MMT/timdimm_tng/src/timdimm_tng/star_list.ecsv\")\n",
    "stars"
   ]
  },
  {
   "cell_type": "code",
   "execution_count": 64,
   "metadata": {},
   "outputs": [],
   "source": [
    "sched = Schedule()\n",
    "for star in stars:\n",
    "    if star['Vmag'] > 2.5:\n",
    "        priority = 15\n",
    "    elif star['Vmag'] < 0.5:\n",
    "        priority = 5\n",
    "    else:\n",
    "        priority = 10\n",
    "    obs = Observation(\n",
    "        target=star['Name'],\n",
    "        ra=star['Coordinates'].ra.value,\n",
    "        dec=star['Coordinates'].dec.value,\n",
    "        priority=priority\n",
    "    )\n",
    "    sched.add_observation(dict(obs))"
   ]
  },
  {
   "cell_type": "code",
   "execution_count": 65,
   "metadata": {},
   "outputs": [],
   "source": [
    "sched.to_xml(\"/home/tim/full_test.esl\")"
   ]
  },
  {
   "cell_type": "code",
   "execution_count": 28,
   "metadata": {},
   "outputs": [
    {
     "ename": "ValueError",
     "evalue": "Document must have exactly one root.",
     "output_type": "error",
     "traceback": [
      "\u001b[0;31m---------------------------------------------------------------------------\u001b[0m",
      "\u001b[0;31mValueError\u001b[0m                                Traceback (most recent call last)",
      "Cell \u001b[0;32mIn[28], line 1\u001b[0m\n\u001b[0;32m----> 1\u001b[0m xmltodict\u001b[39m.\u001b[39munparse(sched[\u001b[39m'\u001b[39m\u001b[39mSchedulerList\u001b[39m\u001b[39m'\u001b[39m][\u001b[39m'\u001b[39m\u001b[39mJob\u001b[39m\u001b[39m'\u001b[39m][\u001b[39m0\u001b[39m])\n",
      "File \u001b[0;32m~/conda/envs/timdimm/lib/python3.11/site-packages/xmltodict.py:494\u001b[0m, in \u001b[0;36munparse\u001b[0;34m(input_dict, output, encoding, full_document, short_empty_elements, **kwargs)\u001b[0m\n\u001b[1;32m    479\u001b[0m \u001b[39m\u001b[39m\u001b[39m\"\"\"Emit an XML document for the given `input_dict` (reverse of `parse`).\u001b[39;00m\n\u001b[1;32m    480\u001b[0m \n\u001b[1;32m    481\u001b[0m \u001b[39mThe resulting XML document is returned as a string, but if `output` (a\u001b[39;00m\n\u001b[0;32m   (...)\u001b[0m\n\u001b[1;32m    491\u001b[0m \n\u001b[1;32m    492\u001b[0m \u001b[39m\"\"\"\u001b[39;00m\n\u001b[1;32m    493\u001b[0m \u001b[39mif\u001b[39;00m full_document \u001b[39mand\u001b[39;00m \u001b[39mlen\u001b[39m(input_dict) \u001b[39m!=\u001b[39m \u001b[39m1\u001b[39m:\n\u001b[0;32m--> 494\u001b[0m     \u001b[39mraise\u001b[39;00m \u001b[39mValueError\u001b[39;00m(\u001b[39m'\u001b[39m\u001b[39mDocument must have exactly one root.\u001b[39m\u001b[39m'\u001b[39m)\n\u001b[1;32m    495\u001b[0m must_return \u001b[39m=\u001b[39m \u001b[39mFalse\u001b[39;00m\n\u001b[1;32m    496\u001b[0m \u001b[39mif\u001b[39;00m output \u001b[39mis\u001b[39;00m \u001b[39mNone\u001b[39;00m:\n",
      "\u001b[0;31mValueError\u001b[0m: Document must have exactly one root."
     ]
    }
   ],
   "source": [
    "xmltodict.unparse(sched['SchedulerList']['Job'][0])"
   ]
  },
  {
   "cell_type": "code",
   "execution_count": 40,
   "metadata": {},
   "outputs": [
    {
     "data": {
      "text/plain": [
       "{'Name': 'Bet Hyi',\n",
       " 'Priority': '15',\n",
       " 'Coordinates': {'J2000RA': '6.437793155', 'J2000DE': '-77.25424612'},\n",
       " 'PositionAngle': None,\n",
       " 'Sequence': '/home/tim/MMT/timdimm_tng/src/timdimm_tng/templates/timdimm_sequence.esq',\n",
       " 'StartupCondition': {'Condition': 'ASAP'},\n",
       " 'Constraints': {'Constraint': [{'@value': '30', '#text': 'MinimumAltitude'},\n",
       "   {'@value': '20', '#text': 'MoonSeparation'},\n",
       "   'EnforceWeather',\n",
       "   'EnforceTwilight']},\n",
       " 'CompletionCondition': {'Condition': 'Loop'},\n",
       " 'Steps': {'Step': ['Track', 'Align']}}"
      ]
     },
     "execution_count": 40,
     "metadata": {},
     "output_type": "execute_result"
    }
   ],
   "source": [
    "dict(sched['SchedulerList']['Job'][0])"
   ]
  },
  {
   "cell_type": "code",
   "execution_count": 42,
   "metadata": {},
   "outputs": [
    {
     "ename": "ValueError",
     "evalue": "Document must have exactly one root.",
     "output_type": "error",
     "traceback": [
      "\u001b[0;31m---------------------------------------------------------------------------\u001b[0m",
      "\u001b[0;31mValueError\u001b[0m                                Traceback (most recent call last)",
      "Cell \u001b[0;32mIn[42], line 1\u001b[0m\n\u001b[0;32m----> 1\u001b[0m xmltodict\u001b[39m.\u001b[39munparse(\u001b[39mdict\u001b[39m(test[\u001b[39m'\u001b[39m\u001b[39mSchedulerList\u001b[39m\u001b[39m'\u001b[39m][\u001b[39m'\u001b[39m\u001b[39mJob\u001b[39m\u001b[39m'\u001b[39m][\u001b[39m0\u001b[39m]))\n",
      "File \u001b[0;32m~/conda/envs/timdimm/lib/python3.11/site-packages/xmltodict.py:494\u001b[0m, in \u001b[0;36munparse\u001b[0;34m(input_dict, output, encoding, full_document, short_empty_elements, **kwargs)\u001b[0m\n\u001b[1;32m    479\u001b[0m \u001b[39m\u001b[39m\u001b[39m\"\"\"Emit an XML document for the given `input_dict` (reverse of `parse`).\u001b[39;00m\n\u001b[1;32m    480\u001b[0m \n\u001b[1;32m    481\u001b[0m \u001b[39mThe resulting XML document is returned as a string, but if `output` (a\u001b[39;00m\n\u001b[0;32m   (...)\u001b[0m\n\u001b[1;32m    491\u001b[0m \n\u001b[1;32m    492\u001b[0m \u001b[39m\"\"\"\u001b[39;00m\n\u001b[1;32m    493\u001b[0m \u001b[39mif\u001b[39;00m full_document \u001b[39mand\u001b[39;00m \u001b[39mlen\u001b[39m(input_dict) \u001b[39m!=\u001b[39m \u001b[39m1\u001b[39m:\n\u001b[0;32m--> 494\u001b[0m     \u001b[39mraise\u001b[39;00m \u001b[39mValueError\u001b[39;00m(\u001b[39m'\u001b[39m\u001b[39mDocument must have exactly one root.\u001b[39m\u001b[39m'\u001b[39m)\n\u001b[1;32m    495\u001b[0m must_return \u001b[39m=\u001b[39m \u001b[39mFalse\u001b[39;00m\n\u001b[1;32m    496\u001b[0m \u001b[39mif\u001b[39;00m output \u001b[39mis\u001b[39;00m \u001b[39mNone\u001b[39;00m:\n",
      "\u001b[0;31mValueError\u001b[0m: Document must have exactly one root."
     ]
    }
   ],
   "source": [
    "xmltodict.unparse(dict(test['SchedulerList']['Job'][0]))"
   ]
  },
  {
   "cell_type": "code",
   "execution_count": 35,
   "metadata": {},
   "outputs": [],
   "source": [
    "with open(\"/home/tim/MMT/timdimm_tng/src/timdimm_tng/templates/timdimm_schedule_template.esl\", 'r') as fp:\n",
    "    test = xmltodict.parse(fp.read())"
   ]
  },
  {
   "cell_type": "code",
   "execution_count": 36,
   "metadata": {},
   "outputs": [
    {
     "data": {
      "text/plain": [
       "{'SchedulerList': {'@version': '1.5',\n",
       "  'Profile': 'timdimm_sim',\n",
       "  'Job': [{'Name': 'Target',\n",
       "    'Priority': '10',\n",
       "    'Coordinates': {'J2000RA': None, 'J2000DE': None},\n",
       "    'PositionAngle': None,\n",
       "    'Sequence': '/home/tim/MMT/timdimm_tng/src/timdimm_tng/templates/timdimm_sequence.esq',\n",
       "    'StartupCondition': {'Condition': 'ASAP'},\n",
       "    'Constraints': {'Constraint': [{'@value': '30',\n",
       "       '#text': 'MinimumAltitude'},\n",
       "      {'@value': '20', '#text': 'MoonSeparation'},\n",
       "      'EnforceWeather',\n",
       "      'EnforceTwilight']},\n",
       "    'CompletionCondition': {'Condition': 'Loop'},\n",
       "    'Steps': {'Step': ['Track', 'Align']}},\n",
       "   {'Name': 'Target',\n",
       "    'Priority': '10',\n",
       "    'Coordinates': {'J2000RA': None, 'J2000DE': None},\n",
       "    'PositionAngle': None,\n",
       "    'Sequence': '/home/tim/MMT/timdimm_tng/src/timdimm_tng/templates/timdimm_sequence.esq',\n",
       "    'StartupCondition': {'Condition': 'ASAP'},\n",
       "    'Constraints': {'Constraint': [{'@value': '30',\n",
       "       '#text': 'MinimumAltitude'},\n",
       "      {'@value': '20', '#text': 'MoonSeparation'},\n",
       "      'EnforceWeather',\n",
       "      'EnforceTwilight']},\n",
       "    'CompletionCondition': {'Condition': 'Loop'},\n",
       "    'Steps': {'Step': ['Track', 'Align']}}],\n",
       "  'SchedulerAlgorithm': {'@value': '1'},\n",
       "  'ErrorHandlingStrategy': {'@value': '1', 'delay': '0'},\n",
       "  'StartupProcedure': {'Procedure': [{'@value': '/home/tim/MMT/timdimm_tng/scripts/ekos/startup.py',\n",
       "     '#text': 'StartupScript'},\n",
       "    'UnparkDome',\n",
       "    'UnparkMount']},\n",
       "  'ShutdownProcedure': {'Procedure': ['ParkMount',\n",
       "    'ParkDome',\n",
       "    {'@value': '/home/tim/MMT/timdimm_tng/scripts/ekos/shutdown.py',\n",
       "     '#text': 'ShutdownScript'}]}}}"
      ]
     },
     "execution_count": 36,
     "metadata": {},
     "output_type": "execute_result"
    }
   ],
   "source": [
    "test"
   ]
  },
  {
   "cell_type": "code",
   "execution_count": 62,
   "metadata": {},
   "outputs": [],
   "source": [
    "sched['SchedulerList']['Job'] = sched['SchedulerList']['Job'][0:1]"
   ]
  },
  {
   "cell_type": "code",
   "execution_count": 63,
   "metadata": {},
   "outputs": [
    {
     "data": {
      "text/plain": [
       "'<?xml version=\"1.0\" encoding=\"utf-8\"?>\\n<SchedulerList version=\"1.5\">\\n\\t<Profile>timdimm_sim</Profile>\\n\\t<Job>{\\'Name\\': \\'Bet Hyi\\', \\'Priority\\': \\'15\\', \\'Coordinates\\': {\\'J2000RA\\': \\'6.437793155\\', \\'J2000DE\\': \\'-77.25424612\\'}, \\'PositionAngle\\': None, \\'Sequence\\': \\'/home/tim/MMT/timdimm_tng/src/timdimm_tng/templates/timdimm_sequence.esq\\', \\'StartupCondition\\': {\\'Condition\\': \\'ASAP\\'}, \\'Constraints\\': {\\'Constraint\\': [{\\'@value\\': \\'30\\', \\'#text\\': \\'MinimumAltitude\\'}, {\\'@value\\': \\'20\\', \\'#text\\': \\'MoonSeparation\\'}, \\'EnforceWeather\\', \\'EnforceTwilight\\']}, \\'CompletionCondition\\': {\\'Condition\\': \\'Loop\\'}, \\'Steps\\': {\\'Step\\': [\\'Track\\', \\'Align\\']}}</Job>\\n\\t<SchedulerAlgorithm value=\"1\"></SchedulerAlgorithm>\\n\\t<ErrorHandlingStrategy value=\"1\">\\n\\t\\t<delay>0</delay>\\n\\t</ErrorHandlingStrategy>\\n\\t<StartupProcedure>\\n\\t\\t<Procedure value=\"/home/tim/MMT/timdimm_tng/scripts/ekos/startup.py\">StartupScript</Procedure>\\n\\t\\t<Procedure>UnparkDome</Procedure>\\n\\t\\t<Procedure>UnparkMount</Procedure>\\n\\t</StartupProcedure>\\n\\t<ShutdownProcedure>\\n\\t\\t<Procedure>ParkMount</Procedure>\\n\\t\\t<Procedure>ParkDome</Procedure>\\n\\t\\t<Procedure value=\"/home/tim/MMT/timdimm_tng/scripts/ekos/shutdown.py\">ShutdownScript</Procedure>\\n\\t</ShutdownProcedure>\\n</SchedulerList>'"
      ]
     },
     "execution_count": 63,
     "metadata": {},
     "output_type": "execute_result"
    }
   ],
   "source": [
    "xmltodict.unparse(sched, pretty=True)"
   ]
  },
  {
   "cell_type": "code",
   "execution_count": 43,
   "metadata": {},
   "outputs": [
    {
     "data": {
      "text/plain": [
       "75"
      ]
     },
     "execution_count": 43,
     "metadata": {},
     "output_type": "execute_result"
    }
   ],
   "source": [
    "len(sched['SchedulerList']['Job'])"
   ]
  },
  {
   "cell_type": "code",
   "execution_count": 60,
   "metadata": {},
   "outputs": [
    {
     "data": {
      "text/plain": [
       "'<?xml version=\"1.0\" encoding=\"utf-8\"?>\\n<SchedulerList version=\"1.5\">\\n\\t<Profile>timdimm_sim</Profile>\\n\\t<Job>\\n\\t\\t<Name>Target</Name>\\n\\t\\t<Priority>10</Priority>\\n\\t\\t<Coordinates>\\n\\t\\t\\t<J2000RA></J2000RA>\\n\\t\\t\\t<J2000DE></J2000DE>\\n\\t\\t</Coordinates>\\n\\t\\t<PositionAngle></PositionAngle>\\n\\t\\t<Sequence>/home/tim/MMT/timdimm_tng/src/timdimm_tng/templates/timdimm_sequence.esq</Sequence>\\n\\t\\t<StartupCondition>\\n\\t\\t\\t<Condition>ASAP</Condition>\\n\\t\\t</StartupCondition>\\n\\t\\t<Constraints>\\n\\t\\t\\t<Constraint value=\"30\">MinimumAltitude</Constraint>\\n\\t\\t\\t<Constraint value=\"20\">MoonSeparation</Constraint>\\n\\t\\t\\t<Constraint>EnforceWeather</Constraint>\\n\\t\\t\\t<Constraint>EnforceTwilight</Constraint>\\n\\t\\t</Constraints>\\n\\t\\t<CompletionCondition>\\n\\t\\t\\t<Condition>Loop</Condition>\\n\\t\\t</CompletionCondition>\\n\\t\\t<Steps>\\n\\t\\t\\t<Step>Track</Step>\\n\\t\\t\\t<Step>Align</Step>\\n\\t\\t</Steps>\\n\\t</Job>\\n\\t<Job>\\n\\t\\t<Name>Target</Name>\\n\\t\\t<Priority>10</Priority>\\n\\t\\t<Coordinates>\\n\\t\\t\\t<J2000RA></J2000RA>\\n\\t\\t\\t<J2000DE></J2000DE>\\n\\t\\t</Coordinates>\\n\\t\\t<PositionAngle></PositionAngle>\\n\\t\\t<Sequence>/home/tim/MMT/timdimm_tng/src/timdimm_tng/templates/timdimm_sequence.esq</Sequence>\\n\\t\\t<StartupCondition>\\n\\t\\t\\t<Condition>ASAP</Condition>\\n\\t\\t</StartupCondition>\\n\\t\\t<Constraints>\\n\\t\\t\\t<Constraint value=\"30\">MinimumAltitude</Constraint>\\n\\t\\t\\t<Constraint value=\"20\">MoonSeparation</Constraint>\\n\\t\\t\\t<Constraint>EnforceWeather</Constraint>\\n\\t\\t\\t<Constraint>EnforceTwilight</Constraint>\\n\\t\\t</Constraints>\\n\\t\\t<CompletionCondition>\\n\\t\\t\\t<Condition>Loop</Condition>\\n\\t\\t</CompletionCondition>\\n\\t\\t<Steps>\\n\\t\\t\\t<Step>Track</Step>\\n\\t\\t\\t<Step>Align</Step>\\n\\t\\t</Steps>\\n\\t</Job>\\n\\t<SchedulerAlgorithm value=\"1\"></SchedulerAlgorithm>\\n\\t<ErrorHandlingStrategy value=\"1\">\\n\\t\\t<delay>0</delay>\\n\\t</ErrorHandlingStrategy>\\n\\t<StartupProcedure>\\n\\t\\t<Procedure value=\"/home/tim/MMT/timdimm_tng/scripts/ekos/startup.py\">StartupScript</Procedure>\\n\\t\\t<Procedure>UnparkDome</Procedure>\\n\\t\\t<Procedure>UnparkMount</Procedure>\\n\\t</StartupProcedure>\\n\\t<ShutdownProcedure>\\n\\t\\t<Procedure>ParkMount</Procedure>\\n\\t\\t<Procedure>ParkDome</Procedure>\\n\\t\\t<Procedure value=\"/home/tim/MMT/timdimm_tng/scripts/ekos/shutdown.py\">ShutdownScript</Procedure>\\n\\t</ShutdownProcedure>\\n</SchedulerList>'"
      ]
     },
     "execution_count": 60,
     "metadata": {},
     "output_type": "execute_result"
    }
   ],
   "source": [
    "xmltodict.unparse(test, pretty=True)"
   ]
  },
  {
   "cell_type": "code",
   "execution_count": 59,
   "metadata": {},
   "outputs": [
    {
     "data": {
      "text/plain": [
       "{'SchedulerList': {'@version': '1.5', 'Profile': 'timdimm_sim', 'Job': [{'Name': 'Bet Hyi', 'Priority': '15', 'Coordinates': {'J2000RA': '6.437793155', 'J2000DE': '-77.25424612'}, 'PositionAngle': None, 'Sequence': '/home/tim/MMT/timdimm_tng/src/timdimm_tng/templates/timdimm_sequence.esq', 'StartupCondition': {'Condition': 'ASAP'}, 'Constraints': {'Constraint': [{'@value': '30', '#text': 'MinimumAltitude'}, {'@value': '20', '#text': 'MoonSeparation'}, 'EnforceWeather', 'EnforceTwilight']}, 'CompletionCondition': {'Condition': 'Loop'}, 'Steps': {'Step': ['Track', 'Align']}}, {'Name': 'Ankaa', 'Priority': '10', 'Coordinates': {'J2000RA': '6.571047515', 'J2000DE': '-42.305987194'}, 'PositionAngle': None, 'Sequence': '/home/tim/MMT/timdimm_tng/src/timdimm_tng/templates/timdimm_sequence.esq', 'StartupCondition': {'Condition': 'ASAP'}, 'Constraints': {'Constraint': [{'@value': '30', '#text': 'MinimumAltitude'}, {'@value': '20', '#text': 'MoonSeparation'}, 'EnforceWeather', 'EnforceTwilight']}, 'CompletionCondition': {'Condition': 'Loop'}, 'Steps': {'Step': ['Track', 'Align']}}, {'Name': 'Diphda', 'Priority': '10', 'Coordinates': {'J2000RA': '10.897378736', 'J2000DE': '-17.986606316'}, 'PositionAngle': None, 'Sequence': '/home/tim/MMT/timdimm_tng/src/timdimm_tng/templates/timdimm_sequence.esq', 'StartupCondition': {'Condition': 'ASAP'}, 'Constraints': {'Constraint': [{'@value': '30', '#text': 'MinimumAltitude'}, {'@value': '20', '#text': 'MoonSeparation'}, 'EnforceWeather', 'EnforceTwilight']}, 'CompletionCondition': {'Condition': 'Loop'}, 'Steps': {'Step': ['Track', 'Align']}}], 'SchedulerAlgorithm': {'@value': '1'}, 'ErrorHandlingStrategy': {'@value': '1', 'delay': '0'}, 'StartupProcedure': {'Procedure': [{'@value': '/home/tim/MMT/timdimm_tng/scripts/ekos/startup.py', '#text': 'StartupScript'}, 'UnparkDome', 'UnparkMount']}, 'ShutdownProcedure': {'Procedure': ['ParkMount', 'ParkDome', {'@value': '/home/tim/MMT/timdimm_tng/scripts/ekos/shutdown.py', '#text': 'ShutdownScript'}]}}}"
      ]
     },
     "execution_count": 59,
     "metadata": {},
     "output_type": "execute_result"
    }
   ],
   "source": [
    "sched"
   ]
  },
  {
   "cell_type": "code",
   "execution_count": null,
   "metadata": {},
   "outputs": [],
   "source": []
  }
 ],
 "metadata": {
  "kernelspec": {
   "display_name": "Python 3.10.4 ('fass')",
   "language": "python",
   "name": "python3"
  },
  "language_info": {
   "codemirror_mode": {
    "name": "ipython",
    "version": 3
   },
   "file_extension": ".py",
   "mimetype": "text/x-python",
   "name": "python",
   "nbconvert_exporter": "python",
   "pygments_lexer": "ipython3",
   "version": "3.11.4"
  },
  "orig_nbformat": 4,
  "vscode": {
   "interpreter": {
    "hash": "3314dab707ed1995ea8d60810174e799d30cde832f43ae63582cd42fb47fcea7"
   }
  }
 },
 "nbformat": 4,
 "nbformat_minor": 2
}
