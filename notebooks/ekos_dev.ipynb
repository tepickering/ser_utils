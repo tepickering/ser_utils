{
 "cells": [
  {
   "cell_type": "code",
   "execution_count": 1,
   "metadata": {},
   "outputs": [],
   "source": [
    "from struct import unpack\n",
    "from pathlib import Path\n",
    "from enum import Enum\n",
    "\n",
    "import json\n",
    "import xmltodict\n",
    "import numpy as np\n",
    "\n",
    "import matplotlib.pyplot as plt\n",
    "\n",
    "from astropy.time import Time\n",
    "import astropy.units as u\n",
    "from astropy.table import Table\n",
    "\n",
    "from timdimm_tng.scheduler import Sequence, Observation, Schedule, make_full_schedule"
   ]
  },
  {
   "cell_type": "code",
   "execution_count": 2,
   "metadata": {},
   "outputs": [],
   "source": [
    "%load_ext autoreload\n",
    "%autoreload 2\n",
    "%matplotlib widget"
   ]
  },
  {
   "cell_type": "code",
   "execution_count": 3,
   "metadata": {},
   "outputs": [
    {
     "data": {
      "text/html": [
       "<div><i>Table length=75</i>\n",
       "<table id=\"table140462404853200\" class=\"table-striped table-bordered table-condensed\">\n",
       "<thead><tr><th>HR</th><th>Name</th><th>RA2000</th><th>Dec2000</th><th>Vmag</th><th>B-V</th><th>SED</th><th>SpType</th><th>Duplicity</th><th>Coordinates</th></tr></thead>\n",
       "<thead><tr><th></th><th></th><th></th><th></th><th></th><th></th><th></th><th></th><th></th><th>deg,deg</th></tr></thead>\n",
       "<thead><tr><th>int64</th><th>str14</th><th>str8</th><th>str9</th><th>float64</th><th>float64</th><th>str3</th><th>str12</th><th>str15</th><th>SkyCoord</th></tr></thead>\n",
       "<tr><td>98</td><td>Bet Hyi</td><td>0:25:45</td><td>-77:15:15</td><td>2.8</td><td>0.62</td><td>G05</td><td>G2IV</td><td>--</td><td>6.437793155,-77.25424612</td></tr>\n",
       "<tr><td>99</td><td>Ankaa</td><td>0:26:17</td><td>-42:18:22</td><td>2.39</td><td>1.09</td><td>K03</td><td>K0III</td><td>0.1&quot; dm=0.0</td><td>6.571047515,-42.305987194</td></tr>\n",
       "<tr><td>188</td><td>Diphda</td><td>0:43:35</td><td>-17:59:12</td><td>2.04</td><td>1.02</td><td>K03</td><td>G9.5IIICH-1</td><td>--</td><td>10.897378736,-17.986606316</td></tr>\n",
       "<tr><td>472</td><td>Achernar</td><td>1:37:43</td><td>-57:14:12</td><td>0.46</td><td>-0.16</td><td>B55</td><td>B3Vpe</td><td>--</td><td>24.428522833,-57.236752806</td></tr>\n",
       "<tr><td>591</td><td>Alp Hyi</td><td>1:58:46</td><td>-61:34:11</td><td>2.86</td><td>0.28</td><td>F05</td><td>F0V</td><td>--</td><td>29.69224409758834,-61.56982215319751</td></tr>\n",
       "<tr><td>1790</td><td>Bellatrix</td><td>5:25:08</td><td>+06:20:59</td><td>1.64</td><td>-0.22</td><td>B05</td><td>B2III</td><td>179&quot; dm=10.5</td><td>81.282763557,6.349703264</td></tr>\n",
       "<tr><td>1865</td><td>Arneb</td><td>5:32:44</td><td>-17:49:20</td><td>2.58</td><td>0.21</td><td>F05</td><td>F0Ib</td><td>AB 36&quot; dm=8.5</td><td>83.18256716167,-17.82228927222</td></tr>\n",
       "<tr><td>1903</td><td>Alnilam</td><td>5:36:13</td><td>-01:12:07</td><td>1.7</td><td>-0.19</td><td>B05</td><td>B0Ia</td><td>180&quot; dm=8.7</td><td>84.053388941,-1.201919136</td></tr>\n",
       "<tr><td>1956</td><td>Phact</td><td>5:39:39</td><td>-34:04:27</td><td>2.64</td><td>-0.12</td><td>B55</td><td>B7IVe</td><td>14&quot; dm=9.7</td><td>84.9122543,-34.07410972</td></tr>\n",
       "<tr><td>...</td><td>...</td><td>...</td><td>...</td><td>...</td><td>...</td><td>...</td><td>...</td><td>...</td><td>...</td></tr>\n",
       "<tr><td>6879</td><td>Kaus Australis</td><td>18:24:10</td><td>-34:23:05</td><td>1.85</td><td>-0.03</td><td>A05</td><td>B9.5III</td><td>36&quot; dm=12.3</td><td>276.04299335,-34.38461649</td></tr>\n",
       "<tr><td>6913</td><td>Kaus Borealis</td><td>18:27:58</td><td>-25:25:18</td><td>2.81</td><td>1.04</td><td>K03</td><td>K1+IIIb</td><td>--</td><td>276.99266966,-25.4216985</td></tr>\n",
       "<tr><td>7121</td><td>Nunki</td><td>18:55:16</td><td>-26:17:48</td><td>2.02</td><td>-0.22</td><td>B05</td><td>B2.5V</td><td>309&quot; dm=7.4</td><td>283.816360406,-26.296724115</td></tr>\n",
       "<tr><td>7264</td><td>Pi Sgr</td><td>19:09:46</td><td>-21:01:25</td><td>2.89</td><td>0.35</td><td>F05</td><td>F2II</td><td>AB 0.1&quot; dm=0.0</td><td>287.440970525,-21.02361398194</td></tr>\n",
       "<tr><td>7790</td><td>Peacock</td><td>20:25:39</td><td>-56:44:06</td><td>1.94</td><td>-0.2</td><td>B05</td><td>B2IV</td><td>AB 245&quot; dm=7.1</td><td>306.41190437,-56.73508973</td></tr>\n",
       "<tr><td>8322</td><td>Deneb Algedi</td><td>21:47:02</td><td>-16:07:38</td><td>2.87</td><td>0.29</td><td>A05</td><td>Am</td><td>0.0&quot; dm=2.0</td><td>326.76018433,-16.12728709</td></tr>\n",
       "<tr><td>8353</td><td>Gam Gru</td><td>21:53:56</td><td>-37:21:54</td><td>3.01</td><td>-0.12</td><td>A05</td><td>B8III</td><td>--</td><td>328.48215125261004,-37.36487221701779</td></tr>\n",
       "<tr><td>8425</td><td>Alnair</td><td>22:08:14</td><td>-46:57:40</td><td>1.74</td><td>-0.13</td><td>B55</td><td>B7IV</td><td>28&quot; dm=10.1</td><td>332.0582697,-46.96097438</td></tr>\n",
       "<tr><td>8502</td><td>Alp Tuc</td><td>22:18:30</td><td>-60:15:35</td><td>2.86</td><td>1.39</td><td>K53</td><td>K3III</td><td>0.1&quot; dm=0.0</td><td>334.62546848872375,-60.25962954474834</td></tr>\n",
       "<tr><td>8728</td><td>Fomalhaut</td><td>22:57:39</td><td>-29:37:20</td><td>1.16</td><td>0.09</td><td>A55</td><td>A3V</td><td>--</td><td>344.412692721,-29.622237033</td></tr>\n",
       "</table></div>"
      ],
      "text/plain": [
       "<Table length=75>\n",
       "  HR       Name      ...   Duplicity                 Coordinates             \n",
       "                     ...                               deg,deg               \n",
       "int64     str14      ...     str15                     SkyCoord              \n",
       "----- -------------- ... -------------- -------------------------------------\n",
       "   98        Bet Hyi ...             --              6.437793155,-77.25424612\n",
       "   99          Ankaa ...    0.1\" dm=0.0             6.571047515,-42.305987194\n",
       "  188         Diphda ...             --            10.897378736,-17.986606316\n",
       "  472       Achernar ...             --            24.428522833,-57.236752806\n",
       "  591        Alp Hyi ...             --  29.69224409758834,-61.56982215319751\n",
       " 1790      Bellatrix ...   179\" dm=10.5              81.282763557,6.349703264\n",
       " 1865          Arneb ...  AB 36\" dm=8.5        83.18256716167,-17.82228927222\n",
       " 1903        Alnilam ...    180\" dm=8.7             84.053388941,-1.201919136\n",
       " 1956          Phact ...     14\" dm=9.7               84.9122543,-34.07410972\n",
       "  ...            ... ...            ...                                   ...\n",
       " 6879 Kaus Australis ...    36\" dm=12.3             276.04299335,-34.38461649\n",
       " 6913  Kaus Borealis ...             --              276.99266966,-25.4216985\n",
       " 7121          Nunki ...    309\" dm=7.4           283.816360406,-26.296724115\n",
       " 7264         Pi Sgr ... AB 0.1\" dm=0.0         287.440970525,-21.02361398194\n",
       " 7790        Peacock ... AB 245\" dm=7.1             306.41190437,-56.73508973\n",
       " 8322   Deneb Algedi ...    0.0\" dm=2.0             326.76018433,-16.12728709\n",
       " 8353        Gam Gru ...             -- 328.48215125261004,-37.36487221701779\n",
       " 8425         Alnair ...    28\" dm=10.1              332.0582697,-46.96097438\n",
       " 8502        Alp Tuc ...    0.1\" dm=0.0 334.62546848872375,-60.25962954474834\n",
       " 8728      Fomalhaut ...             --           344.412692721,-29.622237033"
      ]
     },
     "execution_count": 3,
     "metadata": {},
     "output_type": "execute_result"
    }
   ],
   "source": [
    "stars = Table.read(\"/home/tim/MMT/timdimm_tng/src/timdimm_tng/star_list.ecsv\")\n",
    "stars"
   ]
  },
  {
   "cell_type": "code",
   "execution_count": 15,
   "metadata": {},
   "outputs": [
    {
     "data": {
      "text/html": [
       "<div><i>Table length=75</i>\n",
       "<table id=\"table140462404853200\" class=\"table-striped table-bordered table-condensed\">\n",
       "<thead><tr><th>HR</th><th>Name</th><th>RA2000</th><th>Dec2000</th><th>Vmag</th><th>B-V</th><th>SED</th><th>SpType</th><th>Duplicity</th><th>Coordinates</th></tr></thead>\n",
       "<thead><tr><th></th><th></th><th></th><th></th><th></th><th></th><th></th><th></th><th></th><th>deg,deg</th></tr></thead>\n",
       "<thead><tr><th>int64</th><th>str14</th><th>str8</th><th>str9</th><th>float64</th><th>float64</th><th>str3</th><th>str12</th><th>str15</th><th>SkyCoord</th></tr></thead>\n",
       "<tr><td>2491</td><td>Sirius</td><td>6:45:09</td><td>-16:42:58</td><td>-1.46</td><td>0.0</td><td>A05</td><td>A1Vm</td><td>AB 11&quot; dm=10.3</td><td>101.287155333,-16.716115861</td></tr>\n",
       "<tr><td>2326</td><td>Canopus</td><td>6:23:57</td><td>-52:41:45</td><td>-0.72</td><td>0.15</td><td>F05</td><td>F0II</td><td>--</td><td>95.987957829,-52.695661384</td></tr>\n",
       "<tr><td>2943</td><td>Procyon</td><td>7:39:18</td><td>+05:13:30</td><td>0.38</td><td>0.42</td><td>F55</td><td>F5IV-V</td><td>AC 4.6&quot; dm=10.4</td><td>114.825497908,5.224987557</td></tr>\n",
       "<tr><td>472</td><td>Achernar</td><td>1:37:43</td><td>-57:14:12</td><td>0.46</td><td>-0.16</td><td>B55</td><td>B3Vpe</td><td>--</td><td>24.428522833,-57.236752806</td></tr>\n",
       "<tr><td>5056</td><td>Spica</td><td>13:25:12</td><td>-11:09:41</td><td>0.98</td><td>-0.23</td><td>B05</td><td>B1III-IV+B2V</td><td>O 0.0&quot; dm=1.5</td><td>201.298247362,-11.161319485</td></tr>\n",
       "<tr><td>8728</td><td>Fomalhaut</td><td>22:57:39</td><td>-29:37:20</td><td>1.16</td><td>0.09</td><td>A55</td><td>A3V</td><td>--</td><td>344.412692721,-29.622237033</td></tr>\n",
       "<tr><td>4853</td><td>Mimosa</td><td>12:47:43</td><td>-59:41:19</td><td>1.25</td><td>-0.23</td><td>B05</td><td>B0.5III</td><td>AC 372&quot; dm=6.0</td><td>191.930286562,-59.688771996</td></tr>\n",
       "<tr><td>6527</td><td>Shaula</td><td>17:33:37</td><td>-37:06:14</td><td>1.63</td><td>-0.22</td><td>B05</td><td>B2IV+B</td><td>AC 95&quot; dm=10.3</td><td>263.402167184,-37.103823551</td></tr>\n",
       "<tr><td>1790</td><td>Bellatrix</td><td>5:25:08</td><td>+06:20:59</td><td>1.64</td><td>-0.22</td><td>B05</td><td>B2III</td><td>179&quot; dm=10.5</td><td>81.282763557,6.349703264</td></tr>\n",
       "<tr><td>...</td><td>...</td><td>...</td><td>...</td><td>...</td><td>...</td><td>...</td><td>...</td><td>...</td><td>...</td></tr>\n",
       "<tr><td>2553</td><td>Tau Pup</td><td>6:49:56</td><td>-50:36:53</td><td>2.93</td><td>1.2</td><td>K03</td><td>K1III</td><td>--</td><td>102.48403810537876,-50.61453869751139</td></tr>\n",
       "<tr><td>6510</td><td>Alp Ara</td><td>17:31:51</td><td>-49:52:34</td><td>2.95</td><td>-0.17</td><td>B05</td><td>B2Vne</td><td>56&quot; dm=8.0</td><td>262.9603813675,-49.87614501139</td></tr>\n",
       "<tr><td>6746</td><td>Alnasl</td><td>18:05:49</td><td>-30:25:27</td><td>2.99</td><td>1.0</td><td>K03</td><td>K0III</td><td>--</td><td>271.452033745,-30.42408984944</td></tr>\n",
       "<tr><td>5020</td><td>Gam Hya</td><td>13:18:55</td><td>-23:10:18</td><td>3.0</td><td>0.92</td><td>K03</td><td>G8-IIIa</td><td>138&quot; dm=6.7</td><td>199.73040703832623,-23.171514006915</td></tr>\n",
       "<tr><td>8353</td><td>Gam Gru</td><td>21:53:56</td><td>-37:21:54</td><td>3.01</td><td>-0.12</td><td>A05</td><td>B8III</td><td>--</td><td>328.48215125261004,-37.36487221701779</td></tr>\n",
       "<tr><td>2653</td><td>Omi2 CMa</td><td>7:03:02</td><td>-23:50:00</td><td>3.02</td><td>-0.08</td><td>B55</td><td>B3Iab</td><td>--</td><td>105.75613381,-23.83329231</td></tr>\n",
       "<tr><td>2282</td><td>Furud</td><td>6:20:19</td><td>-30:03:48</td><td>3.02</td><td>-0.19</td><td>B05</td><td>B2.5V</td><td>176&quot; dm=4.6</td><td>95.07830016583,-30.06336673389</td></tr>\n",
       "<tr><td>6615</td><td>Iot1 Sco</td><td>17:47:35</td><td>-40:07:37</td><td>3.03</td><td>0.51</td><td>F05</td><td>F2Iae</td><td>38&quot; dm=9.9</td><td>266.89617137,-40.12699704</td></tr>\n",
       "<tr><td>5193</td><td>Mu  Cen</td><td>13:49:37</td><td>-42:28:26</td><td>3.04</td><td>-0.17</td><td>B05</td><td>B2IV-Ve</td><td>48&quot; dm=10.7</td><td>183.22449259474996,-44.47111811384001</td></tr>\n",
       "<tr><td>6247</td><td>Mu  Sco</td><td>16:51:52</td><td>-38:02:51</td><td>3.08</td><td>-0.2</td><td>B05</td><td>B1.5V+B6.5V</td><td>390&quot; dm=0.4</td><td>263.99560239483,-44.72771344381</td></tr>\n",
       "</table></div>"
      ],
      "text/plain": [
       "<Table length=75>\n",
       "  HR     Name   ...    Duplicity                 Coordinates             \n",
       "                ...                                deg,deg               \n",
       "int64   str14   ...      str15                     SkyCoord              \n",
       "----- --------- ... --------------- -------------------------------------\n",
       " 2491    Sirius ...  AB 11\" dm=10.3           101.287155333,-16.716115861\n",
       " 2326   Canopus ...              --            95.987957829,-52.695661384\n",
       " 2943   Procyon ... AC 4.6\" dm=10.4             114.825497908,5.224987557\n",
       "  472  Achernar ...              --            24.428522833,-57.236752806\n",
       " 5056     Spica ...   O 0.0\" dm=1.5           201.298247362,-11.161319485\n",
       " 8728 Fomalhaut ...              --           344.412692721,-29.622237033\n",
       " 4853    Mimosa ...  AC 372\" dm=6.0           191.930286562,-59.688771996\n",
       " 6527    Shaula ...  AC 95\" dm=10.3           263.402167184,-37.103823551\n",
       " 1790 Bellatrix ...    179\" dm=10.5              81.282763557,6.349703264\n",
       "  ...       ... ...             ...                                   ...\n",
       " 2553   Tau Pup ...              -- 102.48403810537876,-50.61453869751139\n",
       " 6510   Alp Ara ...      56\" dm=8.0        262.9603813675,-49.87614501139\n",
       " 6746    Alnasl ...              --         271.452033745,-30.42408984944\n",
       " 5020   Gam Hya ...     138\" dm=6.7   199.73040703832623,-23.171514006915\n",
       " 8353   Gam Gru ...              -- 328.48215125261004,-37.36487221701779\n",
       " 2653  Omi2 CMa ...              --             105.75613381,-23.83329231\n",
       " 2282     Furud ...     176\" dm=4.6        95.07830016583,-30.06336673389\n",
       " 6615  Iot1 Sco ...      38\" dm=9.9             266.89617137,-40.12699704\n",
       " 5193   Mu  Cen ...     48\" dm=10.7 183.22449259474996,-44.47111811384001\n",
       " 6247   Mu  Sco ...     390\" dm=0.4       263.99560239483,-44.72771344381"
      ]
     },
     "execution_count": 15,
     "metadata": {},
     "output_type": "execute_result"
    }
   ],
   "source": [
    "stars.sort(keys='Vmag')\n",
    "stars"
   ]
  },
  {
   "cell_type": "code",
   "execution_count": 19,
   "metadata": {},
   "outputs": [
    {
     "data": {
      "text/plain": [
       "{'SchedulerList': {'@version': '1.5', 'Profile': 'timdimm_sim', 'Job': [{'Name': 'Canopus', 'Priority': '17', 'Coordinates': {'J2000RA': '6.3991971886000005', 'J2000DE': '-52.695661384'}, 'PositionAngle': None, 'Sequence': '/home/tim/MMT/timdimm_tng/src/timdimm_tng/templates/timdimm_sequence.esq', 'StartupCondition': {'Condition': 'ASAP'}, 'Constraints': {'Constraint': [{'@value': '30', '#text': 'MinimumAltitude'}, {'@value': '20', '#text': 'MoonSeparation'}, 'EnforceWeather', 'EnforceTwilight']}, 'CompletionCondition': {'Condition': 'Loop'}, 'Steps': {'Step': ['Track', 'Align']}}, {'Name': 'Achernar', 'Priority': '13', 'Coordinates': {'J2000RA': '1.628568188866667', 'J2000DE': '-57.236752806'}, 'PositionAngle': None, 'Sequence': '/home/tim/MMT/timdimm_tng/src/timdimm_tng/templates/timdimm_sequence.esq', 'StartupCondition': {'Condition': 'ASAP'}, 'Constraints': {'Constraint': [{'@value': '30', '#text': 'MinimumAltitude'}, {'@value': '20', '#text': 'MoonSeparation'}, 'EnforceWeather', 'EnforceTwilight']}, 'CompletionCondition': {'Condition': 'Loop'}, 'Steps': {'Step': ['Track', 'Align']}}, {'Name': 'Fomalhaut', 'Priority': '10', 'Coordinates': {'J2000RA': '22.960846181400004', 'J2000DE': '-29.622237033'}, 'PositionAngle': None, 'Sequence': '/home/tim/MMT/timdimm_tng/src/timdimm_tng/templates/timdimm_sequence.esq', 'StartupCondition': {'Condition': 'ASAP'}, 'Constraints': {'Constraint': [{'@value': '30', '#text': 'MinimumAltitude'}, {'@value': '20', '#text': 'MoonSeparation'}, 'EnforceWeather', 'EnforceTwilight']}, 'CompletionCondition': {'Condition': 'Loop'}, 'Steps': {'Step': ['Track', 'Align']}}, {'Name': 'Mimosa', 'Priority': '9', 'Coordinates': {'J2000RA': '12.795352437466669', 'J2000DE': '-59.688771996'}, 'PositionAngle': None, 'Sequence': '/home/tim/MMT/timdimm_tng/src/timdimm_tng/templates/timdimm_sequence.esq', 'StartupCondition': {'Condition': 'ASAP'}, 'Constraints': {'Constraint': [{'@value': '30', '#text': 'MinimumAltitude'}, {'@value': '20', '#text': 'MoonSeparation'}, 'EnforceWeather', 'EnforceTwilight']}, 'CompletionCondition': {'Condition': 'Loop'}, 'Steps': {'Step': ['Track', 'Align']}}, {'Name': 'Shaula', 'Priority': '8', 'Coordinates': {'J2000RA': '17.56014447893334', 'J2000DE': '-37.103823551'}, 'PositionAngle': None, 'Sequence': '/home/tim/MMT/timdimm_tng/src/timdimm_tng/templates/timdimm_sequence.esq', 'StartupCondition': {'Condition': 'ASAP'}, 'Constraints': {'Constraint': [{'@value': '30', '#text': 'MinimumAltitude'}, {'@value': '20', '#text': 'MoonSeparation'}, 'EnforceWeather', 'EnforceTwilight']}, 'CompletionCondition': {'Condition': 'Loop'}, 'Steps': {'Step': ['Track', 'Align']}}, {'Name': 'Miaplacidus', 'Priority': '8', 'Coordinates': {'J2000RA': '9.219993738866668', 'J2000DE': '-69.717207597'}, 'PositionAngle': None, 'Sequence': '/home/tim/MMT/timdimm_tng/src/timdimm_tng/templates/timdimm_sequence.esq', 'StartupCondition': {'Condition': 'ASAP'}, 'Constraints': {'Constraint': [{'@value': '30', '#text': 'MinimumAltitude'}, {'@value': '20', '#text': 'MoonSeparation'}, 'EnforceWeather', 'EnforceTwilight']}, 'CompletionCondition': {'Condition': 'Loop'}, 'Steps': {'Step': ['Track', 'Align']}}, {'Name': 'Alnair', 'Priority': '8', 'Coordinates': {'J2000RA': '22.137217980000003', 'J2000DE': '-46.96097438'}, 'PositionAngle': None, 'Sequence': '/home/tim/MMT/timdimm_tng/src/timdimm_tng/templates/timdimm_sequence.esq', 'StartupCondition': {'Condition': 'ASAP'}, 'Constraints': {'Constraint': [{'@value': '30', '#text': 'MinimumAltitude'}, {'@value': '20', '#text': 'MoonSeparation'}, 'EnforceWeather', 'EnforceTwilight']}, 'CompletionCondition': {'Condition': 'Loop'}, 'Steps': {'Step': ['Track', 'Align']}}, {'Name': 'Wezen', 'Priority': '7', 'Coordinates': {'J2000RA': '7.139856680944668', 'J2000DE': '-26.39319957889'}, 'PositionAngle': None, 'Sequence': '/home/tim/MMT/timdimm_tng/src/timdimm_tng/templates/timdimm_sequence.esq', 'StartupCondition': {'Condition': 'ASAP'}, 'Constraints': {'Constraint': [{'@value': '30', '#text': 'MinimumAltitude'}, {'@value': '20', '#text': 'MoonSeparation'}, 'EnforceWeather', 'EnforceTwilight']}, 'CompletionCondition': {'Condition': 'Loop'}, 'Steps': {'Step': ['Track', 'Align']}}, {'Name': 'Kaus Australis', 'Priority': '7', 'Coordinates': {'J2000RA': '18.402866223333337', 'J2000DE': '-34.38461649'}, 'PositionAngle': None, 'Sequence': '/home/tim/MMT/timdimm_tng/src/timdimm_tng/templates/timdimm_sequence.esq', 'StartupCondition': {'Condition': 'ASAP'}, 'Constraints': {'Constraint': [{'@value': '30', '#text': 'MinimumAltitude'}, {'@value': '20', '#text': 'MoonSeparation'}, 'EnforceWeather', 'EnforceTwilight']}, 'CompletionCondition': {'Condition': 'Loop'}, 'Steps': {'Step': ['Track', 'Align']}}, {'Name': 'The Sco', 'Priority': '7', 'Coordinates': {'J2000RA': '17.62198266666667', 'J2000DE': '-42.997841'}, 'PositionAngle': None, 'Sequence': '/home/tim/MMT/timdimm_tng/src/timdimm_tng/templates/timdimm_sequence.esq', 'StartupCondition': {'Condition': 'ASAP'}, 'Constraints': {'Constraint': [{'@value': '30', '#text': 'MinimumAltitude'}, {'@value': '20', '#text': 'MoonSeparation'}, 'EnforceWeather', 'EnforceTwilight']}, 'CompletionCondition': {'Condition': 'Loop'}, 'Steps': {'Step': ['Track', 'Align']}}, {'Name': 'Atria', 'Priority': '7', 'Coordinates': {'J2000RA': '16.811081967333337', 'J2000DE': '-69.02771185'}, 'PositionAngle': None, 'Sequence': '/home/tim/MMT/timdimm_tng/src/timdimm_tng/templates/timdimm_sequence.esq', 'StartupCondition': {'Condition': 'ASAP'}, 'Constraints': {'Constraint': [{'@value': '30', '#text': 'MinimumAltitude'}, {'@value': '20', '#text': 'MoonSeparation'}, 'EnforceWeather', 'EnforceTwilight']}, 'CompletionCondition': {'Condition': 'Loop'}, 'Steps': {'Step': ['Track', 'Align']}}, {'Name': 'Peacock', 'Priority': '7', 'Coordinates': {'J2000RA': '20.427460291333336', 'J2000DE': '-56.73508973'}, 'PositionAngle': None, 'Sequence': '/home/tim/MMT/timdimm_tng/src/timdimm_tng/templates/timdimm_sequence.esq', 'StartupCondition': {'Condition': 'ASAP'}, 'Constraints': {'Constraint': [{'@value': '30', '#text': 'MinimumAltitude'}, {'@value': '20', '#text': 'MoonSeparation'}, 'EnforceWeather', 'EnforceTwilight']}, 'CompletionCondition': {'Condition': 'Loop'}, 'Steps': {'Step': ['Track', 'Align']}}, {'Name': 'Nunki', 'Priority': '6', 'Coordinates': {'J2000RA': '18.921090693733337', 'J2000DE': '-26.296724115'}, 'PositionAngle': None, 'Sequence': '/home/tim/MMT/timdimm_tng/src/timdimm_tng/templates/timdimm_sequence.esq', 'StartupCondition': {'Condition': 'ASAP'}, 'Constraints': {'Constraint': [{'@value': '30', '#text': 'MinimumAltitude'}, {'@value': '20', '#text': 'MoonSeparation'}, 'EnforceWeather', 'EnforceTwilight']}, 'CompletionCondition': {'Condition': 'Loop'}, 'Steps': {'Step': ['Track', 'Align']}}, {'Name': 'The Cen', 'Priority': '6', 'Coordinates': {'J2000RA': '14.111381133333335', 'J2000DE': '-36.369831'}, 'PositionAngle': None, 'Sequence': '/home/tim/MMT/timdimm_tng/src/timdimm_tng/templates/timdimm_sequence.esq', 'StartupCondition': {'Condition': 'ASAP'}, 'Constraints': {'Constraint': [{'@value': '30', '#text': 'MinimumAltitude'}, {'@value': '20', '#text': 'MoonSeparation'}, 'EnforceWeather', 'EnforceTwilight']}, 'CompletionCondition': {'Condition': 'Loop'}, 'Steps': {'Step': ['Track', 'Align']}}, {'Name': 'Gam Cen', 'Priority': '6', 'Coordinates': {'J2000RA': '12.69195557806667', 'J2000DE': '-48.959871515'}, 'PositionAngle': None, 'Sequence': '/home/tim/MMT/timdimm_tng/src/timdimm_tng/templates/timdimm_sequence.esq', 'StartupCondition': {'Condition': 'ASAP'}, 'Constraints': {'Constraint': [{'@value': '30', '#text': 'MinimumAltitude'}, {'@value': '20', '#text': 'MoonSeparation'}, 'EnforceWeather', 'EnforceTwilight']}, 'CompletionCondition': {'Condition': 'Loop'}, 'Steps': {'Step': ['Track', 'Align']}}, {'Name': 'Suhail', 'Priority': '6', 'Coordinates': {'J2000RA': '9.133266075866668', 'J2000DE': '-43.432590909'}, 'PositionAngle': None, 'Sequence': '/home/tim/MMT/timdimm_tng/src/timdimm_tng/templates/timdimm_sequence.esq', 'StartupCondition': {'Condition': 'ASAP'}, 'Constraints': {'Constraint': [{'@value': '30', '#text': 'MinimumAltitude'}, {'@value': '20', '#text': 'MoonSeparation'}, 'EnforceWeather', 'EnforceTwilight']}, 'CompletionCondition': {'Condition': 'Loop'}, 'Steps': {'Step': ['Track', 'Align']}}, {'Name': 'Aspidiske', 'Priority': '5', 'Coordinates': {'J2000RA': '9.284835238111334', 'J2000DE': '-59.27523202917'}, 'PositionAngle': None, 'Sequence': '/home/tim/MMT/timdimm_tng/src/timdimm_tng/templates/timdimm_sequence.esq', 'StartupCondition': {'Condition': 'ASAP'}, 'Constraints': {'Constraint': [{'@value': '30', '#text': 'MinimumAltitude'}, {'@value': '20', '#text': 'MoonSeparation'}, 'EnforceWeather', 'EnforceTwilight']}, 'CompletionCondition': {'Condition': 'Loop'}, 'Steps': {'Step': ['Track', 'Align']}}, {'Name': 'Eps Sco', 'Priority': '5', 'Coordinates': {'J2000RA': '16.836058559083337', 'J2000DE': '-34.29323159306'}, 'PositionAngle': None, 'Sequence': '/home/tim/MMT/timdimm_tng/src/timdimm_tng/templates/timdimm_sequence.esq', 'StartupCondition': {'Condition': 'ASAP'}, 'Constraints': {'Constraint': [{'@value': '30', '#text': 'MinimumAltitude'}, {'@value': '20', '#text': 'MoonSeparation'}, 'EnforceWeather', 'EnforceTwilight']}, 'CompletionCondition': {'Condition': 'Loop'}, 'Steps': {'Step': ['Track', 'Align']}}, {'Name': 'Alp Lup', 'Priority': '5', 'Coordinates': {'J2000RA': '14.698821051833336', 'J2000DE': '-47.38819874611'}, 'PositionAngle': None, 'Sequence': '/home/tim/MMT/timdimm_tng/src/timdimm_tng/templates/timdimm_sequence.esq', 'StartupCondition': {'Condition': 'ASAP'}, 'Constraints': {'Constraint': [{'@value': '30', '#text': 'MinimumAltitude'}, {'@value': '20', '#text': 'MoonSeparation'}, 'EnforceWeather', 'EnforceTwilight']}, 'CompletionCondition': {'Condition': 'Loop'}, 'Steps': {'Step': ['Track', 'Align']}}, {'Name': 'Eps Cen', 'Priority': '5', 'Coordinates': {'J2000RA': '13.664793815400001', 'J2000DE': '-53.466391146'}, 'PositionAngle': None, 'Sequence': '/home/tim/MMT/timdimm_tng/src/timdimm_tng/templates/timdimm_sequence.esq', 'StartupCondition': {'Condition': 'ASAP'}, 'Constraints': {'Constraint': [{'@value': '30', '#text': 'MinimumAltitude'}, {'@value': '20', '#text': 'MoonSeparation'}, 'EnforceWeather', 'EnforceTwilight']}, 'CompletionCondition': {'Condition': 'Loop'}, 'Steps': {'Step': ['Track', 'Align']}}, {'Name': 'Eta Cen', 'Priority': '5', 'Coordinates': {'J2000RA': '14.59178448916667', 'J2000DE': '-42.15782521722'}, 'PositionAngle': None, 'Sequence': '/home/tim/MMT/timdimm_tng/src/timdimm_tng/templates/timdimm_sequence.esq', 'StartupCondition': {'Condition': 'ASAP'}, 'Constraints': {'Constraint': [{'@value': '30', '#text': 'MinimumAltitude'}, {'@value': '20', '#text': 'MoonSeparation'}, 'EnforceWeather', 'EnforceTwilight']}, 'CompletionCondition': {'Condition': 'Loop'}, 'Steps': {'Step': ['Track', 'Align']}}, {'Name': 'Ankaa', 'Priority': '5', 'Coordinates': {'J2000RA': '0.4380698343333334', 'J2000DE': '-42.305987194'}, 'PositionAngle': None, 'Sequence': '/home/tim/MMT/timdimm_tng/src/timdimm_tng/templates/timdimm_sequence.esq', 'StartupCondition': {'Condition': 'ASAP'}, 'Constraints': {'Constraint': [{'@value': '30', '#text': 'MinimumAltitude'}, {'@value': '20', '#text': 'MoonSeparation'}, 'EnforceWeather', 'EnforceTwilight']}, 'CompletionCondition': {'Condition': 'Loop'}, 'Steps': {'Step': ['Track', 'Align']}}, {'Name': 'Kap Sco', 'Priority': '5', 'Coordinates': {'J2000RA': '17.708132000000003', 'J2000DE': '-39.029983076'}, 'PositionAngle': None, 'Sequence': '/home/tim/MMT/timdimm_tng/src/timdimm_tng/templates/timdimm_sequence.esq', 'StartupCondition': {'Condition': 'ASAP'}, 'Constraints': {'Constraint': [{'@value': '30', '#text': 'MinimumAltitude'}, {'@value': '20', '#text': 'MoonSeparation'}, 'EnforceWeather', 'EnforceTwilight']}, 'CompletionCondition': {'Condition': 'Loop'}, 'Steps': {'Step': ['Track', 'Align']}}, {'Name': 'Aludra', 'Priority': '5', 'Coordinates': {'J2000RA': '7.401583966733335', 'J2000DE': '-29.303105508'}, 'PositionAngle': None, 'Sequence': '/home/tim/MMT/timdimm_tng/src/timdimm_tng/templates/timdimm_sequence.esq', 'StartupCondition': {'Condition': 'ASAP'}, 'Constraints': {'Constraint': [{'@value': '30', '#text': 'MinimumAltitude'}, {'@value': '20', '#text': 'MoonSeparation'}, 'EnforceWeather', 'EnforceTwilight']}, 'CompletionCondition': {'Condition': 'Loop'}, 'Steps': {'Step': ['Track', 'Align']}}, {'Name': 'Kap Vel', 'Priority': '4', 'Coordinates': {'J2000RA': '9.368560447222002', 'J2000DE': '-55.01066713417'}, 'PositionAngle': None, 'Sequence': '/home/tim/MMT/timdimm_tng/src/timdimm_tng/templates/timdimm_sequence.esq', 'StartupCondition': {'Condition': 'ASAP'}, 'Constraints': {'Constraint': [{'@value': '30', '#text': 'MinimumAltitude'}, {'@value': '20', '#text': 'MoonSeparation'}, 'EnforceWeather', 'EnforceTwilight']}, 'CompletionCondition': {'Condition': 'Loop'}, 'Steps': {'Step': ['Track', 'Align']}}, {'Name': 'Zet Cen', 'Priority': '4', 'Coordinates': {'J2000RA': '13.925662679933335', 'J2000DE': '-47.288374511'}, 'PositionAngle': None, 'Sequence': '/home/tim/MMT/timdimm_tng/src/timdimm_tng/templates/timdimm_sequence.esq', 'StartupCondition': {'Condition': 'ASAP'}, 'Constraints': {'Constraint': [{'@value': '30', '#text': 'MinimumAltitude'}, {'@value': '20', '#text': 'MoonSeparation'}, 'EnforceWeather', 'EnforceTwilight']}, 'CompletionCondition': {'Condition': 'Loop'}, 'Steps': {'Step': ['Track', 'Align']}}, {'Name': 'Del Cen', 'Priority': '4', 'Coordinates': {'J2000RA': '12.139304899250003', 'J2000DE': '-50.72242739278'}, 'PositionAngle': None, 'Sequence': '/home/tim/MMT/timdimm_tng/src/timdimm_tng/templates/timdimm_sequence.esq', 'StartupCondition': {'Condition': 'ASAP'}, 'Constraints': {'Constraint': [{'@value': '30', '#text': 'MinimumAltitude'}, {'@value': '20', '#text': 'MoonSeparation'}, 'EnforceWeather', 'EnforceTwilight']}, 'CompletionCondition': {'Condition': 'Loop'}, 'Steps': {'Step': ['Track', 'Align']}}, {'Name': 'Phact', 'Priority': '4', 'Coordinates': {'J2000RA': '5.660816953333335', 'J2000DE': '-34.07410972'}, 'PositionAngle': None, 'Sequence': '/home/tim/MMT/timdimm_tng/src/timdimm_tng/templates/timdimm_sequence.esq', 'StartupCondition': {'Condition': 'ASAP'}, 'Constraints': {'Constraint': [{'@value': '30', '#text': 'MinimumAltitude'}, {'@value': '20', '#text': 'MoonSeparation'}, 'EnforceWeather', 'EnforceTwilight']}, 'CompletionCondition': {'Condition': 'Loop'}, 'Steps': {'Step': ['Track', 'Align']}}, {'Name': 'Bet Crv', 'Priority': '4', 'Coordinates': {'J2000RA': '12.573120811787085', 'J2000DE': '-23.39676021620222'}, 'PositionAngle': None, 'Sequence': '/home/tim/MMT/timdimm_tng/src/timdimm_tng/templates/timdimm_sequence.esq', 'StartupCondition': {'Condition': 'ASAP'}, 'Constraints': {'Constraint': [{'@value': '30', '#text': 'MinimumAltitude'}, {'@value': '20', '#text': 'MoonSeparation'}, 'EnforceWeather', 'EnforceTwilight']}, 'CompletionCondition': {'Condition': 'Loop'}, 'Steps': {'Step': ['Track', 'Align']}}, {'Name': 'Bet Lup', 'Priority': '4', 'Coordinates': {'J2000RA': '14.975534823333337', 'J2000DE': '-43.133963849'}, 'PositionAngle': None, 'Sequence': '/home/tim/MMT/timdimm_tng/src/timdimm_tng/templates/timdimm_sequence.esq', 'StartupCondition': {'Condition': 'ASAP'}, 'Constraints': {'Constraint': [{'@value': '30', '#text': 'MinimumAltitude'}, {'@value': '20', '#text': 'MoonSeparation'}, 'EnforceWeather', 'EnforceTwilight']}, 'CompletionCondition': {'Condition': 'Loop'}, 'Steps': {'Step': ['Track', 'Align']}}, {'Name': 'Alp Mus', 'Priority': '4', 'Coordinates': {'J2000RA': '12.619727191278002', 'J2000DE': '-69.13556478861'}, 'PositionAngle': None, 'Sequence': '/home/tim/MMT/timdimm_tng/src/timdimm_tng/templates/timdimm_sequence.esq', 'StartupCondition': {'Condition': 'ASAP'}, 'Constraints': {'Constraint': [{'@value': '30', '#text': 'MinimumAltitude'}, {'@value': '20', '#text': 'MoonSeparation'}, 'EnforceWeather', 'EnforceTwilight']}, 'CompletionCondition': {'Condition': 'Loop'}, 'Steps': {'Step': ['Track', 'Align']}}, {'Name': 'Lesath', 'Priority': '4', 'Coordinates': {'J2000RA': '17.512732534111336', 'J2000DE': '-37.29581347528'}, 'PositionAngle': None, 'Sequence': '/home/tim/MMT/timdimm_tng/src/timdimm_tng/templates/timdimm_sequence.esq', 'StartupCondition': {'Condition': 'ASAP'}, 'Constraints': {'Constraint': [{'@value': '30', '#text': 'MinimumAltitude'}, {'@value': '20', '#text': 'MoonSeparation'}, 'EnforceWeather', 'EnforceTwilight']}, 'CompletionCondition': {'Condition': 'Loop'}, 'Steps': {'Step': ['Track', 'Align']}}, {'Name': 'Mu  Vel', 'Priority': '4', 'Coordinates': {'J2000RA': '9.782224866666668', 'J2000DE': '-47.511578'}, 'PositionAngle': None, 'Sequence': '/home/tim/MMT/timdimm_tng/src/timdimm_tng/templates/timdimm_sequence.esq', 'StartupCondition': {'Condition': 'ASAP'}, 'Constraints': {'Constraint': [{'@value': '30', '#text': 'MinimumAltitude'}, {'@value': '20', '#text': 'MoonSeparation'}, 'EnforceWeather', 'EnforceTwilight']}, 'CompletionCondition': {'Condition': 'Loop'}, 'Steps': {'Step': ['Track', 'Align']}}, {'Name': 'Pi Pup', 'Priority': '4', 'Coordinates': {'J2000RA': '7.285710217000001', 'J2000DE': '-37.097471154'}, 'PositionAngle': None, 'Sequence': '/home/tim/MMT/timdimm_tng/src/timdimm_tng/templates/timdimm_sequence.esq', 'StartupCondition': {'Condition': 'ASAP'}, 'Constraints': {'Constraint': [{'@value': '30', '#text': 'MinimumAltitude'}, {'@value': '20', '#text': 'MoonSeparation'}, 'EnforceWeather', 'EnforceTwilight']}, 'CompletionCondition': {'Condition': 'Loop'}, 'Steps': {'Step': ['Track', 'Align']}}, {'Name': 'Kaus Media', 'Priority': '4', 'Coordinates': {'J2000RA': '18.349900804000004', 'J2000DE': '-29.82810226'}, 'PositionAngle': None, 'Sequence': '/home/tim/MMT/timdimm_tng/src/timdimm_tng/templates/timdimm_sequence.esq', 'StartupCondition': {'Condition': 'ASAP'}, 'Constraints': {'Constraint': [{'@value': '30', '#text': 'MinimumAltitude'}, {'@value': '20', '#text': 'MoonSeparation'}, 'EnforceWeather', 'EnforceTwilight']}, 'CompletionCondition': {'Condition': 'Loop'}, 'Steps': {'Step': ['Track', 'Align']}}, {'Name': 'Iot Cen', 'Priority': '3', 'Coordinates': {'J2000RA': '13.343281337669307', 'J2000DE': '-36.712304581225'}, 'PositionAngle': None, 'Sequence': '/home/tim/MMT/timdimm_tng/src/timdimm_tng/templates/timdimm_sequence.esq', 'StartupCondition': {'Condition': 'ASAP'}, 'Constraints': {'Constraint': [{'@value': '30', '#text': 'MinimumAltitude'}, {'@value': '20', '#text': 'MoonSeparation'}, 'EnforceWeather', 'EnforceTwilight']}, 'CompletionCondition': {'Condition': 'Loop'}, 'Steps': {'Step': ['Track', 'Align']}}, {'Name': 'The Car', 'Priority': '3', 'Coordinates': {'J2000RA': '10.715952800000002', 'J2000DE': '-64.394472'}, 'PositionAngle': None, 'Sequence': '/home/tim/MMT/timdimm_tng/src/timdimm_tng/templates/timdimm_sequence.esq', 'StartupCondition': {'Condition': 'ASAP'}, 'Constraints': {'Constraint': [{'@value': '30', '#text': 'MinimumAltitude'}, {'@value': '20', '#text': 'MoonSeparation'}, 'EnforceWeather', 'EnforceTwilight']}, 'CompletionCondition': {'Condition': 'Loop'}, 'Steps': {'Step': ['Track', 'Align']}}, {'Name': 'Bet Hyi', 'Priority': '3', 'Coordinates': {'J2000RA': '0.4291862103333334', 'J2000DE': '-77.25424612'}, 'PositionAngle': None, 'Sequence': '/home/tim/MMT/timdimm_tng/src/timdimm_tng/templates/timdimm_sequence.esq', 'StartupCondition': {'Condition': 'ASAP'}, 'Constraints': {'Constraint': [{'@value': '30', '#text': 'MinimumAltitude'}, {'@value': '20', '#text': 'MoonSeparation'}, 'EnforceWeather', 'EnforceTwilight']}, 'CompletionCondition': {'Condition': 'Loop'}, 'Steps': {'Step': ['Track', 'Align']}}, {'Name': 'Del Cru', 'Priority': '3', 'Coordinates': {'J2000RA': '12.252421799741', 'J2000DE': '-58.74892407683834'}, 'PositionAngle': None, 'Sequence': '/home/tim/MMT/timdimm_tng/src/timdimm_tng/templates/timdimm_sequence.esq', 'StartupCondition': {'Condition': 'ASAP'}, 'Constraints': {'Constraint': [{'@value': '30', '#text': 'MinimumAltitude'}, {'@value': '20', '#text': 'MoonSeparation'}, 'EnforceWeather', 'EnforceTwilight']}, 'CompletionCondition': {'Condition': 'Loop'}, 'Steps': {'Step': ['Track', 'Align']}}, {'Name': 'Kaus Borealis', 'Priority': '3', 'Coordinates': {'J2000RA': '18.466177977333338', 'J2000DE': '-25.4216985'}, 'PositionAngle': None, 'Sequence': '/home/tim/MMT/timdimm_tng/src/timdimm_tng/templates/timdimm_sequence.esq', 'StartupCondition': {'Condition': 'ASAP'}, 'Constraints': {'Constraint': [{'@value': '30', '#text': 'MinimumAltitude'}, {'@value': '20', '#text': 'MoonSeparation'}, 'EnforceWeather', 'EnforceTwilight']}, 'CompletionCondition': {'Condition': 'Loop'}, 'Steps': {'Step': ['Track', 'Align']}}, {'Name': 'Rho Pup', 'Priority': '3', 'Coordinates': {'J2000RA': '8.125735784305334', 'J2000DE': '-24.30432442944'}, 'PositionAngle': None, 'Sequence': '/home/tim/MMT/timdimm_tng/src/timdimm_tng/templates/timdimm_sequence.esq', 'StartupCondition': {'Condition': 'ASAP'}, 'Constraints': {'Constraint': [{'@value': '30', '#text': 'MinimumAltitude'}, {'@value': '20', '#text': 'MoonSeparation'}, 'EnforceWeather', 'EnforceTwilight']}, 'CompletionCondition': {'Condition': 'Loop'}, 'Steps': {'Step': ['Track', 'Align']}}, {'Name': 'Tau Sco', 'Priority': '3', 'Coordinates': {'J2000RA': '16.59804245916667', 'J2000DE': '-28.2160170875'}, 'PositionAngle': None, 'Sequence': '/home/tim/MMT/timdimm_tng/src/timdimm_tng/templates/timdimm_sequence.esq', 'StartupCondition': {'Condition': 'ASAP'}, 'Constraints': {'Constraint': [{'@value': '30', '#text': 'MinimumAltitude'}, {'@value': '20', '#text': 'MoonSeparation'}, 'EnforceWeather', 'EnforceTwilight']}, 'CompletionCondition': {'Condition': 'Loop'}, 'Steps': {'Step': ['Track', 'Align']}}, {'Name': 'Bet Ara', 'Priority': '3', 'Coordinates': {'J2000RA': '17.42166327925509', 'J2000DE': '-55.52988168777777'}, 'PositionAngle': None, 'Sequence': '/home/tim/MMT/timdimm_tng/src/timdimm_tng/templates/timdimm_sequence.esq', 'StartupCondition': {'Condition': 'ASAP'}, 'Constraints': {'Constraint': [{'@value': '30', '#text': 'MinimumAltitude'}, {'@value': '20', '#text': 'MoonSeparation'}, 'EnforceWeather', 'EnforceTwilight']}, 'CompletionCondition': {'Condition': 'Loop'}, 'Steps': {'Step': ['Track', 'Align']}}, {'Name': 'Bet TrA', 'Priority': '3', 'Coordinates': {'J2000RA': '15.919045018000004', 'J2000DE': '-63.43072654'}, 'PositionAngle': None, 'Sequence': '/home/tim/MMT/timdimm_tng/src/timdimm_tng/templates/timdimm_sequence.esq', 'StartupCondition': {'Condition': 'ASAP'}, 'Constraints': {'Constraint': [{'@value': '30', '#text': 'MinimumAltitude'}, {'@value': '20', '#text': 'MoonSeparation'}, 'EnforceWeather', 'EnforceTwilight']}, 'CompletionCondition': {'Condition': 'Loop'}, 'Steps': {'Step': ['Track', 'Align']}}, {'Name': 'Alp Hyi', 'Priority': '3', 'Coordinates': {'J2000RA': '1.979482939839223', 'J2000DE': '-61.56982215319751'}, 'PositionAngle': None, 'Sequence': '/home/tim/MMT/timdimm_tng/src/timdimm_tng/templates/timdimm_sequence.esq', 'StartupCondition': {'Condition': 'ASAP'}, 'Constraints': {'Constraint': [{'@value': '30', '#text': 'MinimumAltitude'}, {'@value': '20', '#text': 'MoonSeparation'}, 'EnforceWeather', 'EnforceTwilight']}, 'CompletionCondition': {'Condition': 'Loop'}, 'Steps': {'Step': ['Track', 'Align']}}, {'Name': 'Alp Tuc', 'Priority': '3', 'Coordinates': {'J2000RA': '22.30836456591492', 'J2000DE': '-60.25962954474834'}, 'PositionAngle': None, 'Sequence': '/home/tim/MMT/timdimm_tng/src/timdimm_tng/templates/timdimm_sequence.esq', 'StartupCondition': {'Condition': 'ASAP'}, 'Constraints': {'Constraint': [{'@value': '30', '#text': 'MinimumAltitude'}, {'@value': '20', '#text': 'MoonSeparation'}, 'EnforceWeather', 'EnforceTwilight']}, 'CompletionCondition': {'Condition': 'Loop'}, 'Steps': {'Step': ['Track', 'Align']}}, {'Name': 'Sig Sco', 'Priority': '3', 'Coordinates': {'J2000RA': '16.353143253722003', 'J2000DE': '-25.59279207667'}, 'PositionAngle': None, 'Sequence': '/home/tim/MMT/timdimm_tng/src/timdimm_tng/templates/timdimm_sequence.esq', 'StartupCondition': {'Condition': 'ASAP'}, 'Constraints': {'Constraint': [{'@value': '30', '#text': 'MinimumAltitude'}, {'@value': '20', '#text': 'MoonSeparation'}, 'EnforceWeather', 'EnforceTwilight']}, 'CompletionCondition': {'Condition': 'Loop'}, 'Steps': {'Step': ['Track', 'Align']}}, {'Name': 'Pi  Sco', 'Priority': '3', 'Coordinates': {'J2000RA': '15.980864788278003', 'J2000DE': '-26.114107945'}, 'PositionAngle': None, 'Sequence': '/home/tim/MMT/timdimm_tng/src/timdimm_tng/templates/timdimm_sequence.esq', 'StartupCondition': {'Condition': 'ASAP'}, 'Constraints': {'Constraint': [{'@value': '30', '#text': 'MinimumAltitude'}, {'@value': '20', '#text': 'MoonSeparation'}, 'EnforceWeather', 'EnforceTwilight']}, 'CompletionCondition': {'Condition': 'Loop'}, 'Steps': {'Step': ['Track', 'Align']}}, {'Name': 'Gam TrA', 'Priority': '3', 'Coordinates': {'J2000RA': '15.315161469237504', 'J2000DE': '-68.67954667374444'}, 'PositionAngle': None, 'Sequence': '/home/tim/MMT/timdimm_tng/src/timdimm_tng/templates/timdimm_sequence.esq', 'StartupCondition': {'Condition': 'ASAP'}, 'Constraints': {'Constraint': [{'@value': '30', '#text': 'MinimumAltitude'}, {'@value': '20', '#text': 'MoonSeparation'}, 'EnforceWeather', 'EnforceTwilight']}, 'CompletionCondition': {'Condition': 'Loop'}, 'Steps': {'Step': ['Track', 'Align']}}, {'Name': 'Pi Sgr', 'Priority': '3', 'Coordinates': {'J2000RA': '19.162731368333336', 'J2000DE': '-21.02361398194'}, 'PositionAngle': None, 'Sequence': '/home/tim/MMT/timdimm_tng/src/timdimm_tng/templates/timdimm_sequence.esq', 'StartupCondition': {'Condition': 'ASAP'}, 'Constraints': {'Constraint': [{'@value': '30', '#text': 'MinimumAltitude'}, {'@value': '20', '#text': 'MoonSeparation'}, 'EnforceWeather', 'EnforceTwilight']}, 'CompletionCondition': {'Condition': 'Loop'}, 'Steps': {'Step': ['Track', 'Align']}}, {'Name': 'Tau Pup', 'Priority': '3', 'Coordinates': {'J2000RA': '6.832269207025252', 'J2000DE': '-50.61453869751139'}, 'PositionAngle': None, 'Sequence': '/home/tim/MMT/timdimm_tng/src/timdimm_tng/templates/timdimm_sequence.esq', 'StartupCondition': {'Condition': 'ASAP'}, 'Constraints': {'Constraint': [{'@value': '30', '#text': 'MinimumAltitude'}, {'@value': '20', '#text': 'MoonSeparation'}, 'EnforceWeather', 'EnforceTwilight']}, 'CompletionCondition': {'Condition': 'Loop'}, 'Steps': {'Step': ['Track', 'Align']}}, {'Name': 'Alp Ara', 'Priority': '3', 'Coordinates': {'J2000RA': '17.53069209116667', 'J2000DE': '-49.87614501139'}, 'PositionAngle': None, 'Sequence': '/home/tim/MMT/timdimm_tng/src/timdimm_tng/templates/timdimm_sequence.esq', 'StartupCondition': {'Condition': 'ASAP'}, 'Constraints': {'Constraint': [{'@value': '30', '#text': 'MinimumAltitude'}, {'@value': '20', '#text': 'MoonSeparation'}, 'EnforceWeather', 'EnforceTwilight']}, 'CompletionCondition': {'Condition': 'Loop'}, 'Steps': {'Step': ['Track', 'Align']}}, {'Name': 'Alnasl', 'Priority': '3', 'Coordinates': {'J2000RA': '18.09680224966667', 'J2000DE': '-30.42408984944'}, 'PositionAngle': None, 'Sequence': '/home/tim/MMT/timdimm_tng/src/timdimm_tng/templates/timdimm_sequence.esq', 'StartupCondition': {'Condition': 'ASAP'}, 'Constraints': {'Constraint': [{'@value': '30', '#text': 'MinimumAltitude'}, {'@value': '20', '#text': 'MoonSeparation'}, 'EnforceWeather', 'EnforceTwilight']}, 'CompletionCondition': {'Condition': 'Loop'}, 'Steps': {'Step': ['Track', 'Align']}}, {'Name': 'Gam Hya', 'Priority': '2', 'Coordinates': {'J2000RA': '13.315360469221751', 'J2000DE': '-23.171514006915'}, 'PositionAngle': None, 'Sequence': '/home/tim/MMT/timdimm_tng/src/timdimm_tng/templates/timdimm_sequence.esq', 'StartupCondition': {'Condition': 'ASAP'}, 'Constraints': {'Constraint': [{'@value': '30', '#text': 'MinimumAltitude'}, {'@value': '20', '#text': 'MoonSeparation'}, 'EnforceWeather', 'EnforceTwilight']}, 'CompletionCondition': {'Condition': 'Loop'}, 'Steps': {'Step': ['Track', 'Align']}}, {'Name': 'Gam Gru', 'Priority': '2', 'Coordinates': {'J2000RA': '21.89881008350734', 'J2000DE': '-37.36487221701779'}, 'PositionAngle': None, 'Sequence': '/home/tim/MMT/timdimm_tng/src/timdimm_tng/templates/timdimm_sequence.esq', 'StartupCondition': {'Condition': 'ASAP'}, 'Constraints': {'Constraint': [{'@value': '30', '#text': 'MinimumAltitude'}, {'@value': '20', '#text': 'MoonSeparation'}, 'EnforceWeather', 'EnforceTwilight']}, 'CompletionCondition': {'Condition': 'Loop'}, 'Steps': {'Step': ['Track', 'Align']}}, {'Name': 'Omi2 CMa', 'Priority': '2', 'Coordinates': {'J2000RA': '7.050408920666667', 'J2000DE': '-23.83329231'}, 'PositionAngle': None, 'Sequence': '/home/tim/MMT/timdimm_tng/src/timdimm_tng/templates/timdimm_sequence.esq', 'StartupCondition': {'Condition': 'ASAP'}, 'Constraints': {'Constraint': [{'@value': '30', '#text': 'MinimumAltitude'}, {'@value': '20', '#text': 'MoonSeparation'}, 'EnforceWeather', 'EnforceTwilight']}, 'CompletionCondition': {'Condition': 'Loop'}, 'Steps': {'Step': ['Track', 'Align']}}, {'Name': 'Furud', 'Priority': '2', 'Coordinates': {'J2000RA': '6.338553344388668', 'J2000DE': '-30.06336673389'}, 'PositionAngle': None, 'Sequence': '/home/tim/MMT/timdimm_tng/src/timdimm_tng/templates/timdimm_sequence.esq', 'StartupCondition': {'Condition': 'ASAP'}, 'Constraints': {'Constraint': [{'@value': '30', '#text': 'MinimumAltitude'}, {'@value': '20', '#text': 'MoonSeparation'}, 'EnforceWeather', 'EnforceTwilight']}, 'CompletionCondition': {'Condition': 'Loop'}, 'Steps': {'Step': ['Track', 'Align']}}, {'Name': 'Iot1 Sco', 'Priority': '2', 'Coordinates': {'J2000RA': '17.793078091333335', 'J2000DE': '-40.12699704'}, 'PositionAngle': None, 'Sequence': '/home/tim/MMT/timdimm_tng/src/timdimm_tng/templates/timdimm_sequence.esq', 'StartupCondition': {'Condition': 'ASAP'}, 'Constraints': {'Constraint': [{'@value': '30', '#text': 'MinimumAltitude'}, {'@value': '20', '#text': 'MoonSeparation'}, 'EnforceWeather', 'EnforceTwilight']}, 'CompletionCondition': {'Condition': 'Loop'}, 'Steps': {'Step': ['Track', 'Align']}}, {'Name': 'Mu  Cen', 'Priority': '2', 'Coordinates': {'J2000RA': '12.214966172983333', 'J2000DE': '-44.47111811384001'}, 'PositionAngle': None, 'Sequence': '/home/tim/MMT/timdimm_tng/src/timdimm_tng/templates/timdimm_sequence.esq', 'StartupCondition': {'Condition': 'ASAP'}, 'Constraints': {'Constraint': [{'@value': '30', '#text': 'MinimumAltitude'}, {'@value': '20', '#text': 'MoonSeparation'}, 'EnforceWeather', 'EnforceTwilight']}, 'CompletionCondition': {'Condition': 'Loop'}, 'Steps': {'Step': ['Track', 'Align']}}, {'Name': 'Mu  Sco', 'Priority': '2', 'Coordinates': {'J2000RA': '17.599706826322002', 'J2000DE': '-44.72771344381'}, 'PositionAngle': None, 'Sequence': '/home/tim/MMT/timdimm_tng/src/timdimm_tng/templates/timdimm_sequence.esq', 'StartupCondition': {'Condition': 'ASAP'}, 'Constraints': {'Constraint': [{'@value': '30', '#text': 'MinimumAltitude'}, {'@value': '20', '#text': 'MoonSeparation'}, 'EnforceWeather', 'EnforceTwilight']}, 'CompletionCondition': {'Condition': 'Loop'}, 'Steps': {'Step': ['Track', 'Align']}}], 'SchedulerAlgorithm': {'@value': '1'}, 'ErrorHandlingStrategy': {'@value': '1', 'delay': '0'}, 'StartupProcedure': {'Procedure': [{'@value': '/home/tim/MMT/timdimm_tng/scripts/ekos/startup.py', '#text': 'StartupScript'}, 'UnparkDome', 'UnparkMount']}, 'ShutdownProcedure': {'Procedure': ['ParkMount', 'ParkDome', {'@value': '/home/tim/MMT/timdimm_tng/scripts/ekos/shutdown.py', '#text': 'ShutdownScript'}]}}}"
      ]
     },
     "execution_count": 19,
     "metadata": {},
     "output_type": "execute_result"
    }
   ],
   "source": [
    "make_full_schedule()"
   ]
  },
  {
   "cell_type": "code",
   "execution_count": 12,
   "metadata": {},
   "outputs": [
    {
     "data": {
      "text/plain": [
       "1.628568188866667"
      ]
     },
     "execution_count": 12,
     "metadata": {},
     "output_type": "execute_result"
    }
   ],
   "source": [
    "stars[3]['Coordinates'].ra.to(u.hourangle).value"
   ]
  },
  {
   "cell_type": "code",
   "execution_count": null,
   "metadata": {},
   "outputs": [],
   "source": []
  }
 ],
 "metadata": {
  "kernelspec": {
   "display_name": "Python 3.10.4 ('fass')",
   "language": "python",
   "name": "python3"
  },
  "language_info": {
   "codemirror_mode": {
    "name": "ipython",
    "version": 3
   },
   "file_extension": ".py",
   "mimetype": "text/x-python",
   "name": "python",
   "nbconvert_exporter": "python",
   "pygments_lexer": "ipython3",
   "version": "3.11.4"
  },
  "orig_nbformat": 4,
  "vscode": {
   "interpreter": {
    "hash": "3314dab707ed1995ea8d60810174e799d30cde832f43ae63582cd42fb47fcea7"
   }
  }
 },
 "nbformat": 4,
 "nbformat_minor": 2
}
