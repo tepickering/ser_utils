{
 "cells": [
  {
   "cell_type": "code",
   "execution_count": 1,
   "metadata": {},
   "outputs": [],
   "source": [
    "from struct import unpack\n",
    "from pathlib import Path\n",
    "from enum import Enum\n",
    "\n",
    "import json\n",
    "import xmltodict\n",
    "import numpy as np\n",
    "\n",
    "import matplotlib.pyplot as plt\n",
    "\n",
    "from astropy.time import Time\n",
    "import astropy.units as u\n",
    "\n",
    "from timdimm_tng.scheduler import Sequence, Observation, Schedule"
   ]
  },
  {
   "cell_type": "code",
   "execution_count": 2,
   "metadata": {},
   "outputs": [],
   "source": [
    "%load_ext autoreload\n",
    "%autoreload 2\n",
    "%matplotlib widget"
   ]
  },
  {
   "cell_type": "code",
   "execution_count": 8,
   "metadata": {},
   "outputs": [
    {
     "data": {
      "text/plain": [
       "{'SequenceQueue': {'@version': '2.5', 'Observer': 'timDIMM', 'GuideDeviation': {'@enabled': 'false', '#text': '2'}, 'GuideStartDeviation': {'@enabled': 'false', '#text': '2'}, 'Autofocus': {'@enabled': 'false', '#text': '0'}, 'RefocusOnTemperatureDelta': {'@enabled': 'false', '#text': '1'}, 'RefocusEveryN': {'@enabled': 'false', '#text': '60'}, 'RefocusOnMeridianFlip': {'@enabled': 'false'}, 'Job': {'Exposure': '0.001', 'Format': 'Mono', 'Encoding': 'FITS', 'Binning': {'X': '1', 'Y': '1'}, 'Frame': {'X': '0', 'Y': '0', 'W': '1608', 'H': '1104'}, 'Temperature': {'@force': 'false', '#text': '0'}, 'Filter': None, 'Type': 'Light', 'Prefix': {'FilterEnabled': '0', 'ExpEnabled': '0', 'TimeStampEnabled': '0'}, 'Count': '1', 'Delay': '0', 'PreCaptureScript': 'timdimm_precapture', 'PostCaptureScript': 'timdimm_postcapture', 'PreJobScript': 'timdimm_prejob', 'PostJobScript': 'timdimm_postjob', 'FITSDirectory': './', 'PlaceholderFormat': '/%t/%T/%F/%t_%T_%F', 'PlaceholderSuffix': '3', 'UploadMode': '0', 'Properties': None, 'Calibration': {'FlatSource': {'Type': 'Manual'}, 'FlatDuration': {'@dark': 'false', 'Type': 'Manual'}, 'PreMountPark': 'False', 'PreDomePark': 'False'}}}}"
      ]
     },
     "execution_count": 8,
     "metadata": {},
     "output_type": "execute_result"
    }
   ],
   "source": [
    "s = Sequence(template=\"/Users/tim/timdimm_test.esq\")\n",
    "s"
   ]
  },
  {
   "cell_type": "code",
   "execution_count": 9,
   "metadata": {},
   "outputs": [
    {
     "data": {
      "text/plain": [
       "{'Name': 'Target', 'Priority': '10', 'Coordinates': {'J2000RA': '0.0', 'J2000DE': '0.0'}, 'PositionAngle': '', 'Sequence': '/Users/tim/sequence.esq', 'StartupCondition': {'Condition': 'ASAP'}, 'Constraints': {'Constraint': [{'@value': '45', '#text': 'MinimumAltitude'}, 'EnforceTwilight', 'EnforceArtificialHorizon']}, 'CompletionCondition': {'Condition': {'@value': '100', '#text': 'Repeat'}}, 'Steps': {'Step': 'Track'}, 'Target': 'Target'}"
      ]
     },
     "execution_count": 9,
     "metadata": {},
     "output_type": "execute_result"
    }
   ],
   "source": [
    "Observation()"
   ]
  },
  {
   "cell_type": "code",
   "execution_count": 10,
   "metadata": {},
   "outputs": [
    {
     "data": {
      "text/plain": [
       "{'SchedulerList': {'@version': '1.5', 'Profile': 'Default', 'Job': [], 'SchedulerAlgorithm': {'@value': '0'}, 'ErrorHandlingStrategy': {'@value': '1', 'delay': '0'}, 'StartupProcedure': None, 'ShutdownProcedure': None}}"
      ]
     },
     "execution_count": 10,
     "metadata": {},
     "output_type": "execute_result"
    }
   ],
   "source": [
    "Schedule()"
   ]
  },
  {
   "cell_type": "code",
   "execution_count": null,
   "metadata": {},
   "outputs": [],
   "source": []
  }
 ],
 "metadata": {
  "kernelspec": {
   "display_name": "Python 3.10.4 ('fass')",
   "language": "python",
   "name": "python3"
  },
  "language_info": {
   "codemirror_mode": {
    "name": "ipython",
    "version": 3
   },
   "file_extension": ".py",
   "mimetype": "text/x-python",
   "name": "python",
   "nbconvert_exporter": "python",
   "pygments_lexer": "ipython3",
   "version": "3.11.4"
  },
  "orig_nbformat": 4,
  "vscode": {
   "interpreter": {
    "hash": "3314dab707ed1995ea8d60810174e799d30cde832f43ae63582cd42fb47fcea7"
   }
  }
 },
 "nbformat": 4,
 "nbformat_minor": 2
}
