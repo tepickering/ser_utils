{
 "cells": [
  {
   "cell_type": "code",
   "execution_count": 1,
   "metadata": {},
   "outputs": [],
   "source": [
    "import pydbus\n"
   ]
  },
  {
   "cell_type": "code",
   "execution_count": 2,
   "metadata": {},
   "outputs": [
    {
     "ename": "Error",
     "evalue": "g-spawn-exit-error-quark: Error spawning command line “dbus-launch --autolaunch=3521d3ff620fcf949ae702ad64af1070 --binary-syntax --close-stderr”: Child process exited with code 1 (1)",
     "output_type": "error",
     "traceback": [
      "\u001b[0;31m---------------------------------------------------------------------------\u001b[0m",
      "\u001b[0;31mError\u001b[0m                                     Traceback (most recent call last)",
      "Cell \u001b[0;32mIn[2], line 1\u001b[0m\n\u001b[0;32m----> 1\u001b[0m session_bus \u001b[39m=\u001b[39m pydbus\u001b[39m.\u001b[39mSessionBus()\n",
      "File \u001b[0;32m~/conda/envs/timdimm/lib/python3.11/site-packages/pydbus/bus.py:60\u001b[0m, in \u001b[0;36mSessionBus\u001b[0;34m()\u001b[0m\n\u001b[1;32m     59\u001b[0m \u001b[39mdef\u001b[39;00m \u001b[39mSessionBus\u001b[39m():\n\u001b[0;32m---> 60\u001b[0m \t\u001b[39mreturn\u001b[39;00m bus_get(Bus\u001b[39m.\u001b[39mType\u001b[39m.\u001b[39mSESSION)\n",
      "File \u001b[0;32m~/conda/envs/timdimm/lib/python3.11/site-packages/pydbus/bus.py:19\u001b[0m, in \u001b[0;36mbus_get\u001b[0;34m(type)\u001b[0m\n\u001b[1;32m     18\u001b[0m \u001b[39mdef\u001b[39;00m \u001b[39mbus_get\u001b[39m(\u001b[39mtype\u001b[39m):\n\u001b[0;32m---> 19\u001b[0m \t\u001b[39mreturn\u001b[39;00m Gio\u001b[39m.\u001b[39mbus_get_sync(\u001b[39mtype\u001b[39m, \u001b[39mNone\u001b[39;00m)\u001b[39m.\u001b[39mpydbus\n",
      "\u001b[0;31mError\u001b[0m: g-spawn-exit-error-quark: Error spawning command line “dbus-launch --autolaunch=3521d3ff620fcf949ae702ad64af1070 --binary-syntax --close-stderr”: Child process exited with code 1 (1)"
     ]
    }
   ],
   "source": [
    "session_bus = pydbus.SessionBus()"
   ]
  },
  {
   "cell_type": "code",
   "execution_count": null,
   "metadata": {},
   "outputs": [],
   "source": []
  }
 ],
 "metadata": {
  "kernelspec": {
   "display_name": "timdimm",
   "language": "python",
   "name": "python3"
  },
  "language_info": {
   "codemirror_mode": {
    "name": "ipython",
    "version": 3
   },
   "file_extension": ".py",
   "mimetype": "text/x-python",
   "name": "python",
   "nbconvert_exporter": "python",
   "pygments_lexer": "ipython3",
   "version": "3.11.4"
  },
  "orig_nbformat": 4
 },
 "nbformat": 4,
 "nbformat_minor": 2
}
